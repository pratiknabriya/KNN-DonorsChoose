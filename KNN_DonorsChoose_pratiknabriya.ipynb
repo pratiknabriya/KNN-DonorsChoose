{
 "cells": [
  {
   "cell_type": "markdown",
   "metadata": {
    "colab_type": "text",
    "id": "HS2XW1AYl-tZ"
   },
   "source": [
    "# DonorsChoose\n",
    "### Apply K-Nearest Neighbors (KNN) algorithm on DonorsChoose Dataset"
   ]
  },
  {
   "cell_type": "markdown",
   "metadata": {
    "colab_type": "text",
    "id": "1EdQCnzd_RVu"
   },
   "source": [
    "## 0. Importing libraries "
   ]
  },
  {
   "cell_type": "code",
   "execution_count": 0,
   "metadata": {
    "colab": {},
    "colab_type": "code",
    "id": "hrUei3dt5eu7"
   },
   "outputs": [],
   "source": [
    "# import necessary libraries \n",
    "\n",
    "%matplotlib inline\n",
    "import warnings \n",
    "warnings.filterwarnings(\"ignore\")\n",
    "\n",
    "import pandas as pd\n",
    "import numpy as np\n",
    "import matplotlib.pyplot as plt\n",
    "import seaborn as sns\n",
    "\n",
    "import sqlite3 \n",
    "import nltk\n",
    "import string\n",
    "import re\n",
    "import pickle\n",
    "\n",
    "from nltk.corpus import stopwords\n",
    "from nltk.stem import PorterStemmer\n",
    "from nltk.stem.wordnet import WordNetLemmatizer\n",
    "\n",
    "from gensim.models import Word2Vec\n",
    "from gensim.models import KeyedVectors\n",
    "\n",
    "from sklearn.feature_extraction.text import TfidfTransformer \n",
    "from sklearn.feature_extraction.text import TfidfVectorizer \n",
    "from sklearn.feature_extraction.text import CountVectorizer\n",
    "\n",
    "from collections import Counter\n",
    "from tqdm import tqdm\n",
    "import os\n",
    "\n",
    "from sklearn import metrics\n",
    "from sklearn.metrics import confusion_matrix\n",
    "from sklearn.metrics import roc_curve, auc"
   ]
  },
  {
   "cell_type": "code",
   "execution_count": 0,
   "metadata": {
    "colab": {
     "base_uri": "https://localhost:8080/",
     "height": 122
    },
    "colab_type": "code",
    "id": "maf9_WKLFFcq",
    "outputId": "8bec8d5d-fc64-4e30-fef6-9295c25eccf1"
   },
   "outputs": [
    {
     "name": "stdout",
     "output_type": "stream",
     "text": [
      "Go to this URL in a browser: https://accounts.google.com/o/oauth2/auth?client_id=947318989803-6bn6qk8qdgf4n4g3pfee6491hc0brc4i.apps.googleusercontent.com&redirect_uri=urn%3aietf%3awg%3aoauth%3a2.0%3aoob&response_type=code&scope=email%20https%3a%2f%2fwww.googleapis.com%2fauth%2fdocs.test%20https%3a%2f%2fwww.googleapis.com%2fauth%2fdrive%20https%3a%2f%2fwww.googleapis.com%2fauth%2fdrive.photos.readonly%20https%3a%2f%2fwww.googleapis.com%2fauth%2fpeopleapi.readonly\n",
      "\n",
      "Enter your authorization code:\n",
      "··········\n",
      "Mounted at /content/gdrive\n"
     ]
    }
   ],
   "source": [
    "# mount google drive \n",
    "\n",
    "from google.colab import drive \n",
    "drive.mount('/content/gdrive')"
   ]
  },
  {
   "cell_type": "markdown",
   "metadata": {
    "colab_type": "text",
    "id": "EZGeyeNp_BBQ"
   },
   "source": [
    "## 1.1 Reading Data"
   ]
  },
  {
   "cell_type": "code",
   "execution_count": 0,
   "metadata": {
    "colab": {},
    "colab_type": "code",
    "id": "XTVmT3GLCFxF"
   },
   "outputs": [],
   "source": [
    "# reading data from google drive \n",
    "project_data = pd.read_csv('/content/gdrive/My Drive/Donors_Choose_Dataset/train_data.csv')\n",
    "resource_data = pd.read_csv('/content/gdrive/My Drive/Donors_Choose_Dataset/resources.csv')"
   ]
  },
  {
   "cell_type": "code",
   "execution_count": 0,
   "metadata": {
    "colab": {
     "base_uri": "https://localhost:8080/",
     "height": 153
    },
    "colab_type": "code",
    "id": "B7_bdD1UDiqB",
    "outputId": "ca276d0d-b227-47fe-c2cf-05164d3ffda1"
   },
   "outputs": [
    {
     "name": "stdout",
     "output_type": "stream",
     "text": [
      "(109248, 17)\n",
      "- - - - - - - - - - - - - - - - - - - - - - - - - - - - - - - - - - - - - - - - - - - - - - - - - - \n",
      "['Unnamed: 0' 'id' 'teacher_id' 'teacher_prefix' 'school_state'\n",
      " 'project_submitted_datetime' 'project_grade_category'\n",
      " 'project_subject_categories' 'project_subject_subcategories'\n",
      " 'project_title' 'project_essay_1' 'project_essay_2' 'project_essay_3'\n",
      " 'project_essay_4' 'project_resource_summary'\n",
      " 'teacher_number_of_previously_posted_projects' 'project_is_approved']\n"
     ]
    }
   ],
   "source": [
    "print(project_data.shape)\n",
    "print(\"- \"*50)\n",
    "print(project_data.columns.values)"
   ]
  },
  {
   "cell_type": "code",
   "execution_count": 0,
   "metadata": {
    "colab": {},
    "colab_type": "code",
    "id": "o1ZIg53vFs29"
   },
   "outputs": [],
   "source": [
    "# randomly sample 50000 datapoints from the dataset \n",
    "\n",
    "project_data = project_data.sample(n = 50000, random_state = 42)"
   ]
  },
  {
   "cell_type": "code",
   "execution_count": 0,
   "metadata": {
    "colab": {
     "base_uri": "https://localhost:8080/",
     "height": 170
    },
    "colab_type": "code",
    "id": "881AV9t-Fxz1",
    "outputId": "9984a6a6-0051-4a79-97e7-6f141125bcc5"
   },
   "outputs": [
    {
     "name": "stdout",
     "output_type": "stream",
     "text": [
      "Number of data points in train data : (50000, 17)\n",
      "--------------------------------------------------\n",
      "\n",
      "The attributes of data : ['Unnamed: 0' 'id' 'teacher_id' 'teacher_prefix' 'school_state'\n",
      " 'project_submitted_datetime' 'project_grade_category'\n",
      " 'project_subject_categories' 'project_subject_subcategories'\n",
      " 'project_title' 'project_essay_1' 'project_essay_2' 'project_essay_3'\n",
      " 'project_essay_4' 'project_resource_summary'\n",
      " 'teacher_number_of_previously_posted_projects' 'project_is_approved']\n"
     ]
    }
   ],
   "source": [
    "print(\"Number of data points in train data :\", project_data.shape)\n",
    "print('-'*50)\n",
    "print(\"\\nThe attributes of data :\", project_data.columns.values)"
   ]
  },
  {
   "cell_type": "markdown",
   "metadata": {
    "colab_type": "text",
    "id": "X-hKwDyEF72d"
   },
   "source": [
    "### 1.1.1 Sorting the data as per the Date "
   ]
  },
  {
   "cell_type": "code",
   "execution_count": 0,
   "metadata": {
    "colab": {},
    "colab_type": "code",
    "id": "iFCOmf5cF0RO"
   },
   "outputs": [],
   "source": [
    "# how to replace elements in list python: https://stackoverflow.com/a/2582163/4084039\n",
    "\n",
    "cols = ['Date' if i == 'project_submitted_datetime' else i for i in list(project_data.columns)]\n",
    "project_data['Date'] = pd.to_datetime(project_data['project_submitted_datetime'])"
   ]
  },
  {
   "cell_type": "code",
   "execution_count": 0,
   "metadata": {
    "colab": {},
    "colab_type": "code",
    "id": "CghXcdMHF7EI"
   },
   "outputs": [],
   "source": [
    "# drop the existing datetime column\n",
    "project_data.drop('project_submitted_datetime', axis = 1, inplace = True)"
   ]
  },
  {
   "cell_type": "code",
   "execution_count": 0,
   "metadata": {
    "colab": {
     "base_uri": "https://localhost:8080/",
     "height": 250
    },
    "colab_type": "code",
    "id": "svg_rW3rGBnr",
    "outputId": "dc5679b9-eb9f-4fd4-ef59-1b3c1bc841cf"
   },
   "outputs": [
    {
     "data": {
      "text/html": [
       "<div>\n",
       "<style scoped>\n",
       "    .dataframe tbody tr th:only-of-type {\n",
       "        vertical-align: middle;\n",
       "    }\n",
       "\n",
       "    .dataframe tbody tr th {\n",
       "        vertical-align: top;\n",
       "    }\n",
       "\n",
       "    .dataframe thead th {\n",
       "        text-align: right;\n",
       "    }\n",
       "</style>\n",
       "<table border=\"1\" class=\"dataframe\">\n",
       "  <thead>\n",
       "    <tr style=\"text-align: right;\">\n",
       "      <th></th>\n",
       "      <th>Unnamed: 0</th>\n",
       "      <th>id</th>\n",
       "      <th>teacher_id</th>\n",
       "      <th>teacher_prefix</th>\n",
       "      <th>school_state</th>\n",
       "      <th>Date</th>\n",
       "      <th>project_grade_category</th>\n",
       "      <th>project_subject_categories</th>\n",
       "      <th>project_subject_subcategories</th>\n",
       "      <th>project_title</th>\n",
       "      <th>project_essay_1</th>\n",
       "      <th>project_essay_2</th>\n",
       "      <th>project_essay_3</th>\n",
       "      <th>project_essay_4</th>\n",
       "      <th>project_resource_summary</th>\n",
       "      <th>teacher_number_of_previously_posted_projects</th>\n",
       "      <th>project_is_approved</th>\n",
       "    </tr>\n",
       "  </thead>\n",
       "  <tbody>\n",
       "    <tr>\n",
       "      <th>55660</th>\n",
       "      <td>8393</td>\n",
       "      <td>p205479</td>\n",
       "      <td>2bf07ba08945e5d8b2a3f269b2b3cfe5</td>\n",
       "      <td>Mrs.</td>\n",
       "      <td>CA</td>\n",
       "      <td>2016-04-27 00:27:36</td>\n",
       "      <td>Grades PreK-2</td>\n",
       "      <td>Math &amp; Science</td>\n",
       "      <td>Applied Sciences, Health &amp; Life Science</td>\n",
       "      <td>Engineering STEAM into the Primary Classroom</td>\n",
       "      <td>I have been fortunate enough to use the Fairy ...</td>\n",
       "      <td>My students come from a variety of backgrounds...</td>\n",
       "      <td>Each month I try to do several science or STEM...</td>\n",
       "      <td>It is challenging to develop high quality scie...</td>\n",
       "      <td>My students need STEM kits to learn critical s...</td>\n",
       "      <td>53</td>\n",
       "      <td>1</td>\n",
       "    </tr>\n",
       "    <tr>\n",
       "      <th>76127</th>\n",
       "      <td>37728</td>\n",
       "      <td>p043609</td>\n",
       "      <td>3f60494c61921b3b43ab61bdde2904df</td>\n",
       "      <td>Ms.</td>\n",
       "      <td>UT</td>\n",
       "      <td>2016-04-27 00:31:25</td>\n",
       "      <td>Grades 3-5</td>\n",
       "      <td>Special Needs</td>\n",
       "      <td>Special Needs</td>\n",
       "      <td>Sensory Tools for Focus</td>\n",
       "      <td>Imagine being 8-9 years old. You're in your th...</td>\n",
       "      <td>Most of my students have autism, anxiety, anot...</td>\n",
       "      <td>It is tough to do more than one thing at a tim...</td>\n",
       "      <td>When my students are able to calm themselves d...</td>\n",
       "      <td>My students need Boogie Boards for quiet senso...</td>\n",
       "      <td>4</td>\n",
       "      <td>1</td>\n",
       "    </tr>\n",
       "  </tbody>\n",
       "</table>\n",
       "</div>"
      ],
      "text/plain": [
       "       Unnamed: 0  ... project_is_approved\n",
       "55660        8393  ...                   1\n",
       "76127       37728  ...                   1\n",
       "\n",
       "[2 rows x 17 columns]"
      ]
     },
     "execution_count": 23,
     "metadata": {
      "tags": []
     },
     "output_type": "execute_result"
    }
   ],
   "source": [
    "# sort dataframe based on time pandas python: https://stackoverflow.com/a/49702492/4084039\n",
    "project_data.sort_values(by = ['Date'], inplace = True)\n",
    "\n",
    "# re-order columns \n",
    "project_data = project_data[cols]\n",
    "project_data.head(2)"
   ]
  },
  {
   "cell_type": "code",
   "execution_count": 0,
   "metadata": {
    "colab": {
     "base_uri": "https://localhost:8080/",
     "height": 233
    },
    "colab_type": "code",
    "id": "bVyUVe9tGIHe",
    "outputId": "714362a0-5a51-446a-950e-7f9c4e539cb2"
   },
   "outputs": [
    {
     "data": {
      "text/html": [
       "<div>\n",
       "<style scoped>\n",
       "    .dataframe tbody tr th:only-of-type {\n",
       "        vertical-align: middle;\n",
       "    }\n",
       "\n",
       "    .dataframe tbody tr th {\n",
       "        vertical-align: top;\n",
       "    }\n",
       "\n",
       "    .dataframe thead th {\n",
       "        text-align: right;\n",
       "    }\n",
       "</style>\n",
       "<table border=\"1\" class=\"dataframe\">\n",
       "  <thead>\n",
       "    <tr style=\"text-align: right;\">\n",
       "      <th></th>\n",
       "      <th>Unnamed: 0</th>\n",
       "      <th>id</th>\n",
       "      <th>teacher_id</th>\n",
       "      <th>teacher_prefix</th>\n",
       "      <th>school_state</th>\n",
       "      <th>Date</th>\n",
       "      <th>project_grade_category</th>\n",
       "      <th>project_subject_categories</th>\n",
       "      <th>project_subject_subcategories</th>\n",
       "      <th>project_title</th>\n",
       "      <th>project_essay_1</th>\n",
       "      <th>project_essay_2</th>\n",
       "      <th>project_essay_3</th>\n",
       "      <th>project_essay_4</th>\n",
       "      <th>project_resource_summary</th>\n",
       "      <th>teacher_number_of_previously_posted_projects</th>\n",
       "      <th>project_is_approved</th>\n",
       "    </tr>\n",
       "  </thead>\n",
       "  <tbody>\n",
       "    <tr>\n",
       "      <th>39096</th>\n",
       "      <td>179833</td>\n",
       "      <td>p096829</td>\n",
       "      <td>c8c81a73e29ae3bdd4140be8ad0bea00</td>\n",
       "      <td>Mrs.</td>\n",
       "      <td>IL</td>\n",
       "      <td>2017-04-30 23:25:42</td>\n",
       "      <td>Grades 3-5</td>\n",
       "      <td>Math &amp; Science</td>\n",
       "      <td>Applied Sciences, Environmental Science</td>\n",
       "      <td>Bringing Agriculture and Sustainability to the...</td>\n",
       "      <td>We are a Title 1 school  650 total students. O...</td>\n",
       "      <td>These computers will populate the computer lab...</td>\n",
       "      <td>NaN</td>\n",
       "      <td>NaN</td>\n",
       "      <td>My students need 5 Windows Laptops so students...</td>\n",
       "      <td>0</td>\n",
       "      <td>1</td>\n",
       "    </tr>\n",
       "    <tr>\n",
       "      <th>78306</th>\n",
       "      <td>124250</td>\n",
       "      <td>p028318</td>\n",
       "      <td>1fff5a88945be8b2c728c6a85c31930f</td>\n",
       "      <td>Mrs.</td>\n",
       "      <td>CA</td>\n",
       "      <td>2017-04-30 23:45:08</td>\n",
       "      <td>Grades PreK-2</td>\n",
       "      <td>Literacy &amp; Language</td>\n",
       "      <td>Literacy, Literature &amp; Writing</td>\n",
       "      <td>News for Kids</td>\n",
       "      <td>My first graders are eager to learn about the ...</td>\n",
       "      <td>I have used these magazines in the past, and k...</td>\n",
       "      <td>NaN</td>\n",
       "      <td>NaN</td>\n",
       "      <td>My students need a subscription to Scholastic ...</td>\n",
       "      <td>2</td>\n",
       "      <td>1</td>\n",
       "    </tr>\n",
       "  </tbody>\n",
       "</table>\n",
       "</div>"
      ],
      "text/plain": [
       "       Unnamed: 0  ... project_is_approved\n",
       "39096      179833  ...                   1\n",
       "78306      124250  ...                   1\n",
       "\n",
       "[2 rows x 17 columns]"
      ]
     },
     "execution_count": 24,
     "metadata": {
      "tags": []
     },
     "output_type": "execute_result"
    }
   ],
   "source": [
    "project_data.tail(2)"
   ]
  },
  {
   "cell_type": "markdown",
   "metadata": {
    "colab_type": "text",
    "id": "Qt5aqqJxGSes"
   },
   "source": [
    "## 1.2 Data Pre-Processing "
   ]
  },
  {
   "cell_type": "markdown",
   "metadata": {
    "colab_type": "text",
    "id": "M-Ax7c8RGpiK"
   },
   "source": [
    "### 1.2.1 teacher_prefix"
   ]
  },
  {
   "cell_type": "code",
   "execution_count": 0,
   "metadata": {
    "colab": {
     "base_uri": "https://localhost:8080/",
     "height": 119
    },
    "colab_type": "code",
    "id": "sotxOglqGwMO",
    "outputId": "4af80ac4-6f06-4816-bd45-9c5532fa6f01"
   },
   "outputs": [
    {
     "data": {
      "text/plain": [
       "Mrs.       26188\n",
       "Ms.        17818\n",
       "Mr.         4907\n",
       "Teacher     1078\n",
       "Dr.            8\n",
       "Name: teacher_prefix, dtype: int64"
      ]
     },
     "execution_count": 26,
     "metadata": {
      "tags": []
     },
     "output_type": "execute_result"
    }
   ],
   "source": [
    "project_data['teacher_prefix'].value_counts()"
   ]
  },
  {
   "cell_type": "code",
   "execution_count": 0,
   "metadata": {
    "colab": {
     "base_uri": "https://localhost:8080/",
     "height": 185
    },
    "colab_type": "code",
    "id": "Jz8e80G9G0QT",
    "outputId": "bbf2dfae-7e81-4177-b359-1ab2f6e3d78a"
   },
   "outputs": [
    {
     "data": {
      "text/html": [
       "<div>\n",
       "<style scoped>\n",
       "    .dataframe tbody tr th:only-of-type {\n",
       "        vertical-align: middle;\n",
       "    }\n",
       "\n",
       "    .dataframe tbody tr th {\n",
       "        vertical-align: top;\n",
       "    }\n",
       "\n",
       "    .dataframe thead th {\n",
       "        text-align: right;\n",
       "    }\n",
       "</style>\n",
       "<table border=\"1\" class=\"dataframe\">\n",
       "  <thead>\n",
       "    <tr style=\"text-align: right;\">\n",
       "      <th></th>\n",
       "      <th>Unnamed: 0</th>\n",
       "      <th>id</th>\n",
       "      <th>teacher_id</th>\n",
       "      <th>teacher_prefix</th>\n",
       "      <th>school_state</th>\n",
       "      <th>Date</th>\n",
       "      <th>project_grade_category</th>\n",
       "      <th>project_subject_categories</th>\n",
       "      <th>project_subject_subcategories</th>\n",
       "      <th>project_title</th>\n",
       "      <th>project_essay_1</th>\n",
       "      <th>project_essay_2</th>\n",
       "      <th>project_essay_3</th>\n",
       "      <th>project_essay_4</th>\n",
       "      <th>project_resource_summary</th>\n",
       "      <th>teacher_number_of_previously_posted_projects</th>\n",
       "      <th>project_is_approved</th>\n",
       "    </tr>\n",
       "  </thead>\n",
       "  <tbody>\n",
       "    <tr>\n",
       "      <th>7820</th>\n",
       "      <td>17809</td>\n",
       "      <td>p180947</td>\n",
       "      <td>834f75f1b5e24bd10abe9c3dbf7ba12f</td>\n",
       "      <td>NaN</td>\n",
       "      <td>CA</td>\n",
       "      <td>2016-11-04 00:15:45</td>\n",
       "      <td>Grades 3-5</td>\n",
       "      <td>Literacy &amp; Language, Math &amp; Science</td>\n",
       "      <td>Literature &amp; Writing, Mathematics</td>\n",
       "      <td>1:7 Increasing Tech to Decrease Achievement Gaps</td>\n",
       "      <td>The children at Anna Yates Elementary school a...</td>\n",
       "      <td>My goal is to bring in 1 laptop for every 7 st...</td>\n",
       "      <td>NaN</td>\n",
       "      <td>NaN</td>\n",
       "      <td>My students need a classroom laptop that is ju...</td>\n",
       "      <td>1</td>\n",
       "      <td>1</td>\n",
       "    </tr>\n",
       "  </tbody>\n",
       "</table>\n",
       "</div>"
      ],
      "text/plain": [
       "      Unnamed: 0  ... project_is_approved\n",
       "7820       17809  ...                   1\n",
       "\n",
       "[1 rows x 17 columns]"
      ]
     },
     "execution_count": 27,
     "metadata": {
      "tags": []
     },
     "output_type": "execute_result"
    }
   ],
   "source": [
    "project_data[project_data['teacher_prefix'].isnull()]"
   ]
  },
  {
   "cell_type": "code",
   "execution_count": 0,
   "metadata": {
    "colab": {},
    "colab_type": "code",
    "id": "dxpd9LOlG2PO"
   },
   "outputs": [],
   "source": [
    "# Treat Null/NAN as a seperate category\n",
    "# http://queirozf.com/entries/one-hot-encoding-a-feature-on-a-pandas-dataframe-an-example\n",
    "\n",
    "project_data['teacher_prefix'].fillna('nan', inplace = True) "
   ]
  },
  {
   "cell_type": "code",
   "execution_count": 0,
   "metadata": {
    "colab": {},
    "colab_type": "code",
    "id": "hWytV8w0G4V3"
   },
   "outputs": [],
   "source": [
    "project_data['teacher_prefix'] = project_data['teacher_prefix'].str.replace('.', '')\n",
    "project_data['teacher_prefix'] = project_data['teacher_prefix'].str.lower()"
   ]
  },
  {
   "cell_type": "code",
   "execution_count": 0,
   "metadata": {
    "colab": {
     "base_uri": "https://localhost:8080/",
     "height": 136
    },
    "colab_type": "code",
    "id": "bK_rdgNWG7Je",
    "outputId": "6adc3054-820e-4d58-94f7-7f238782352b"
   },
   "outputs": [
    {
     "data": {
      "text/plain": [
       "mrs        26188\n",
       "ms         17818\n",
       "mr          4907\n",
       "teacher     1078\n",
       "dr             8\n",
       "nan            1\n",
       "Name: teacher_prefix, dtype: int64"
      ]
     },
     "execution_count": 30,
     "metadata": {
      "tags": []
     },
     "output_type": "execute_result"
    }
   ],
   "source": [
    "project_data['teacher_prefix'].value_counts()"
   ]
  },
  {
   "cell_type": "code",
   "execution_count": 0,
   "metadata": {
    "colab": {
     "base_uri": "https://localhost:8080/",
     "height": 34
    },
    "colab_type": "code",
    "id": "fa67yIdCG9aR",
    "outputId": "1b7c876f-ab73-4eb6-8d55-887b1d8fccbf"
   },
   "outputs": [
    {
     "data": {
      "text/plain": [
       "0"
      ]
     },
     "execution_count": 31,
     "metadata": {
      "tags": []
     },
     "output_type": "execute_result"
    }
   ],
   "source": [
    "project_data['teacher_prefix'].isnull().sum()"
   ]
  },
  {
   "cell_type": "markdown",
   "metadata": {
    "colab_type": "text",
    "id": "ae8eBr_DHEsI"
   },
   "source": [
    "### 1.2.2 school_state"
   ]
  },
  {
   "cell_type": "code",
   "execution_count": 0,
   "metadata": {
    "colab": {
     "base_uri": "https://localhost:8080/",
     "height": 901
    },
    "colab_type": "code",
    "id": "lKrOzdHJG_pc",
    "outputId": "74e41f65-e1b4-44f2-92d2-dd78fb242177"
   },
   "outputs": [
    {
     "data": {
      "text/plain": [
       "CA    7032\n",
       "TX    3383\n",
       "NY    3300\n",
       "FL    2839\n",
       "NC    2342\n",
       "IL    1999\n",
       "GA    1843\n",
       "SC    1838\n",
       "PA    1438\n",
       "MI    1431\n",
       "MO    1218\n",
       "IN    1191\n",
       "LA    1115\n",
       "MA    1111\n",
       "WA    1094\n",
       "OH    1089\n",
       "OK    1059\n",
       "AZ     993\n",
       "NJ     976\n",
       "VA     942\n",
       "WI     818\n",
       "AL     794\n",
       "UT     783\n",
       "TN     763\n",
       "CT     753\n",
       "MD     663\n",
       "KY     636\n",
       "NV     614\n",
       "MS     607\n",
       "OR     590\n",
       "MN     588\n",
       "CO     528\n",
       "AR     485\n",
       "IA     301\n",
       "ID     298\n",
       "KS     286\n",
       "NM     233\n",
       "DC     227\n",
       "ME     223\n",
       "WV     218\n",
       "HI     214\n",
       "AK     167\n",
       "DE     165\n",
       "NH     155\n",
       "NE     150\n",
       "RI     141\n",
       "SD     128\n",
       "MT     100\n",
       "ND      63\n",
       "WY      40\n",
       "VT      36\n",
       "Name: school_state, dtype: int64"
      ]
     },
     "execution_count": 32,
     "metadata": {
      "tags": []
     },
     "output_type": "execute_result"
    }
   ],
   "source": [
    "project_data['school_state'].value_counts()"
   ]
  },
  {
   "cell_type": "code",
   "execution_count": 0,
   "metadata": {
    "colab": {
     "base_uri": "https://localhost:8080/",
     "height": 34
    },
    "colab_type": "code",
    "id": "FxfvIpHpHIwa",
    "outputId": "fdef8a29-244b-45ab-d4a2-719d2198def1"
   },
   "outputs": [
    {
     "data": {
      "text/plain": [
       "0"
      ]
     },
     "execution_count": 33,
     "metadata": {
      "tags": []
     },
     "output_type": "execute_result"
    }
   ],
   "source": [
    "project_data['school_state'].isnull().sum()"
   ]
  },
  {
   "cell_type": "code",
   "execution_count": 0,
   "metadata": {
    "colab": {},
    "colab_type": "code",
    "id": "aJpOPglEHLow"
   },
   "outputs": [],
   "source": [
    "project_data['school_state'] = project_data['school_state'].str.lower()"
   ]
  },
  {
   "cell_type": "code",
   "execution_count": 0,
   "metadata": {
    "colab": {
     "base_uri": "https://localhost:8080/",
     "height": 102
    },
    "colab_type": "code",
    "id": "tK3wrKMWHPmA",
    "outputId": "3a87e60a-3301-43c3-8de4-c3ccde4b1339"
   },
   "outputs": [
    {
     "data": {
      "text/plain": [
       "array(['ca', 'ut', 'ga', 'wa', 'oh', 'mo', 'va', 'ny', 'md', 'ms', 'az',\n",
       "       'sc', 'ok', 'pa', 'wv', 'co', 'nc', 'fl', 'ma', 'tx', 'al', 'tn',\n",
       "       'nj', 'la', 'ct', 'in', 'ar', 'il', 'mi', 'ky', 'or', 'ak', 'ia',\n",
       "       'wi', 'mt', 'mn', 'dc', 'nv', 'ri', 'nh', 'ks', 'id', 'sd', 'ne',\n",
       "       'nm', 'hi', 'me', 'nd', 'de', 'vt', 'wy'], dtype=object)"
      ]
     },
     "execution_count": 35,
     "metadata": {
      "tags": []
     },
     "output_type": "execute_result"
    }
   ],
   "source": [
    "project_data['school_state'].unique()"
   ]
  },
  {
   "cell_type": "markdown",
   "metadata": {
    "colab_type": "text",
    "id": "y9JgTF2oIPVY"
   },
   "source": [
    "### 1.2.3 project_grade_category"
   ]
  },
  {
   "cell_type": "code",
   "execution_count": 0,
   "metadata": {
    "colab": {
     "base_uri": "https://localhost:8080/",
     "height": 102
    },
    "colab_type": "code",
    "id": "yVNYsfh5ITDZ",
    "outputId": "e69cef6b-f0c0-4e54-d1a0-644ca58e9af7"
   },
   "outputs": [
    {
     "data": {
      "text/plain": [
       "Grades PreK-2    20183\n",
       "Grades 3-5       17084\n",
       "Grades 6-8        7694\n",
       "Grades 9-12       5039\n",
       "Name: project_grade_category, dtype: int64"
      ]
     },
     "execution_count": 37,
     "metadata": {
      "tags": []
     },
     "output_type": "execute_result"
    }
   ],
   "source": [
    "project_data['project_grade_category'].value_counts()"
   ]
  },
  {
   "cell_type": "code",
   "execution_count": 0,
   "metadata": {
    "colab": {
     "base_uri": "https://localhost:8080/",
     "height": 34
    },
    "colab_type": "code",
    "id": "Nqc8fdGyIVGt",
    "outputId": "54420626-7653-454e-8a95-96492e433a1f"
   },
   "outputs": [
    {
     "data": {
      "text/plain": [
       "0"
      ]
     },
     "execution_count": 38,
     "metadata": {
      "tags": []
     },
     "output_type": "execute_result"
    }
   ],
   "source": [
    "project_data['project_grade_category'].isnull().sum()"
   ]
  },
  {
   "cell_type": "code",
   "execution_count": 0,
   "metadata": {
    "colab": {},
    "colab_type": "code",
    "id": "35nRQJ1RIXSs"
   },
   "outputs": [],
   "source": [
    "project_data['project_grade_category'] = project_data['project_grade_category'].str.replace(' ', '_')\n",
    "project_data['project_grade_category'] = project_data['project_grade_category'].str.replace('-', '_')\n",
    "project_data['project_grade_category'] = project_data['project_grade_category'].str.lower()"
   ]
  },
  {
   "cell_type": "code",
   "execution_count": 0,
   "metadata": {
    "colab": {
     "base_uri": "https://localhost:8080/",
     "height": 102
    },
    "colab_type": "code",
    "id": "FDk58zCuIYzu",
    "outputId": "45f77d06-7998-42ee-9f07-242b390510b8"
   },
   "outputs": [
    {
     "data": {
      "text/plain": [
       "grades_prek_2    20183\n",
       "grades_3_5       17084\n",
       "grades_6_8        7694\n",
       "grades_9_12       5039\n",
       "Name: project_grade_category, dtype: int64"
      ]
     },
     "execution_count": 40,
     "metadata": {
      "tags": []
     },
     "output_type": "execute_result"
    }
   ],
   "source": [
    "project_data['project_grade_category'].value_counts()"
   ]
  },
  {
   "cell_type": "markdown",
   "metadata": {
    "colab_type": "text",
    "id": "7qobiTGXIf-N"
   },
   "source": [
    "### 1.2.4 project_subject_categories"
   ]
  },
  {
   "cell_type": "code",
   "execution_count": 0,
   "metadata": {
    "colab": {},
    "colab_type": "code",
    "id": "vInvBOqEIcZp"
   },
   "outputs": [],
   "source": [
    "categories = list(project_data['project_subject_categories'].values)\n",
    "\n",
    "# https://stackoverflow.com/questions/23669024/how-to-strip-a-specific-word-from-a-string\n",
    "# https://stackoverflow.com/questions/8270092/remove-all-whitespace-in-a-string-in-python\n",
    "# remove special characters from list of strings python: https://stackoverflow.com/a/47301924/4084039\n",
    "\n",
    "cat_list = []\n",
    "for i in categories:\n",
    "    temp = \"\"\n",
    "    # consider we have text like this \"Math & Science, Warmth, Care & Hunger\"\n",
    "    for j in i.split(','): # it will split it in three parts [\"Math & Science\", \"Warmth\", \"Care & Hunger\"] \n",
    "        if 'The' in j.split(): # this will split each of the catogory based on space \"Math & Science\"=> \"Math\",\"&\", \"Science\"\n",
    "            j = j.replace('The', '') # if we have the words \"The\" we are going to replace it with ''(i.e removing 'The')\n",
    "        j = j.replace(' ','') # we are replacing all the ' '(space) with ''(empty) ex:\"Math & Science\"=>\"Math&Science\"\n",
    "        temp = temp + j.strip() + \" \" #\" abc \".strip() will return \"abc\", remove the trailing spaces\n",
    "        temp = temp.replace('&','_') # we are replacing the '&' value to '_'\n",
    "    cat_list.append(temp.strip())"
   ]
  },
  {
   "cell_type": "code",
   "execution_count": 0,
   "metadata": {
    "colab": {},
    "colab_type": "code",
    "id": "alYFomy4Ij8p"
   },
   "outputs": [],
   "source": [
    "project_data['clean_categories'] = cat_list\n",
    "project_data.drop('project_subject_categories', axis = 1, inplace = True)"
   ]
  },
  {
   "cell_type": "code",
   "execution_count": 0,
   "metadata": {
    "colab": {
     "base_uri": "https://localhost:8080/",
     "height": 119
    },
    "colab_type": "code",
    "id": "nJOTIf2GIoNv",
    "outputId": "c88b46ff-1365-4b14-c2f8-ea91f6b9d1b7"
   },
   "outputs": [
    {
     "data": {
      "text/plain": [
       "55660                   Math_Science\n",
       "76127                   SpecialNeeds\n",
       "473                  AppliedLearning\n",
       "41558              Literacy_Language\n",
       "29891    Math_Science History_Civics\n",
       "Name: clean_categories, dtype: object"
      ]
     },
     "execution_count": 43,
     "metadata": {
      "tags": []
     },
     "output_type": "execute_result"
    }
   ],
   "source": [
    "project_data['clean_categories'].head()"
   ]
  },
  {
   "cell_type": "code",
   "execution_count": 0,
   "metadata": {
    "colab": {},
    "colab_type": "code",
    "id": "7xYWFRqKIqCd"
   },
   "outputs": [],
   "source": [
    "# count of all the words in corpus (https://stackoverflow.com/a/22898595/4084039)\n",
    "my_counter = Counter()\n",
    "for word in project_data['clean_categories'].values:\n",
    "    my_counter.update(word.split())"
   ]
  },
  {
   "cell_type": "code",
   "execution_count": 0,
   "metadata": {
    "colab": {
     "base_uri": "https://localhost:8080/",
     "height": 170
    },
    "colab_type": "code",
    "id": "KCXMJsjSIr7Q",
    "outputId": "c3344be9-caf1-415c-be60-7c77f8e3b33d"
   },
   "outputs": [
    {
     "data": {
      "text/plain": [
       "{'AppliedLearning': 5484,\n",
       " 'Care_Hunger': 662,\n",
       " 'Health_Sports': 6560,\n",
       " 'History_Civics': 2714,\n",
       " 'Literacy_Language': 23761,\n",
       " 'Math_Science': 19004,\n",
       " 'Music_Arts': 4772,\n",
       " 'SpecialNeeds': 6294,\n",
       " 'Warmth': 662}"
      ]
     },
     "execution_count": 45,
     "metadata": {
      "tags": []
     },
     "output_type": "execute_result"
    }
   ],
   "source": [
    "cat_dict = dict(my_counter)\n",
    "sorted_cat_dict = dict(sorted(cat_dict.items(), key = lambda kv: kv[1]))\n",
    "sorted_cat_dict"
   ]
  },
  {
   "cell_type": "markdown",
   "metadata": {
    "colab_type": "text",
    "id": "63NM0YMdIyjS"
   },
   "source": [
    "### 1.2.5 project_subject_subcategories "
   ]
  },
  {
   "cell_type": "code",
   "execution_count": 0,
   "metadata": {
    "colab": {},
    "colab_type": "code",
    "id": "y8sbW26IIu52"
   },
   "outputs": [],
   "source": [
    "sub_categories = list(project_data['project_subject_subcategories'].values)\n",
    "\n",
    "sub_cat_list = []\n",
    "for i in sub_categories:\n",
    "    temp = \"\"\n",
    "    # Consider we have a text like Applied Sciences, Health & Life Science\n",
    "    for j in i.split(','):  # ['Applied Sciences', 'Health & Life Science']\n",
    "        if 'The' in j.split():\n",
    "            j = j.replace('The', '') # replace 'The' in the text with a blank \n",
    "        j = j.replace(' ','') # ['AppliedSciences', 'Health&LifeScience']\n",
    "        temp = temp + j.strip() + \" \"\n",
    "        temp = temp.replace('&', '_')\n",
    "    \n",
    "    sub_cat_list.append(temp.strip())\n",
    "    \n",
    "project_data['clean_subcategories'] = sub_cat_list\n",
    "project_data.drop(['project_subject_subcategories'], axis=1, inplace=True)"
   ]
  },
  {
   "cell_type": "code",
   "execution_count": 0,
   "metadata": {
    "colab": {},
    "colab_type": "code",
    "id": "IVS1mVriI09S"
   },
   "outputs": [],
   "source": [
    "my_counter2 = Counter()\n",
    "for word in project_data['clean_subcategories'].values:\n",
    "    my_counter2.update(word.split())\n",
    "    \n",
    "sub_cat_dict = dict(my_counter2)\n",
    "sorted_sub_cat_dict = dict(sorted(sub_cat_dict.items(), key = lambda kv: kv[1]))"
   ]
  },
  {
   "cell_type": "code",
   "execution_count": 0,
   "metadata": {
    "colab": {
     "base_uri": "https://localhost:8080/",
     "height": 119
    },
    "colab_type": "code",
    "id": "p0frq1aoI2cr",
    "outputId": "91243514-1366-49f1-a44f-8b97b354bdd7"
   },
   "outputs": [
    {
     "data": {
      "text/plain": [
       "55660    AppliedSciences Health_LifeScience\n",
       "76127                          SpecialNeeds\n",
       "473                        EarlyDevelopment\n",
       "41558                              Literacy\n",
       "29891            Mathematics SocialSciences\n",
       "Name: clean_subcategories, dtype: object"
      ]
     },
     "execution_count": 48,
     "metadata": {
      "tags": []
     },
     "output_type": "execute_result"
    }
   ],
   "source": [
    "project_data['clean_subcategories'].head()"
   ]
  },
  {
   "cell_type": "code",
   "execution_count": 0,
   "metadata": {
    "colab": {
     "base_uri": "https://localhost:8080/",
     "height": 527
    },
    "colab_type": "code",
    "id": "914SZBLiI34P",
    "outputId": "452fc147-09ba-4de1-a5d2-3663157db6fb"
   },
   "outputs": [
    {
     "data": {
      "text/plain": [
       "{'AppliedSciences': 4910,\n",
       " 'Care_Hunger': 662,\n",
       " 'CharacterEducation': 950,\n",
       " 'Civics_Government': 369,\n",
       " 'College_CareerPrep': 1134,\n",
       " 'CommunityService': 215,\n",
       " 'ESL': 1928,\n",
       " 'EarlyDevelopment': 1944,\n",
       " 'Economics': 126,\n",
       " 'EnvironmentalScience': 2557,\n",
       " 'Extracurricular': 361,\n",
       " 'FinancialLiteracy': 251,\n",
       " 'ForeignLanguages': 402,\n",
       " 'Gym_Fitness': 2115,\n",
       " 'Health_LifeScience': 1971,\n",
       " 'Health_Wellness': 4665,\n",
       " 'History_Geography': 1452,\n",
       " 'Literacy': 15364,\n",
       " 'Literature_Writing': 10100,\n",
       " 'Mathematics': 12907,\n",
       " 'Music': 1441,\n",
       " 'NutritionEducation': 605,\n",
       " 'Other': 1066,\n",
       " 'ParentInvolvement': 306,\n",
       " 'PerformingArts': 877,\n",
       " 'SocialSciences': 868,\n",
       " 'SpecialNeeds': 6294,\n",
       " 'TeamSports': 1032,\n",
       " 'VisualArts': 2941,\n",
       " 'Warmth': 662}"
      ]
     },
     "execution_count": 49,
     "metadata": {
      "tags": []
     },
     "output_type": "execute_result"
    }
   ],
   "source": [
    "sorted_sub_cat_dict"
   ]
  },
  {
   "cell_type": "code",
   "execution_count": 0,
   "metadata": {
    "colab": {
     "base_uri": "https://localhost:8080/",
     "height": 250
    },
    "colab_type": "code",
    "id": "RtOMtthEI5zM",
    "outputId": "7ab3bddd-f306-4117-a963-e25e2dea9ad7"
   },
   "outputs": [
    {
     "data": {
      "text/html": [
       "<div>\n",
       "<style scoped>\n",
       "    .dataframe tbody tr th:only-of-type {\n",
       "        vertical-align: middle;\n",
       "    }\n",
       "\n",
       "    .dataframe tbody tr th {\n",
       "        vertical-align: top;\n",
       "    }\n",
       "\n",
       "    .dataframe thead th {\n",
       "        text-align: right;\n",
       "    }\n",
       "</style>\n",
       "<table border=\"1\" class=\"dataframe\">\n",
       "  <thead>\n",
       "    <tr style=\"text-align: right;\">\n",
       "      <th></th>\n",
       "      <th>Unnamed: 0</th>\n",
       "      <th>id</th>\n",
       "      <th>teacher_id</th>\n",
       "      <th>teacher_prefix</th>\n",
       "      <th>school_state</th>\n",
       "      <th>Date</th>\n",
       "      <th>project_grade_category</th>\n",
       "      <th>project_title</th>\n",
       "      <th>project_essay_1</th>\n",
       "      <th>project_essay_2</th>\n",
       "      <th>project_essay_3</th>\n",
       "      <th>project_essay_4</th>\n",
       "      <th>project_resource_summary</th>\n",
       "      <th>teacher_number_of_previously_posted_projects</th>\n",
       "      <th>project_is_approved</th>\n",
       "      <th>clean_categories</th>\n",
       "      <th>clean_subcategories</th>\n",
       "    </tr>\n",
       "  </thead>\n",
       "  <tbody>\n",
       "    <tr>\n",
       "      <th>55660</th>\n",
       "      <td>8393</td>\n",
       "      <td>p205479</td>\n",
       "      <td>2bf07ba08945e5d8b2a3f269b2b3cfe5</td>\n",
       "      <td>mrs</td>\n",
       "      <td>ca</td>\n",
       "      <td>2016-04-27 00:27:36</td>\n",
       "      <td>grades_prek_2</td>\n",
       "      <td>Engineering STEAM into the Primary Classroom</td>\n",
       "      <td>I have been fortunate enough to use the Fairy ...</td>\n",
       "      <td>My students come from a variety of backgrounds...</td>\n",
       "      <td>Each month I try to do several science or STEM...</td>\n",
       "      <td>It is challenging to develop high quality scie...</td>\n",
       "      <td>My students need STEM kits to learn critical s...</td>\n",
       "      <td>53</td>\n",
       "      <td>1</td>\n",
       "      <td>Math_Science</td>\n",
       "      <td>AppliedSciences Health_LifeScience</td>\n",
       "    </tr>\n",
       "    <tr>\n",
       "      <th>76127</th>\n",
       "      <td>37728</td>\n",
       "      <td>p043609</td>\n",
       "      <td>3f60494c61921b3b43ab61bdde2904df</td>\n",
       "      <td>ms</td>\n",
       "      <td>ut</td>\n",
       "      <td>2016-04-27 00:31:25</td>\n",
       "      <td>grades_3_5</td>\n",
       "      <td>Sensory Tools for Focus</td>\n",
       "      <td>Imagine being 8-9 years old. You're in your th...</td>\n",
       "      <td>Most of my students have autism, anxiety, anot...</td>\n",
       "      <td>It is tough to do more than one thing at a tim...</td>\n",
       "      <td>When my students are able to calm themselves d...</td>\n",
       "      <td>My students need Boogie Boards for quiet senso...</td>\n",
       "      <td>4</td>\n",
       "      <td>1</td>\n",
       "      <td>SpecialNeeds</td>\n",
       "      <td>SpecialNeeds</td>\n",
       "    </tr>\n",
       "  </tbody>\n",
       "</table>\n",
       "</div>"
      ],
      "text/plain": [
       "       Unnamed: 0       id  ... clean_categories                 clean_subcategories\n",
       "55660        8393  p205479  ...     Math_Science  AppliedSciences Health_LifeScience\n",
       "76127       37728  p043609  ...     SpecialNeeds                        SpecialNeeds\n",
       "\n",
       "[2 rows x 17 columns]"
      ]
     },
     "execution_count": 50,
     "metadata": {
      "tags": []
     },
     "output_type": "execute_result"
    }
   ],
   "source": [
    "# check if the above preprocessing setps are implemented well on the dataset\n",
    "project_data.head(2)"
   ]
  },
  {
   "cell_type": "markdown",
   "metadata": {
    "colab_type": "text",
    "id": "NfHzfRlJI_5K"
   },
   "source": [
    "### 1.2.6 Text Pre-Processing : essay"
   ]
  },
  {
   "cell_type": "code",
   "execution_count": 0,
   "metadata": {
    "colab": {},
    "colab_type": "code",
    "id": "cJ9JpGmfI7w8"
   },
   "outputs": [],
   "source": [
    "# merge all four essays together into a single column\n",
    "\n",
    "project_data[\"essay\"] = project_data[\"project_essay_1\"].map(str) + project_data[\"project_essay_2\"].map(str) + \\\n",
    "                        project_data[\"project_essay_3\"].map(str) + project_data[\"project_essay_4\"].map(str)"
   ]
  },
  {
   "cell_type": "code",
   "execution_count": 0,
   "metadata": {
    "colab": {},
    "colab_type": "code",
    "id": "U44xr08HJDrv"
   },
   "outputs": [],
   "source": [
    "# now drop the redundant essay columns \n",
    "\n",
    "project_data.drop(['project_essay_1', 'project_essay_2', 'project_essay_3', 'project_essay_4'], axis = 1, inplace = True)"
   ]
  },
  {
   "cell_type": "code",
   "execution_count": 0,
   "metadata": {
    "colab": {
     "base_uri": "https://localhost:8080/",
     "height": 335
    },
    "colab_type": "code",
    "id": "UfKWc0qmJFKI",
    "outputId": "e1287897-f6ea-4b09-bd6e-4c49455a2706"
   },
   "outputs": [
    {
     "data": {
      "text/html": [
       "<div>\n",
       "<style scoped>\n",
       "    .dataframe tbody tr th:only-of-type {\n",
       "        vertical-align: middle;\n",
       "    }\n",
       "\n",
       "    .dataframe tbody tr th {\n",
       "        vertical-align: top;\n",
       "    }\n",
       "\n",
       "    .dataframe thead th {\n",
       "        text-align: right;\n",
       "    }\n",
       "</style>\n",
       "<table border=\"1\" class=\"dataframe\">\n",
       "  <thead>\n",
       "    <tr style=\"text-align: right;\">\n",
       "      <th></th>\n",
       "      <th>Unnamed: 0</th>\n",
       "      <th>id</th>\n",
       "      <th>teacher_id</th>\n",
       "      <th>teacher_prefix</th>\n",
       "      <th>school_state</th>\n",
       "      <th>Date</th>\n",
       "      <th>project_grade_category</th>\n",
       "      <th>project_title</th>\n",
       "      <th>project_resource_summary</th>\n",
       "      <th>teacher_number_of_previously_posted_projects</th>\n",
       "      <th>project_is_approved</th>\n",
       "      <th>clean_categories</th>\n",
       "      <th>clean_subcategories</th>\n",
       "      <th>essay</th>\n",
       "    </tr>\n",
       "  </thead>\n",
       "  <tbody>\n",
       "    <tr>\n",
       "      <th>55660</th>\n",
       "      <td>8393</td>\n",
       "      <td>p205479</td>\n",
       "      <td>2bf07ba08945e5d8b2a3f269b2b3cfe5</td>\n",
       "      <td>mrs</td>\n",
       "      <td>ca</td>\n",
       "      <td>2016-04-27 00:27:36</td>\n",
       "      <td>grades_prek_2</td>\n",
       "      <td>Engineering STEAM into the Primary Classroom</td>\n",
       "      <td>My students need STEM kits to learn critical s...</td>\n",
       "      <td>53</td>\n",
       "      <td>1</td>\n",
       "      <td>Math_Science</td>\n",
       "      <td>AppliedSciences Health_LifeScience</td>\n",
       "      <td>I have been fortunate enough to use the Fairy ...</td>\n",
       "    </tr>\n",
       "    <tr>\n",
       "      <th>76127</th>\n",
       "      <td>37728</td>\n",
       "      <td>p043609</td>\n",
       "      <td>3f60494c61921b3b43ab61bdde2904df</td>\n",
       "      <td>ms</td>\n",
       "      <td>ut</td>\n",
       "      <td>2016-04-27 00:31:25</td>\n",
       "      <td>grades_3_5</td>\n",
       "      <td>Sensory Tools for Focus</td>\n",
       "      <td>My students need Boogie Boards for quiet senso...</td>\n",
       "      <td>4</td>\n",
       "      <td>1</td>\n",
       "      <td>SpecialNeeds</td>\n",
       "      <td>SpecialNeeds</td>\n",
       "      <td>Imagine being 8-9 years old. You're in your th...</td>\n",
       "    </tr>\n",
       "  </tbody>\n",
       "</table>\n",
       "</div>"
      ],
      "text/plain": [
       "       Unnamed: 0  ...                                              essay\n",
       "55660        8393  ...  I have been fortunate enough to use the Fairy ...\n",
       "76127       37728  ...  Imagine being 8-9 years old. You're in your th...\n",
       "\n",
       "[2 rows x 14 columns]"
      ]
     },
     "execution_count": 53,
     "metadata": {
      "tags": []
     },
     "output_type": "execute_result"
    }
   ],
   "source": [
    "project_data.head(2)"
   ]
  },
  {
   "cell_type": "code",
   "execution_count": 0,
   "metadata": {
    "colab": {
     "base_uri": "https://localhost:8080/",
     "height": 156
    },
    "colab_type": "code",
    "id": "niCwYj5GJGTf",
    "outputId": "4118d42d-3648-4380-812d-aeb44b18691a"
   },
   "outputs": [
    {
     "name": "stdout",
     "output_type": "stream",
     "text": [
      "Everyday my students interact with each other and with technology to enhance their learning experience, but some days technology isn't available.  If our classroom had iPad minis we would have technology we can count on!My students are a diverse group whose learning needs range from those with a need for individualized attention to master concepts to those who require additional extension to maintain interest.  They love to learn and explore.\\r\\n\\r\\nStudents' experiences with technology range from students whose only experience is in school to those who are fluent in its use from devices at home.  My students are enthusiastic about learning and are particularly excited about learning together.\\r\\n\\r\\nWe do a lot of collaborative learning in order to experience what it's like to work on a team, since team work is the wave of the now and the future.My students love to learn and work as teams.  They will use these iPad minis with protective cases to dig into research, use QR codes, and apps for learning.  They will not only have the benefits that technology affords them, but they will also learn the important social skills of sharing and working together.  They are developing as leaders who have learned to work hard and to collaborate in groups.With the addition of two iPads to my classroom, my students will have the opportunity to use technology more frequently which will enhance their learning.\\r\\n\\r\\nThis is especially true of those who have little or no technology at home.  To compete in the 21st century we need to level the playing field for everyone.  My students are awesome and deserve to have technology available to them so they can learn now and compete in the future!\n",
      "==================================================\n",
      "Welcome to Pre-Kindergarten! We are readers, writers, thinkers, and problem solvers. Our classroom is a busy place filled with energetic kiddos who love to learn. Students are engaged in hands-on learning centers daily.My students come from a wide variety of backgrounds.\\r\\nSome students come to school on the first day equipped with experiences and knowledge that set them up for success in Pre-kindergarten; others do not. It is my job to provide experiences and opportunities for all students to feel and be successful. Our school motto is \\\"Be Awesome,\\\" and my students prove their awesomeness every day!Pre-K students love learning how things work through fun, hands-on experiences, and I love being able to provide them with these opportunities. One way to accomplish this is through STEM activities. STEM is the integration of science, technology, engineering, and math and is a new hot topic in education. It is my goal to provide my students with more STEM opportunities within our learning centers. My students need hands-on and engaging STEM kits that promote problem solving, collaborating, and writing during learning centers. Imagine small groups of four and five year olds sitting together with a STEM activity between them. They are thinking, planning, discussing, and experimenting to solve problems and make new discoveries about concepts such as motion, gravity, and magnetism.My students truly are awesome and deserve the best in life, especially in their education.\\r\\n\\r\\nYour donation will help them achieve their best as they develop lifelong skills such as solving tough problems, gathering and evaluating evidence, and making sense of information. My pre-kindergartners may even dream of becoming scientists, technologists, mathematicians, or engineers as a result of your help!\n",
      "==================================================\n",
      "The topic of the evening news is frequently about the obesity epidemic in our country. As a PE teacher, I feel it is part of my job to develop my students into lifelong fitness buffs. They need to also recognize that exercise can be fun and not just running laps!!My students are not all experts at traditional sports, but I do not want them to give up on fitness because of this drawback. Most of these students come from socioeconomic backgrounds and haven't had many chances to play alternative games. In middle school, the students become more self conscious and their fear of failing in front of their peers increases. The pickleball sets that I have requested will give these kids a chance to learn a new activity while building their fitness levels without fear of humiliation.In Middle School, the students do not like to admit that they can't do something as well as the other students. Enter Pickle Ball, a new game that is becoming very popular on the West Coast. All the students will be learning this sport together. The nets are portable which means they can be played anywhere, even inside a gym when it is raining! Most kids have no idea of the concept of hand-eye racquet-ball coordination. They will learn how to position the body, angle it, look at the foam tennis ball, and use correct technique and joint angle to hit the pickleball over a net of varying height.Fitness can be fun!! This is the important message that I want to share with this project. It doesn't have to be a tradition sport to help a student reach and maintain fitness. Just getting out there and moving can contribute to a healthier lifestyle.\\r\\n\n",
      "==================================================\n",
      "My students walk into my classroom every day full of life, ready to learn, and excited for what is in store for them that day. I ask them, \\\"Who is the best kindergarten class in the whole world?\\\" and they reply, \\\"We are!\\\" I want them to know I believe in them and they can do anything. \\r\\nMy students are creative, clever and very spontaneous. My students come from a variety of different economic backgrounds with over 50% of our school receiving free and reduced lunch. Despite the many challenges they face, I am looking to keep things simple and provide my students with creative and meaningful learning experiences.The Kore Wobble Chair helps with fidgety kids who have difficulty attending and staying in their seats and kids who struggle with postural stability due to weak core muscles. The Wobble Chair’s base is slightly rounded on the bottom, allowing for a gentle rocking movement.  The Kore Wobble Chair is an awesome seating option for the classroom as it focuses on core strength.  I am really looking at how to support kids working collaboratively every day as they become the future leaders of tomorrow.  What a wonderful way to empower learners by allowing them to design and choose their ideal learning environment. The simple opportunity to choose a chair that meets your physical needs is a catalyst for developing success and confidence as a learner!nannan\n"
     ]
    }
   ],
   "source": [
    "# printing some random essays\n",
    "print(project_data['essay'].values[9])\n",
    "print(\"=\"*50)\n",
    "print(project_data['essay'].values[99])\n",
    "print(\"=\"*50)\n",
    "print(project_data['essay'].values[999])\n",
    "print(\"=\"*50)\n",
    "print(project_data['essay'].values[9999])"
   ]
  },
  {
   "cell_type": "code",
   "execution_count": 0,
   "metadata": {
    "colab": {},
    "colab_type": "code",
    "id": "8rCoFr2AJzwU"
   },
   "outputs": [],
   "source": [
    "#decontracting english phrases \n",
    "# https://stackoverflow.com/a/47091490/4084039\n",
    "\n",
    "def decontracted(phrase):\n",
    "    #specific\n",
    "    phrase = re.sub(r\"won\\'t\", \"will not\", phrase)\n",
    "    phrase = re.sub(r\"can\\'t\", \"cannot\", phrase)\n",
    "    \n",
    "    #general \n",
    "    phrase = re.sub(r\"n\\'t\", \" not\",   phrase)\n",
    "    phrase = re.sub(r\"\\'re\", \" are\",   phrase)\n",
    "    phrase = re.sub(r\"\\'s\",  \" is\",    phrase)\n",
    "    phrase = re.sub(r\"\\'d\",  \" would\", phrase)\n",
    "    phrase = re.sub(r\"\\'ll\", \" will\",  phrase)\n",
    "    phrase = re.sub(r\"\\'t\",  \" not\",   phrase)\n",
    "    phrase = re.sub(r\"\\'ve\", \" have\",  phrase)\n",
    "    phrase = re.sub(r\"\\'m\",  \" am\",    phrase)\n",
    "    phrase = re.sub(r\"\\'em\", \" them\",  phrase)\n",
    "    return phrase"
   ]
  },
  {
   "cell_type": "markdown",
   "metadata": {
    "colab_type": "text",
    "id": "zw8UlTqkKDEC"
   },
   "source": [
    "> Note: I have added re.sub(r\"'em\", \" them\", phrase) in the decontracted definition in order to tackle words like 'em' -> them. 'them' will eventually get removed along with other stopwords."
   ]
  },
  {
   "cell_type": "code",
   "execution_count": 0,
   "metadata": {
    "colab": {
     "base_uri": "https://localhost:8080/",
     "height": 54
    },
    "colab_type": "code",
    "id": "WJqtyHxuJLOb",
    "outputId": "88d1123e-8ab2-42d7-c26f-d662f4ca984d"
   },
   "outputs": [
    {
     "name": "stdout",
     "output_type": "stream",
     "text": [
      "Everyday my students interact with each other and with technology to enhance their learning experience, but some days technology is not available.  If our classroom had iPad minis we would have technology we can count on!My students are a diverse group whose learning needs range from those with a need for individualized attention to master concepts to those who require additional extension to maintain interest.  They love to learn and explore.\\r\\n\\r\\nStudents' experiences with technology range from students whose only experience is in school to those who are fluent in its use from devices at home.  My students are enthusiastic about learning and are particularly excited about learning together.\\r\\n\\r\\nWe do a lot of collaborative learning in order to experience what it is like to work on a team, since team work is the wave of the now and the future.My students love to learn and work as teams.  They will use these iPad minis with protective cases to dig into research, use QR codes, and apps for learning.  They will not only have the benefits that technology affords them, but they will also learn the important social skills of sharing and working together.  They are developing as leaders who have learned to work hard and to collaborate in groups.With the addition of two iPads to my classroom, my students will have the opportunity to use technology more frequently which will enhance their learning.\\r\\n\\r\\nThis is especially true of those who have little or no technology at home.  To compete in the 21st century we need to level the playing field for everyone.  My students are awesome and deserve to have technology available to them so they can learn now and compete in the future!\n"
     ]
    }
   ],
   "source": [
    "sent = decontracted(project_data['essay'].values[9])\n",
    "print(sent)"
   ]
  },
  {
   "cell_type": "code",
   "execution_count": 0,
   "metadata": {
    "colab": {},
    "colab_type": "code",
    "id": "EQSmZlxSKGUB"
   },
   "outputs": [],
   "source": [
    "# \\r \\n \\t remove from string python: http://texthandler.com/info/remove-line-breaks-python/\n",
    "\n",
    "def remove_linebreaks(sent):\n",
    "    sent = sent.replace('\\\\r', ' ')\n",
    "    sent = sent.replace('\\\\n', ' ')\n",
    "    sent = sent.replace('\\\\\"', ' ')\n",
    "    \n",
    "    return sent"
   ]
  },
  {
   "cell_type": "code",
   "execution_count": 0,
   "metadata": {
    "colab": {
     "base_uri": "https://localhost:8080/",
     "height": 54
    },
    "colab_type": "code",
    "id": "KY-FNyYYKIuJ",
    "outputId": "332d34ed-c0a6-4341-de3a-6856839942d7"
   },
   "outputs": [
    {
     "name": "stdout",
     "output_type": "stream",
     "text": [
      "Everyday my students interact with each other and with technology to enhance their learning experience, but some days technology is not available.  If our classroom had iPad minis we would have technology we can count on!My students are a diverse group whose learning needs range from those with a need for individualized attention to master concepts to those who require additional extension to maintain interest.  They love to learn and explore.    Students' experiences with technology range from students whose only experience is in school to those who are fluent in its use from devices at home.  My students are enthusiastic about learning and are particularly excited about learning together.    We do a lot of collaborative learning in order to experience what it is like to work on a team, since team work is the wave of the now and the future.My students love to learn and work as teams.  They will use these iPad minis with protective cases to dig into research, use QR codes, and apps for learning.  They will not only have the benefits that technology affords them, but they will also learn the important social skills of sharing and working together.  They are developing as leaders who have learned to work hard and to collaborate in groups.With the addition of two iPads to my classroom, my students will have the opportunity to use technology more frequently which will enhance their learning.    This is especially true of those who have little or no technology at home.  To compete in the 21st century we need to level the playing field for everyone.  My students are awesome and deserve to have technology available to them so they can learn now and compete in the future!\n"
     ]
    }
   ],
   "source": [
    "sent = remove_linebreaks(sent)\n",
    "print(sent)"
   ]
  },
  {
   "cell_type": "code",
   "execution_count": 0,
   "metadata": {
    "colab": {
     "base_uri": "https://localhost:8080/",
     "height": 54
    },
    "colab_type": "code",
    "id": "Z_EUj1mEKKaG",
    "outputId": "246249ee-639d-4664-c361-ca50c181a5d6"
   },
   "outputs": [
    {
     "name": "stdout",
     "output_type": "stream",
     "text": [
      "Everyday my students interact with each other and with technology to enhance their learning experience but some days technology is not available If our classroom had iPad minis we would have technology we can count on My students are a diverse group whose learning needs range from those with a need for individualized attention to master concepts to those who require additional extension to maintain interest They love to learn and explore Students experiences with technology range from students whose only experience is in school to those who are fluent in its use from devices at home My students are enthusiastic about learning and are particularly excited about learning together We do a lot of collaborative learning in order to experience what it is like to work on a team since team work is the wave of the now and the future My students love to learn and work as teams They will use these iPad minis with protective cases to dig into research use QR codes and apps for learning They will not only have the benefits that technology affords them but they will also learn the important social skills of sharing and working together They are developing as leaders who have learned to work hard and to collaborate in groups With the addition of two iPads to my classroom my students will have the opportunity to use technology more frequently which will enhance their learning This is especially true of those who have little or no technology at home To compete in the 21st century we need to level the playing field for everyone My students are awesome and deserve to have technology available to them so they can learn now and compete in the future \n"
     ]
    }
   ],
   "source": [
    "#remove spacial character: https://stackoverflow.com/a/5843547/4084039\n",
    "\n",
    "sent = re.sub('[^A-Za-z0-9]+', ' ', sent)\n",
    "print(sent)"
   ]
  },
  {
   "cell_type": "code",
   "execution_count": 0,
   "metadata": {
    "colab": {},
    "colab_type": "code",
    "id": "hlQ3xFNIKMX0"
   },
   "outputs": [],
   "source": [
    "# removing all the stopwords (except 'no', 'nor' and 'not')\n",
    "# https://gist.github.com/sebleier/554280\n",
    "\n",
    "stopwords= ['i', 'me', 'my', 'myself', 'we', 'our', 'ours', 'ourselves', 'you', \"you're\", \"you've\",\\\n",
    "            \"you'll\", \"you'd\", 'your', 'yours', 'yourself', 'yourselves', 'he', 'him', 'his', 'himself', \\\n",
    "            'she', \"she's\", 'her', 'hers', 'herself', 'it', \"it's\", 'its', 'itself', 'they', 'them', 'their',\\\n",
    "            'theirs', 'themselves', 'what', 'which', 'who', 'whom', 'this', 'that', \"that'll\", 'these', 'those', \\\n",
    "            'am', 'is', 'are', 'was', 'were', 'be', 'been', 'being', 'have', 'has', 'had', 'having', 'do', 'does', \\\n",
    "            'did', 'doing', 'a', 'an', 'the', 'and', 'but', 'if', 'or', 'because', 'as', 'until', 'while', 'of', \\\n",
    "            'at', 'by', 'for', 'with', 'about', 'against', 'between', 'into', 'through', 'during', 'before', 'after',\\\n",
    "            'above', 'below', 'to', 'from', 'up', 'down', 'in', 'out', 'on', 'off', 'over', 'under', 'again', 'further',\\\n",
    "            'then', 'once', 'here', 'there', 'when', 'where', 'why', 'how', 'all', 'any', 'both', 'each', 'few', 'more',\\\n",
    "            'most', 'other', 'some', 'such', 'only', 'own', 'same', 'so', 'than', 'too', 'very', \\\n",
    "            's', 't', 'can', 'will', 'just', 'don', \"don't\", 'should', \"should've\", 'now', 'd', 'll', 'm', 'o', 're', \\\n",
    "            've', 'y', 'ain', 'aren', \"aren't\", 'couldn', \"couldn't\", 'didn', \"didn't\", 'doesn', \"doesn't\", 'hadn',\\\n",
    "            \"hadn't\", 'hasn', \"hasn't\", 'haven', \"haven't\", 'isn', \"isn't\", 'ma', 'mightn', \"mightn't\", 'mustn',\\\n",
    "            \"mustn't\", 'needn', \"needn't\", 'shan', \"shan't\", 'shouldn', \"shouldn't\", 'wasn', \"wasn't\", 'weren', \"weren't\", \\\n",
    "            'won', \"won't\", 'wouldn', \"wouldn't\"]"
   ]
  },
  {
   "cell_type": "code",
   "execution_count": 0,
   "metadata": {
    "colab": {
     "base_uri": "https://localhost:8080/",
     "height": 34
    },
    "colab_type": "code",
    "id": "bPVG0MRAKOxy",
    "outputId": "55142a71-8dad-4b34-c0ef-313111d638f8"
   },
   "outputs": [
    {
     "name": "stderr",
     "output_type": "stream",
     "text": [
      "100%|██████████| 50000/50000 [00:31<00:00, 1601.49it/s]\n"
     ]
    }
   ],
   "source": [
    "# combining all the above statements\n",
    "\n",
    "preprocessed_essays = []\n",
    "\n",
    "# tqdm is for printing the status bar\n",
    "for sentence in tqdm(project_data['essay'].values):\n",
    "    sent = decontracted(sentence)\n",
    "    sent = remove_linebreaks(sentence)\n",
    "    sent = re.sub('[^A-Za-z0-9]+', ' ', sent) \n",
    "    # https://gist.github.com/sebleier/554280\n",
    "    sent = ' '.join(e.lower() for e in sent.split() if e.lower() not in stopwords)\n",
    "    preprocessed_essays.append(sent.strip())"
   ]
  },
  {
   "cell_type": "code",
   "execution_count": 0,
   "metadata": {
    "colab": {},
    "colab_type": "code",
    "id": "H9GqbFn6KZaY"
   },
   "outputs": [],
   "source": [
    "project_data['preprocessed_essay'] = preprocessed_essays\n"
   ]
  },
  {
   "cell_type": "code",
   "execution_count": 0,
   "metadata": {
    "colab": {},
    "colab_type": "code",
    "id": "bqtySUhMKgsJ"
   },
   "outputs": [],
   "source": [
    "# essay column is now redundant. drop the redundant 'essay' column\n",
    "\n",
    "project_data.drop(['essay'], axis = 1, inplace = True)"
   ]
  },
  {
   "cell_type": "markdown",
   "metadata": {
    "colab_type": "text",
    "id": "ESyXf7DBKot1"
   },
   "source": [
    "### 1.2.7 Text Pre-Processing : project_title"
   ]
  },
  {
   "cell_type": "code",
   "execution_count": 0,
   "metadata": {
    "colab": {
     "base_uri": "https://localhost:8080/",
     "height": 136
    },
    "colab_type": "code",
    "id": "zTV8nAAiKmrz",
    "outputId": "b41c98bc-22a4-471b-811c-9c80b50a4db3"
   },
   "outputs": [
    {
     "name": "stdout",
     "output_type": "stream",
     "text": [
      "Techies in Training\n",
      "==================================================\n",
      "Pre-K STEM\n",
      "==================================================\n",
      "PICKLEBALL?? Is That a Real Sport? Let's Play!\n",
      "==================================================\n",
      "The Inspired Classroom for Best Practices\n"
     ]
    }
   ],
   "source": [
    "# printing some random project_title\n",
    "\n",
    "print(project_data['project_title'].values[9])\n",
    "print(\"=\"*50)\n",
    "print(project_data['project_title'].values[99])\n",
    "print(\"=\"*50)\n",
    "print(project_data['project_title'].values[999])\n",
    "print(\"=\"*50)\n",
    "print(project_data['project_title'].values[9999])"
   ]
  },
  {
   "cell_type": "code",
   "execution_count": 0,
   "metadata": {
    "colab": {
     "base_uri": "https://localhost:8080/",
     "height": 34
    },
    "colab_type": "code",
    "id": "oeVO8jp_KtMO",
    "outputId": "1e125f39-c82e-43c1-a668-dadf50aa9952"
   },
   "outputs": [
    {
     "name": "stderr",
     "output_type": "stream",
     "text": [
      "100%|██████████| 50000/50000 [00:01<00:00, 37814.92it/s]\n"
     ]
    }
   ],
   "source": [
    "# combining all the text processing statements just like above \n",
    "\n",
    "preprocessed_title = []\n",
    "\n",
    "for title in tqdm(project_data['project_title'].values):\n",
    "    title = decontracted(title)\n",
    "    title = re.sub('[^A-Za-z0-9]+', ' ', title) \n",
    "    \n",
    "    title = ' '.join(e.lower() for e in title.split() if e.lower() not in stopwords) \n",
    "    preprocessed_title.append(title.strip())"
   ]
  },
  {
   "cell_type": "code",
   "execution_count": 0,
   "metadata": {
    "colab": {
     "base_uri": "https://localhost:8080/",
     "height": 153
    },
    "colab_type": "code",
    "id": "wyRtkrUvKv6t",
    "outputId": "736cd533-a317-47d6-b2fb-aac52ce560a9"
   },
   "outputs": [
    {
     "name": "stdout",
     "output_type": "stream",
     "text": [
      "techies training\n",
      "==================================================\n",
      "pre k stem\n",
      "==================================================\n",
      "pickleball real sport let play\n",
      "==================================================\n",
      "inspired classroom best practices\n",
      "==================================================\n"
     ]
    }
   ],
   "source": [
    "print(preprocessed_title[9])\n",
    "print(\"=\"*50)\n",
    "print(preprocessed_title[99])\n",
    "print(\"=\"*50)\n",
    "print(preprocessed_title[999])\n",
    "print(\"=\"*50)\n",
    "print(preprocessed_title[9999])\n",
    "print(\"=\"*50)"
   ]
  },
  {
   "cell_type": "code",
   "execution_count": 0,
   "metadata": {
    "colab": {},
    "colab_type": "code",
    "id": "TsRyP9SlKyms"
   },
   "outputs": [],
   "source": [
    "project_data['preprocessed_title'] = preprocessed_title"
   ]
  },
  {
   "cell_type": "code",
   "execution_count": 0,
   "metadata": {
    "colab": {},
    "colab_type": "code",
    "id": "ySrnPg6RK0ey"
   },
   "outputs": [],
   "source": [
    "# project_title is now redundant. drop the 'prject_title' column\n",
    "\n",
    "project_data.drop(['project_title'], axis = 1, inplace = True)"
   ]
  },
  {
   "cell_type": "code",
   "execution_count": 0,
   "metadata": {
    "colab": {
     "base_uri": "https://localhost:8080/",
     "height": 173
    },
    "colab_type": "code",
    "id": "RxxNNNhlK2ed",
    "outputId": "bdde428e-f688-4ecc-f196-7fdafa698fec"
   },
   "outputs": [
    {
     "name": "stdout",
     "output_type": "stream",
     "text": [
      "My students need an iPad mini with a protective case to explore the world.\n",
      "==================================================\n",
      "My students need Pre-K STEM bundles and engineering kits.\n",
      "==================================================\n",
      "My students need pickleball nets, paddles and balls.\n",
      "==================================================\n",
      "My students need the wobble chairs which provides subtle input to the vestibular system, making it an awesome sensory strategy to promote engagement and attention in the classroom.\n",
      "==================================================\n"
     ]
    }
   ],
   "source": [
    "# printing few random project resource summaries \n",
    "\n",
    "print(project_data['project_resource_summary'].values[9])\n",
    "print(\"=\"*50)\n",
    "print(project_data['project_resource_summary'].values[99])\n",
    "print(\"=\"*50)\n",
    "print(project_data['project_resource_summary'].values[999])\n",
    "print(\"=\"*50)\n",
    "print(project_data['project_resource_summary'].values[9999])\n",
    "print(\"=\"*50)"
   ]
  },
  {
   "cell_type": "markdown",
   "metadata": {
    "colab_type": "text",
    "id": "V2_tFTKkK8oM"
   },
   "source": [
    "> Observation => 'students', 'need' and 'want' are common in every project resource summary. So, we are going to add these words to the set of custom_stopwords. "
   ]
  },
  {
   "cell_type": "code",
   "execution_count": 0,
   "metadata": {
    "colab": {},
    "colab_type": "code",
    "id": "_wn3_r9LK6X9"
   },
   "outputs": [],
   "source": [
    "# removing all the stopwords (except 'no', 'nor' and 'not')\n",
    "# adding words like 'students', 'need' that are either common throughout or doesn't serve purpose. \n",
    "# https://gist.github.com/sebleier/554280\n",
    "\n",
    "custom_stopwords= ['i', 'me', 'my', 'myself', 'we', 'our', 'ours', 'ourselves', 'you', \"you're\", \"you've\",\\\n",
    "            \"you'll\", \"you'd\", 'your', 'yours', 'yourself', 'yourselves', 'he', 'him', 'his', 'himself', \\\n",
    "            'she', \"she's\", 'her', 'hers', 'herself', 'it', \"it's\", 'its', 'itself', 'they', 'them', 'their',\\\n",
    "            'theirs', 'themselves', 'what', 'which', 'who', 'whom', 'this', 'that', \"that'll\", 'these', 'those', \\\n",
    "            'am', 'is', 'are', 'was', 'were', 'be', 'been', 'being', 'have', 'has', 'had', 'having', 'do', 'does', \\\n",
    "            'did', 'doing', 'a', 'an', 'the', 'and', 'but', 'if', 'or', 'because', 'as', 'until', 'while', 'of', \\\n",
    "            'at', 'by', 'for', 'with', 'about', 'against', 'between', 'into', 'through', 'during', 'before', 'after',\\\n",
    "            'above', 'below', 'to', 'from', 'up', 'down', 'in', 'out', 'on', 'off', 'over', 'under', 'again', 'further',\\\n",
    "            'then', 'once', 'here', 'there', 'when', 'where', 'why', 'how', 'all', 'any', 'both', 'each', 'few', 'more',\\\n",
    "            'most', 'other', 'some', 'such', 'only', 'own', 'same', 'so', 'than', 'too', 'very', \\\n",
    "            's', 't', 'can', 'will', 'just', 'don', \"don't\", 'should', \"should've\", 'now', 'd', 'll', 'm', 'o', 're', \\\n",
    "            've', 'y', 'ain', 'aren', \"aren't\", 'couldn', \"couldn't\", 'didn', \"didn't\", 'doesn', \"doesn't\", 'hadn',\\\n",
    "            \"hadn't\", 'hasn', \"hasn't\", 'haven', \"haven't\", 'isn', \"isn't\", 'ma', 'mightn', \"mightn't\", 'mustn',\\\n",
    "            \"mustn't\", 'needn', \"needn't\", 'shan', \"shan't\", 'shouldn', \"shouldn't\", 'wasn', \"wasn't\", 'weren', \"weren't\", \\\n",
    "            'won', \"won't\", 'wouldn', \"wouldn't\", 'need', 'students']"
   ]
  },
  {
   "cell_type": "code",
   "execution_count": 0,
   "metadata": {
    "colab": {
     "base_uri": "https://localhost:8080/",
     "height": 34
    },
    "colab_type": "code",
    "id": "bIxrze5NLAHg",
    "outputId": "ed19e3ce-f0c9-49c7-9696-22f8fd60755e"
   },
   "outputs": [
    {
     "name": "stderr",
     "output_type": "stream",
     "text": [
      "100%|██████████| 50000/50000 [00:03<00:00, 15881.97it/s]\n"
     ]
    }
   ],
   "source": [
    "#combining all text processing statements \n",
    "\n",
    "preprocessed_summary = []\n",
    "\n",
    "for summary in tqdm(project_data['project_resource_summary'].values):\n",
    "    summary = decontracted(summary)\n",
    "    summary = re.sub('[^A-Za-z0-9]+', ' ', summary) \n",
    "    \n",
    "    summary = ' '.join(e.lower() for e in summary.split() if e.lower() not in custom_stopwords)\n",
    "    preprocessed_summary.append(summary.strip())"
   ]
  },
  {
   "cell_type": "code",
   "execution_count": 0,
   "metadata": {
    "colab": {
     "base_uri": "https://localhost:8080/",
     "height": 153
    },
    "colab_type": "code",
    "id": "6-gB4ii4LRl8",
    "outputId": "897fece1-5510-4864-a42b-1bf3ceb40d8d"
   },
   "outputs": [
    {
     "name": "stdout",
     "output_type": "stream",
     "text": [
      "ipad mini protective case explore world\n",
      "==================================================\n",
      "pre k stem bundles engineering kits\n",
      "==================================================\n",
      "pickleball nets paddles balls\n",
      "==================================================\n",
      "wobble chairs provides subtle input vestibular system making awesome sensory strategy promote engagement attention classroom\n",
      "==================================================\n"
     ]
    }
   ],
   "source": [
    "print(preprocessed_summary[9])\n",
    "print(\"=\"*50)\n",
    "print(preprocessed_summary[99])\n",
    "print(\"=\"*50)\n",
    "print(preprocessed_summary[999])\n",
    "print(\"=\"*50)\n",
    "print(preprocessed_summary[9999])\n",
    "print(\"=\"*50)"
   ]
  },
  {
   "cell_type": "code",
   "execution_count": 0,
   "metadata": {
    "colab": {},
    "colab_type": "code",
    "id": "oOlk9XhCLTft"
   },
   "outputs": [],
   "source": [
    "project_data['preprocessed_summary'] = preprocessed_summary"
   ]
  },
  {
   "cell_type": "code",
   "execution_count": 0,
   "metadata": {
    "colab": {},
    "colab_type": "code",
    "id": "Ro8Ss2dOLVWc"
   },
   "outputs": [],
   "source": [
    "# drop project_resource_summary column since now it is redundant after above preprocessing\n",
    "\n",
    "project_data.drop(['project_resource_summary'], axis = 1, inplace = True)"
   ]
  },
  {
   "cell_type": "code",
   "execution_count": 0,
   "metadata": {
    "colab": {
     "base_uri": "https://localhost:8080/",
     "height": 216
    },
    "colab_type": "code",
    "id": "xFEJyBtZLWcu",
    "outputId": "4f43c403-b3d6-40be-90db-6e31a97813e3"
   },
   "outputs": [
    {
     "data": {
      "text/html": [
       "<div>\n",
       "<style scoped>\n",
       "    .dataframe tbody tr th:only-of-type {\n",
       "        vertical-align: middle;\n",
       "    }\n",
       "\n",
       "    .dataframe tbody tr th {\n",
       "        vertical-align: top;\n",
       "    }\n",
       "\n",
       "    .dataframe thead th {\n",
       "        text-align: right;\n",
       "    }\n",
       "</style>\n",
       "<table border=\"1\" class=\"dataframe\">\n",
       "  <thead>\n",
       "    <tr style=\"text-align: right;\">\n",
       "      <th></th>\n",
       "      <th>Unnamed: 0</th>\n",
       "      <th>id</th>\n",
       "      <th>teacher_id</th>\n",
       "      <th>teacher_prefix</th>\n",
       "      <th>school_state</th>\n",
       "      <th>Date</th>\n",
       "      <th>project_grade_category</th>\n",
       "      <th>teacher_number_of_previously_posted_projects</th>\n",
       "      <th>project_is_approved</th>\n",
       "      <th>clean_categories</th>\n",
       "      <th>clean_subcategories</th>\n",
       "      <th>preprocessed_essay</th>\n",
       "      <th>preprocessed_title</th>\n",
       "      <th>preprocessed_summary</th>\n",
       "    </tr>\n",
       "  </thead>\n",
       "  <tbody>\n",
       "    <tr>\n",
       "      <th>55660</th>\n",
       "      <td>8393</td>\n",
       "      <td>p205479</td>\n",
       "      <td>2bf07ba08945e5d8b2a3f269b2b3cfe5</td>\n",
       "      <td>mrs</td>\n",
       "      <td>ca</td>\n",
       "      <td>2016-04-27 00:27:36</td>\n",
       "      <td>grades_prek_2</td>\n",
       "      <td>53</td>\n",
       "      <td>1</td>\n",
       "      <td>Math_Science</td>\n",
       "      <td>AppliedSciences Health_LifeScience</td>\n",
       "      <td>fortunate enough use fairy tale stem kits clas...</td>\n",
       "      <td>engineering steam primary classroom</td>\n",
       "      <td>stem kits learn critical science engineering s...</td>\n",
       "    </tr>\n",
       "    <tr>\n",
       "      <th>76127</th>\n",
       "      <td>37728</td>\n",
       "      <td>p043609</td>\n",
       "      <td>3f60494c61921b3b43ab61bdde2904df</td>\n",
       "      <td>ms</td>\n",
       "      <td>ut</td>\n",
       "      <td>2016-04-27 00:31:25</td>\n",
       "      <td>grades_3_5</td>\n",
       "      <td>4</td>\n",
       "      <td>1</td>\n",
       "      <td>SpecialNeeds</td>\n",
       "      <td>SpecialNeeds</td>\n",
       "      <td>imagine 8 9 years old third grade classroom se...</td>\n",
       "      <td>sensory tools focus</td>\n",
       "      <td>boogie boards quiet sensory breaks putty senso...</td>\n",
       "    </tr>\n",
       "  </tbody>\n",
       "</table>\n",
       "</div>"
      ],
      "text/plain": [
       "       Unnamed: 0  ...                               preprocessed_summary\n",
       "55660        8393  ...  stem kits learn critical science engineering s...\n",
       "76127       37728  ...  boogie boards quiet sensory breaks putty senso...\n",
       "\n",
       "[2 rows x 14 columns]"
      ]
     },
     "execution_count": 75,
     "metadata": {
      "tags": []
     },
     "output_type": "execute_result"
    }
   ],
   "source": [
    "project_data.head(2)"
   ]
  },
  {
   "cell_type": "markdown",
   "metadata": {
    "colab_type": "text",
    "id": "ldTWbt6VLdJ1"
   },
   "source": [
    "### 1.2.9 teacher_number_of_previously_posted_projects"
   ]
  },
  {
   "cell_type": "code",
   "execution_count": 0,
   "metadata": {
    "colab": {
     "base_uri": "https://localhost:8080/",
     "height": 34
    },
    "colab_type": "code",
    "id": "tECTWBhrLafA",
    "outputId": "d00609bb-464c-47da-e243-4f89c52704b5"
   },
   "outputs": [
    {
     "data": {
      "text/plain": [
       "0"
      ]
     },
     "execution_count": 78,
     "metadata": {
      "tags": []
     },
     "output_type": "execute_result"
    }
   ],
   "source": [
    "project_data['teacher_number_of_previously_posted_projects'].isnull().sum()"
   ]
  },
  {
   "cell_type": "markdown",
   "metadata": {
    "colab_type": "text",
    "id": "wcNdcNroLlYB"
   },
   "source": [
    "No further processing required. Feature scaling will be handeled later. "
   ]
  },
  {
   "cell_type": "markdown",
   "metadata": {
    "colab_type": "text",
    "id": "XgABEDUuLtw_"
   },
   "source": [
    "#### Join the two-datasets : project_data and resource_data on project_id to process 'price' and 'quantity' fro further processing"
   ]
  },
  {
   "cell_type": "code",
   "execution_count": 0,
   "metadata": {
    "colab": {
     "base_uri": "https://localhost:8080/",
     "height": 204
    },
    "colab_type": "code",
    "id": "2MiPXjgXLcb-",
    "outputId": "89acc6cf-1818-43e1-d625-7626ca9a961f"
   },
   "outputs": [
    {
     "data": {
      "text/html": [
       "<div>\n",
       "<style scoped>\n",
       "    .dataframe tbody tr th:only-of-type {\n",
       "        vertical-align: middle;\n",
       "    }\n",
       "\n",
       "    .dataframe tbody tr th {\n",
       "        vertical-align: top;\n",
       "    }\n",
       "\n",
       "    .dataframe thead th {\n",
       "        text-align: right;\n",
       "    }\n",
       "</style>\n",
       "<table border=\"1\" class=\"dataframe\">\n",
       "  <thead>\n",
       "    <tr style=\"text-align: right;\">\n",
       "      <th></th>\n",
       "      <th>id</th>\n",
       "      <th>price</th>\n",
       "      <th>quantity</th>\n",
       "    </tr>\n",
       "  </thead>\n",
       "  <tbody>\n",
       "    <tr>\n",
       "      <th>0</th>\n",
       "      <td>p000001</td>\n",
       "      <td>459.56</td>\n",
       "      <td>7</td>\n",
       "    </tr>\n",
       "    <tr>\n",
       "      <th>1</th>\n",
       "      <td>p000002</td>\n",
       "      <td>515.89</td>\n",
       "      <td>21</td>\n",
       "    </tr>\n",
       "    <tr>\n",
       "      <th>2</th>\n",
       "      <td>p000003</td>\n",
       "      <td>298.97</td>\n",
       "      <td>4</td>\n",
       "    </tr>\n",
       "    <tr>\n",
       "      <th>3</th>\n",
       "      <td>p000004</td>\n",
       "      <td>1113.69</td>\n",
       "      <td>98</td>\n",
       "    </tr>\n",
       "    <tr>\n",
       "      <th>4</th>\n",
       "      <td>p000005</td>\n",
       "      <td>485.99</td>\n",
       "      <td>8</td>\n",
       "    </tr>\n",
       "  </tbody>\n",
       "</table>\n",
       "</div>"
      ],
      "text/plain": [
       "        id    price  quantity\n",
       "0  p000001   459.56         7\n",
       "1  p000002   515.89        21\n",
       "2  p000003   298.97         4\n",
       "3  p000004  1113.69        98\n",
       "4  p000005   485.99         8"
      ]
     },
     "execution_count": 79,
     "metadata": {
      "tags": []
     },
     "output_type": "execute_result"
    }
   ],
   "source": [
    "# https://stackoverflow.com/questions/22407798/how-to-reset-a-dataframes-indexes-for-all-groups-in-one-step\n",
    "\n",
    "price_data = resource_data.groupby('id').agg({'price':'sum', 'quantity':'sum'}).reset_index()\n",
    "price_data.head()"
   ]
  },
  {
   "cell_type": "code",
   "execution_count": 0,
   "metadata": {
    "colab": {
     "base_uri": "https://localhost:8080/",
     "height": 216
    },
    "colab_type": "code",
    "id": "Q7nEgb7EL1Px",
    "outputId": "a60719bd-ea94-42e8-dc9a-f1246eb0f63a"
   },
   "outputs": [
    {
     "data": {
      "text/html": [
       "<div>\n",
       "<style scoped>\n",
       "    .dataframe tbody tr th:only-of-type {\n",
       "        vertical-align: middle;\n",
       "    }\n",
       "\n",
       "    .dataframe tbody tr th {\n",
       "        vertical-align: top;\n",
       "    }\n",
       "\n",
       "    .dataframe thead th {\n",
       "        text-align: right;\n",
       "    }\n",
       "</style>\n",
       "<table border=\"1\" class=\"dataframe\">\n",
       "  <thead>\n",
       "    <tr style=\"text-align: right;\">\n",
       "      <th></th>\n",
       "      <th>Unnamed: 0</th>\n",
       "      <th>id</th>\n",
       "      <th>teacher_id</th>\n",
       "      <th>teacher_prefix</th>\n",
       "      <th>school_state</th>\n",
       "      <th>Date</th>\n",
       "      <th>project_grade_category</th>\n",
       "      <th>teacher_number_of_previously_posted_projects</th>\n",
       "      <th>project_is_approved</th>\n",
       "      <th>clean_categories</th>\n",
       "      <th>clean_subcategories</th>\n",
       "      <th>preprocessed_essay</th>\n",
       "      <th>preprocessed_title</th>\n",
       "      <th>preprocessed_summary</th>\n",
       "      <th>price</th>\n",
       "      <th>quantity</th>\n",
       "    </tr>\n",
       "  </thead>\n",
       "  <tbody>\n",
       "    <tr>\n",
       "      <th>0</th>\n",
       "      <td>8393</td>\n",
       "      <td>p205479</td>\n",
       "      <td>2bf07ba08945e5d8b2a3f269b2b3cfe5</td>\n",
       "      <td>mrs</td>\n",
       "      <td>ca</td>\n",
       "      <td>2016-04-27 00:27:36</td>\n",
       "      <td>grades_prek_2</td>\n",
       "      <td>53</td>\n",
       "      <td>1</td>\n",
       "      <td>Math_Science</td>\n",
       "      <td>AppliedSciences Health_LifeScience</td>\n",
       "      <td>fortunate enough use fairy tale stem kits clas...</td>\n",
       "      <td>engineering steam primary classroom</td>\n",
       "      <td>stem kits learn critical science engineering s...</td>\n",
       "      <td>725.05</td>\n",
       "      <td>4</td>\n",
       "    </tr>\n",
       "    <tr>\n",
       "      <th>1</th>\n",
       "      <td>37728</td>\n",
       "      <td>p043609</td>\n",
       "      <td>3f60494c61921b3b43ab61bdde2904df</td>\n",
       "      <td>ms</td>\n",
       "      <td>ut</td>\n",
       "      <td>2016-04-27 00:31:25</td>\n",
       "      <td>grades_3_5</td>\n",
       "      <td>4</td>\n",
       "      <td>1</td>\n",
       "      <td>SpecialNeeds</td>\n",
       "      <td>SpecialNeeds</td>\n",
       "      <td>imagine 8 9 years old third grade classroom se...</td>\n",
       "      <td>sensory tools focus</td>\n",
       "      <td>boogie boards quiet sensory breaks putty senso...</td>\n",
       "      <td>213.03</td>\n",
       "      <td>8</td>\n",
       "    </tr>\n",
       "  </tbody>\n",
       "</table>\n",
       "</div>"
      ],
      "text/plain": [
       "   Unnamed: 0       id  ...   price quantity\n",
       "0        8393  p205479  ...  725.05        4\n",
       "1       37728  p043609  ...  213.03        8\n",
       "\n",
       "[2 rows x 16 columns]"
      ]
     },
     "execution_count": 80,
     "metadata": {
      "tags": []
     },
     "output_type": "execute_result"
    }
   ],
   "source": [
    "project_data = pd.merge(project_data, price_data, on ='id', how ='left')\n",
    "project_data.head(2)"
   ]
  },
  {
   "cell_type": "markdown",
   "metadata": {
    "colab_type": "text",
    "id": "uMWcckGhL_6Z"
   },
   "source": [
    "### 1.2.11 price "
   ]
  },
  {
   "cell_type": "code",
   "execution_count": 0,
   "metadata": {
    "colab": {
     "base_uri": "https://localhost:8080/",
     "height": 34
    },
    "colab_type": "code",
    "id": "v1pPrxuwL3Xg",
    "outputId": "36d579b6-e4e4-46e7-d78b-13447395235c"
   },
   "outputs": [
    {
     "data": {
      "text/plain": [
       "0"
      ]
     },
     "execution_count": 82,
     "metadata": {
      "tags": []
     },
     "output_type": "execute_result"
    }
   ],
   "source": [
    "project_data['price'].isnull().sum()"
   ]
  },
  {
   "cell_type": "markdown",
   "metadata": {
    "colab_type": "text",
    "id": "FTwHV5lJMKNk"
   },
   "source": [
    "No further processing required. Feature scaling / standardization will be dealed later. "
   ]
  },
  {
   "cell_type": "markdown",
   "metadata": {
    "colab_type": "text",
    "id": "KnDb25ndMR_5"
   },
   "source": [
    "### 1.2.12 quantity"
   ]
  },
  {
   "cell_type": "code",
   "execution_count": 0,
   "metadata": {
    "colab": {
     "base_uri": "https://localhost:8080/",
     "height": 34
    },
    "colab_type": "code",
    "id": "wN26KdpYL-iD",
    "outputId": "61407290-f14b-44ae-d97e-b250da84741f"
   },
   "outputs": [
    {
     "data": {
      "text/plain": [
       "0"
      ]
     },
     "execution_count": 85,
     "metadata": {
      "tags": []
     },
     "output_type": "execute_result"
    }
   ],
   "source": [
    "project_data['quantity'].isnull().sum()"
   ]
  },
  {
   "cell_type": "markdown",
   "metadata": {
    "colab_type": "text",
    "id": "h5qLT_ozMZ4k"
   },
   "source": [
    "No further processing required. Feature scaling / standardization will be handeled later."
   ]
  },
  {
   "cell_type": "markdown",
   "metadata": {
    "colab_type": "text",
    "id": "bqMZOSbSMfPA"
   },
   "source": [
    "#### remove rest of the redundant columns"
   ]
  },
  {
   "cell_type": "code",
   "execution_count": 0,
   "metadata": {
    "colab": {},
    "colab_type": "code",
    "id": "TNm_c2x9MGXe"
   },
   "outputs": [],
   "source": [
    "# remove rest of the redundant columns like id, teacher_id, Date which we won't be using for futher processing\n",
    "\n",
    "project_data.drop(['Unnamed: 0', 'id', 'teacher_id', 'Date'], axis = 1, inplace = True)"
   ]
  },
  {
   "cell_type": "code",
   "execution_count": 0,
   "metadata": {
    "colab": {
     "base_uri": "https://localhost:8080/",
     "height": 199
    },
    "colab_type": "code",
    "id": "8wjh2s27Mkgy",
    "outputId": "c7728326-7a47-401f-97df-05e3a6f85476"
   },
   "outputs": [
    {
     "data": {
      "text/html": [
       "<div>\n",
       "<style scoped>\n",
       "    .dataframe tbody tr th:only-of-type {\n",
       "        vertical-align: middle;\n",
       "    }\n",
       "\n",
       "    .dataframe tbody tr th {\n",
       "        vertical-align: top;\n",
       "    }\n",
       "\n",
       "    .dataframe thead th {\n",
       "        text-align: right;\n",
       "    }\n",
       "</style>\n",
       "<table border=\"1\" class=\"dataframe\">\n",
       "  <thead>\n",
       "    <tr style=\"text-align: right;\">\n",
       "      <th></th>\n",
       "      <th>teacher_prefix</th>\n",
       "      <th>school_state</th>\n",
       "      <th>project_grade_category</th>\n",
       "      <th>teacher_number_of_previously_posted_projects</th>\n",
       "      <th>project_is_approved</th>\n",
       "      <th>clean_categories</th>\n",
       "      <th>clean_subcategories</th>\n",
       "      <th>preprocessed_essay</th>\n",
       "      <th>preprocessed_title</th>\n",
       "      <th>preprocessed_summary</th>\n",
       "      <th>price</th>\n",
       "      <th>quantity</th>\n",
       "    </tr>\n",
       "  </thead>\n",
       "  <tbody>\n",
       "    <tr>\n",
       "      <th>0</th>\n",
       "      <td>mrs</td>\n",
       "      <td>ca</td>\n",
       "      <td>grades_prek_2</td>\n",
       "      <td>53</td>\n",
       "      <td>1</td>\n",
       "      <td>Math_Science</td>\n",
       "      <td>AppliedSciences Health_LifeScience</td>\n",
       "      <td>fortunate enough use fairy tale stem kits clas...</td>\n",
       "      <td>engineering steam primary classroom</td>\n",
       "      <td>stem kits learn critical science engineering s...</td>\n",
       "      <td>725.05</td>\n",
       "      <td>4</td>\n",
       "    </tr>\n",
       "    <tr>\n",
       "      <th>1</th>\n",
       "      <td>ms</td>\n",
       "      <td>ut</td>\n",
       "      <td>grades_3_5</td>\n",
       "      <td>4</td>\n",
       "      <td>1</td>\n",
       "      <td>SpecialNeeds</td>\n",
       "      <td>SpecialNeeds</td>\n",
       "      <td>imagine 8 9 years old third grade classroom se...</td>\n",
       "      <td>sensory tools focus</td>\n",
       "      <td>boogie boards quiet sensory breaks putty senso...</td>\n",
       "      <td>213.03</td>\n",
       "      <td>8</td>\n",
       "    </tr>\n",
       "  </tbody>\n",
       "</table>\n",
       "</div>"
      ],
      "text/plain": [
       "  teacher_prefix school_state  ...   price  quantity\n",
       "0            mrs           ca  ...  725.05         4\n",
       "1             ms           ut  ...  213.03         8\n",
       "\n",
       "[2 rows x 12 columns]"
      ]
     },
     "execution_count": 87,
     "metadata": {
      "tags": []
     },
     "output_type": "execute_result"
    }
   ],
   "source": [
    "# final preprocessed dataset \n",
    "\n",
    "project_data.head(2)"
   ]
  },
  {
   "cell_type": "code",
   "execution_count": 0,
   "metadata": {
    "colab": {
     "base_uri": "https://localhost:8080/",
     "height": 199
    },
    "colab_type": "code",
    "id": "xl-tATtmMpFJ",
    "outputId": "1cb3168d-9af3-464e-f02c-b1fa508d2e57"
   },
   "outputs": [
    {
     "data": {
      "text/html": [
       "<div>\n",
       "<style scoped>\n",
       "    .dataframe tbody tr th:only-of-type {\n",
       "        vertical-align: middle;\n",
       "    }\n",
       "\n",
       "    .dataframe tbody tr th {\n",
       "        vertical-align: top;\n",
       "    }\n",
       "\n",
       "    .dataframe thead th {\n",
       "        text-align: right;\n",
       "    }\n",
       "</style>\n",
       "<table border=\"1\" class=\"dataframe\">\n",
       "  <thead>\n",
       "    <tr style=\"text-align: right;\">\n",
       "      <th></th>\n",
       "      <th>teacher_prefix</th>\n",
       "      <th>school_state</th>\n",
       "      <th>project_grade_category</th>\n",
       "      <th>teacher_number_of_previously_posted_projects</th>\n",
       "      <th>project_is_approved</th>\n",
       "      <th>clean_categories</th>\n",
       "      <th>clean_subcategories</th>\n",
       "      <th>preprocessed_essay</th>\n",
       "      <th>preprocessed_title</th>\n",
       "      <th>preprocessed_summary</th>\n",
       "      <th>price</th>\n",
       "      <th>quantity</th>\n",
       "    </tr>\n",
       "  </thead>\n",
       "  <tbody>\n",
       "    <tr>\n",
       "      <th>49998</th>\n",
       "      <td>mrs</td>\n",
       "      <td>il</td>\n",
       "      <td>grades_3_5</td>\n",
       "      <td>0</td>\n",
       "      <td>1</td>\n",
       "      <td>Math_Science</td>\n",
       "      <td>AppliedSciences EnvironmentalScience</td>\n",
       "      <td>title 1 school 650 total students elementary s...</td>\n",
       "      <td>bringing agriculture sustainability classroom ...</td>\n",
       "      <td>5 windows laptops access agriculture farming s...</td>\n",
       "      <td>399.0</td>\n",
       "      <td>5</td>\n",
       "    </tr>\n",
       "    <tr>\n",
       "      <th>49999</th>\n",
       "      <td>mrs</td>\n",
       "      <td>ca</td>\n",
       "      <td>grades_prek_2</td>\n",
       "      <td>2</td>\n",
       "      <td>1</td>\n",
       "      <td>Literacy_Language</td>\n",
       "      <td>Literacy Literature_Writing</td>\n",
       "      <td>first graders eager learn world around come sc...</td>\n",
       "      <td>news kids</td>\n",
       "      <td>subscription scholastic news magazine expose n...</td>\n",
       "      <td>5.5</td>\n",
       "      <td>25</td>\n",
       "    </tr>\n",
       "  </tbody>\n",
       "</table>\n",
       "</div>"
      ],
      "text/plain": [
       "      teacher_prefix school_state  ...  price  quantity\n",
       "49998            mrs           il  ...  399.0         5\n",
       "49999            mrs           ca  ...    5.5        25\n",
       "\n",
       "[2 rows x 12 columns]"
      ]
     },
     "execution_count": 88,
     "metadata": {
      "tags": []
     },
     "output_type": "execute_result"
    }
   ],
   "source": [
    "# final preprocessed dataset \n",
    "\n",
    "project_data.tail(2)"
   ]
  },
  {
   "cell_type": "code",
   "execution_count": 0,
   "metadata": {
    "colab": {
     "base_uri": "https://localhost:8080/",
     "height": 102
    },
    "colab_type": "code",
    "id": "VvzjYu6tMsmL",
    "outputId": "1084f081-6c2a-4c26-f4b0-f3110183b31f"
   },
   "outputs": [
    {
     "data": {
      "text/plain": [
       "Index(['teacher_prefix', 'school_state', 'project_grade_category',\n",
       "       'teacher_number_of_previously_posted_projects', 'project_is_approved',\n",
       "       'clean_categories', 'clean_subcategories', 'preprocessed_essay',\n",
       "       'preprocessed_title', 'preprocessed_summary', 'price', 'quantity'],\n",
       "      dtype='object')"
      ]
     },
     "execution_count": 89,
     "metadata": {
      "tags": []
     },
     "output_type": "execute_result"
    }
   ],
   "source": [
    "# display the remaining columms considered for further processing \n",
    "\n",
    "project_data.columns"
   ]
  },
  {
   "cell_type": "code",
   "execution_count": 0,
   "metadata": {
    "colab": {},
    "colab_type": "code",
    "id": "0zghsgPCM1Bg"
   },
   "outputs": [],
   "source": [
    "#### Backup the preprocessed data\n",
    "\n",
    "project_data.to_csv('preprocessed_50k_data.csv', index = False)"
   ]
  },
  {
   "cell_type": "markdown",
   "metadata": {
    "colab_type": "text",
    "id": "ZqzQBGJcOW42"
   },
   "source": [
    "## 1.3 Preparing data for models"
   ]
  },
  {
   "cell_type": "markdown",
   "metadata": {
    "colab_type": "text",
    "id": "UR7Ngq4fOZI1"
   },
   "source": [
    "1. For further processing we are going to consider below attributes for training a model :\n",
    "\n",
    "       CATEGORICAL DATA\n",
    "       - teacher_prefix\n",
    "       - school_state \n",
    "       - project_grade_category \n",
    "       - clean_categories \n",
    "       - clean_subcategories \n",
    "        \n",
    "       TEXT DATA\n",
    "       - project_title \n",
    "       - project_resource_summary\n",
    "       - essay\n",
    "       \n",
    "       NUMERICAL DATA\n",
    "       - teacher_number_of_previously_posted_projects \n",
    "       - quantity \n",
    "       - price\n",
    "       \n",
    "2. Also, note that I've considered random 50k datapoints sampled from the dataset of 109k datapoints.     "
   ]
  },
  {
   "cell_type": "code",
   "execution_count": 0,
   "metadata": {
    "colab": {},
    "colab_type": "code",
    "id": "E02Vv9taPEjN"
   },
   "outputs": [],
   "source": [
    "# load the previously preprocessed data\n",
    "\n",
    "data = pd.read_csv(\"preprocessed_50k_data.csv\") "
   ]
  },
  {
   "cell_type": "code",
   "execution_count": 0,
   "metadata": {
    "colab": {
     "base_uri": "https://localhost:8080/",
     "height": 199
    },
    "colab_type": "code",
    "id": "Bv6B2hfuPLwp",
    "outputId": "97926cd5-8928-42d3-de7c-f64e70a2be1f"
   },
   "outputs": [
    {
     "data": {
      "text/html": [
       "<div>\n",
       "<style scoped>\n",
       "    .dataframe tbody tr th:only-of-type {\n",
       "        vertical-align: middle;\n",
       "    }\n",
       "\n",
       "    .dataframe tbody tr th {\n",
       "        vertical-align: top;\n",
       "    }\n",
       "\n",
       "    .dataframe thead th {\n",
       "        text-align: right;\n",
       "    }\n",
       "</style>\n",
       "<table border=\"1\" class=\"dataframe\">\n",
       "  <thead>\n",
       "    <tr style=\"text-align: right;\">\n",
       "      <th></th>\n",
       "      <th>teacher_prefix</th>\n",
       "      <th>school_state</th>\n",
       "      <th>project_grade_category</th>\n",
       "      <th>teacher_number_of_previously_posted_projects</th>\n",
       "      <th>project_is_approved</th>\n",
       "      <th>clean_categories</th>\n",
       "      <th>clean_subcategories</th>\n",
       "      <th>preprocessed_essay</th>\n",
       "      <th>preprocessed_title</th>\n",
       "      <th>preprocessed_summary</th>\n",
       "      <th>price</th>\n",
       "      <th>quantity</th>\n",
       "    </tr>\n",
       "  </thead>\n",
       "  <tbody>\n",
       "    <tr>\n",
       "      <th>49998</th>\n",
       "      <td>mrs</td>\n",
       "      <td>il</td>\n",
       "      <td>grades_3_5</td>\n",
       "      <td>0</td>\n",
       "      <td>1</td>\n",
       "      <td>Math_Science</td>\n",
       "      <td>AppliedSciences EnvironmentalScience</td>\n",
       "      <td>title 1 school 650 total students elementary s...</td>\n",
       "      <td>bringing agriculture sustainability classroom ...</td>\n",
       "      <td>5 windows laptops access agriculture farming s...</td>\n",
       "      <td>399.0</td>\n",
       "      <td>5</td>\n",
       "    </tr>\n",
       "    <tr>\n",
       "      <th>49999</th>\n",
       "      <td>mrs</td>\n",
       "      <td>ca</td>\n",
       "      <td>grades_prek_2</td>\n",
       "      <td>2</td>\n",
       "      <td>1</td>\n",
       "      <td>Literacy_Language</td>\n",
       "      <td>Literacy Literature_Writing</td>\n",
       "      <td>first graders eager learn world around come sc...</td>\n",
       "      <td>news kids</td>\n",
       "      <td>subscription scholastic news magazine expose n...</td>\n",
       "      <td>5.5</td>\n",
       "      <td>25</td>\n",
       "    </tr>\n",
       "  </tbody>\n",
       "</table>\n",
       "</div>"
      ],
      "text/plain": [
       "      teacher_prefix school_state  ...  price  quantity\n",
       "49998            mrs           il  ...  399.0         5\n",
       "49999            mrs           ca  ...    5.5        25\n",
       "\n",
       "[2 rows x 12 columns]"
      ]
     },
     "execution_count": 93,
     "metadata": {
      "tags": []
     },
     "output_type": "execute_result"
    }
   ],
   "source": [
    "data.tail(2)"
   ]
  },
  {
   "cell_type": "code",
   "execution_count": 0,
   "metadata": {
    "colab": {
     "base_uri": "https://localhost:8080/",
     "height": 238
    },
    "colab_type": "code",
    "id": "K1JRrH1cM9tE",
    "outputId": "1fe6fd04-6cd9-4389-d814-5e4c1f15f51f"
   },
   "outputs": [
    {
     "data": {
      "text/plain": [
       "teacher_prefix                                   1\n",
       "school_state                                     0\n",
       "project_grade_category                           0\n",
       "teacher_number_of_previously_posted_projects     0\n",
       "project_is_approved                              0\n",
       "clean_categories                                 0\n",
       "clean_subcategories                              0\n",
       "preprocessed_essay                               0\n",
       "preprocessed_title                              22\n",
       "preprocessed_summary                             0\n",
       "price                                            0\n",
       "quantity                                         0\n",
       "dtype: int64"
      ]
     },
     "execution_count": 94,
     "metadata": {
      "tags": []
     },
     "output_type": "execute_result"
    }
   ],
   "source": [
    "data.isnull().sum()"
   ]
  },
  {
   "cell_type": "markdown",
   "metadata": {
    "colab_type": "text",
    "id": "Ime3r8qNPVj0"
   },
   "source": [
    "> Observation: there are 22 rows where preprocessed_title is null. Let's investigate!  "
   ]
  },
  {
   "cell_type": "code",
   "execution_count": 0,
   "metadata": {
    "colab": {
     "base_uri": "https://localhost:8080/",
     "height": 51
    },
    "colab_type": "code",
    "id": "qpWkeVUZO4kd",
    "outputId": "e9155326-73e6-432e-b3b3-11dac1c5600d"
   },
   "outputs": [
    {
     "data": {
      "text/plain": [
       "747    NaN\n",
       "Name: preprocessed_title, dtype: object"
      ]
     },
     "execution_count": 95,
     "metadata": {
      "tags": []
     },
     "output_type": "execute_result"
    }
   ],
   "source": [
    "data[(data[\"teacher_number_of_previously_posted_projects\"] == 21) \n",
    "     & (data[\"school_state\"] == \"de\")][\"preprocessed_title\"]"
   ]
  },
  {
   "cell_type": "code",
   "execution_count": 0,
   "metadata": {
    "colab": {
     "base_uri": "https://localhost:8080/",
     "height": 51
    },
    "colab_type": "code",
    "id": "8_d644lzPopK",
    "outputId": "1f3d9bd3-8337-40c5-a996-ff7f984d0c3d"
   },
   "outputs": [
    {
     "data": {
      "text/plain": [
       "9019    Who? What? Where? When? Why? How?\n",
       "Name: project_title, dtype: object"
      ]
     },
     "execution_count": 98,
     "metadata": {
      "tags": []
     },
     "output_type": "execute_result"
    }
   ],
   "source": [
    "project_data[(project_data[\"teacher_number_of_previously_posted_projects\"] == 21) \n",
    "             & (project_data[\"school_state\"] == \"DE\")][\"project_title\"]"
   ]
  },
  {
   "cell_type": "markdown",
   "metadata": {
    "colab_type": "text",
    "id": "brvme9WdQEVv"
   },
   "source": [
    "> As seen above, the reason why 22 rows have null preprocessed titles is because their Project title consisted entirely of the Stop words which got removed during the pre-processing steps in previous section. "
   ]
  },
  {
   "cell_type": "code",
   "execution_count": 0,
   "metadata": {
    "colab": {},
    "colab_type": "code",
    "id": "qRhqQCjnPqal"
   },
   "outputs": [],
   "source": [
    "# replacing the null value of project title with 'nan'\n",
    "\n",
    "data['preprocessed_title'].fillna('nan', inplace = True)\n",
    "data['teacher_prefix'].fillna('nan', inplace = True)"
   ]
  },
  {
   "cell_type": "code",
   "execution_count": 0,
   "metadata": {
    "colab": {
     "base_uri": "https://localhost:8080/",
     "height": 34
    },
    "colab_type": "code",
    "id": "MxNeFRT0QLL1",
    "outputId": "49fde4e4-7fc6-4fbf-ace3-bac447c6b361"
   },
   "outputs": [
    {
     "data": {
      "text/plain": [
       "0"
      ]
     },
     "execution_count": 100,
     "metadata": {
      "tags": []
     },
     "output_type": "execute_result"
    }
   ],
   "source": [
    "data['preprocessed_title'].isnull().sum()"
   ]
  },
  {
   "cell_type": "code",
   "execution_count": 0,
   "metadata": {
    "colab": {
     "base_uri": "https://localhost:8080/",
     "height": 34
    },
    "colab_type": "code",
    "id": "17YwCc72QRZh",
    "outputId": "dabeaed9-c506-468c-885d-c9b926a423f3"
   },
   "outputs": [
    {
     "data": {
      "text/plain": [
       "0"
      ]
     },
     "execution_count": 101,
     "metadata": {
      "tags": []
     },
     "output_type": "execute_result"
    }
   ],
   "source": [
    "data['teacher_prefix'].isnull().sum()"
   ]
  },
  {
   "cell_type": "markdown",
   "metadata": {
    "colab_type": "text",
    "id": "J-G0kDRZQXFt"
   },
   "source": [
    "#### Let's proceed to Vectorize the feature values "
   ]
  },
  {
   "cell_type": "code",
   "execution_count": 0,
   "metadata": {
    "colab": {
     "base_uri": "https://localhost:8080/",
     "height": 134
    },
    "colab_type": "code",
    "id": "vmrpZDo3QSpH",
    "outputId": "1b3c01d2-424b-419d-9806-5217f000621b"
   },
   "outputs": [
    {
     "data": {
      "text/html": [
       "<div>\n",
       "<style scoped>\n",
       "    .dataframe tbody tr th:only-of-type {\n",
       "        vertical-align: middle;\n",
       "    }\n",
       "\n",
       "    .dataframe tbody tr th {\n",
       "        vertical-align: top;\n",
       "    }\n",
       "\n",
       "    .dataframe thead th {\n",
       "        text-align: right;\n",
       "    }\n",
       "</style>\n",
       "<table border=\"1\" class=\"dataframe\">\n",
       "  <thead>\n",
       "    <tr style=\"text-align: right;\">\n",
       "      <th></th>\n",
       "      <th>teacher_prefix</th>\n",
       "      <th>school_state</th>\n",
       "      <th>project_grade_category</th>\n",
       "      <th>teacher_number_of_previously_posted_projects</th>\n",
       "      <th>clean_categories</th>\n",
       "      <th>clean_subcategories</th>\n",
       "      <th>preprocessed_essay</th>\n",
       "      <th>preprocessed_title</th>\n",
       "      <th>preprocessed_summary</th>\n",
       "      <th>price</th>\n",
       "      <th>quantity</th>\n",
       "    </tr>\n",
       "  </thead>\n",
       "  <tbody>\n",
       "    <tr>\n",
       "      <th>0</th>\n",
       "      <td>mrs</td>\n",
       "      <td>ca</td>\n",
       "      <td>grades_prek_2</td>\n",
       "      <td>53</td>\n",
       "      <td>Math_Science</td>\n",
       "      <td>AppliedSciences Health_LifeScience</td>\n",
       "      <td>fortunate enough use fairy tale stem kits clas...</td>\n",
       "      <td>engineering steam primary classroom</td>\n",
       "      <td>stem kits learn critical science engineering s...</td>\n",
       "      <td>725.05</td>\n",
       "      <td>4</td>\n",
       "    </tr>\n",
       "  </tbody>\n",
       "</table>\n",
       "</div>"
      ],
      "text/plain": [
       "  teacher_prefix school_state  ...   price  quantity\n",
       "0            mrs           ca  ...  725.05         4\n",
       "\n",
       "[1 rows x 11 columns]"
      ]
     },
     "execution_count": 102,
     "metadata": {
      "tags": []
     },
     "output_type": "execute_result"
    }
   ],
   "source": [
    "y = data['project_is_approved'].values\n",
    "X = data.drop(['project_is_approved'], axis=1)\n",
    "X.head(1)"
   ]
  },
  {
   "cell_type": "markdown",
   "metadata": {
    "colab_type": "text",
    "id": "PkJQO4kKQf-Z"
   },
   "source": [
    "### 1.3.1 Splitting data into Train and cross validation(or test): Stratified Sampling"
   ]
  },
  {
   "cell_type": "code",
   "execution_count": 0,
   "metadata": {
    "colab": {},
    "colab_type": "code",
    "id": "Dk0X-tReQalR"
   },
   "outputs": [],
   "source": [
    "# train test cv splitting\n",
    "from sklearn.model_selection import train_test_split\n",
    "\n",
    "X_train, X_test, y_train, y_test = train_test_split(X, y, test_size = 0.33, stratify = y)\n",
    "X_train, X_cv, y_train, y_cv = train_test_split(X_train, y_train, test_size = 0.33, stratify = y_train)"
   ]
  },
  {
   "cell_type": "markdown",
   "metadata": {
    "colab_type": "text",
    "id": "1yjhQEVCQqFf"
   },
   "source": [
    "### 1.3.2 Vectorizing data - Encoding Categorical, Text and Numerical features "
   ]
  },
  {
   "cell_type": "markdown",
   "metadata": {
    "colab_type": "text",
    "id": "YjtmjvLUQu-7"
   },
   "source": [
    "#### 1.3.2.1  One-hot-encoding of categorical features: teacher_prefix"
   ]
  },
  {
   "cell_type": "code",
   "execution_count": 0,
   "metadata": {
    "colab": {
     "base_uri": "https://localhost:8080/",
     "height": 119
    },
    "colab_type": "code",
    "id": "5zzcCA85QjYb",
    "outputId": "965784e8-b056-4eb5-ab9f-ac91218aee24"
   },
   "outputs": [
    {
     "name": "stdout",
     "output_type": "stream",
     "text": [
      "['dr', 'mr', 'mrs', 'ms', 'teacher']\n",
      "====================================================================================================\n",
      "After vectorization\n",
      "(22445, 5) (22445,)\n",
      "(11055, 5) (11055,)\n",
      "(16500, 5) (16500,)\n"
     ]
    }
   ],
   "source": [
    "vectorizer = CountVectorizer()\n",
    "vectorizer.fit(X_train['teacher_prefix'].values) # fit has to happen only on train data\n",
    "print(vectorizer.get_feature_names())\n",
    "\n",
    "# we use the fitted CountVectorizer to convert the text to vector\n",
    "\n",
    "X_train_prefix = vectorizer.transform(X_train['teacher_prefix'].values)\n",
    "X_cv_prefix    = vectorizer.transform(X_cv['teacher_prefix'].values)\n",
    "X_test_prefix  = vectorizer.transform(X_test['teacher_prefix'].values)\n",
    "\n",
    "print(\"=\"*100)\n",
    "print(\"After vectorization\")\n",
    "print(X_train_prefix.shape, y_train.shape)\n",
    "print(X_cv_prefix.shape, y_cv.shape)\n",
    "print(X_test_prefix.shape, y_test.shape)"
   ]
  },
  {
   "cell_type": "markdown",
   "metadata": {
    "colab_type": "text",
    "id": "hEPcU_DJQ6Cr"
   },
   "source": [
    "#### 1.3.2.2 One-hot-encoding of categorical feature: school_state"
   ]
  },
  {
   "cell_type": "code",
   "execution_count": 0,
   "metadata": {
    "colab": {
     "base_uri": "https://localhost:8080/",
     "height": 139
    },
    "colab_type": "code",
    "id": "HlaBRxp1Qt63",
    "outputId": "6f62eb39-e214-41f7-e133-c50ac1470dbd"
   },
   "outputs": [
    {
     "name": "stdout",
     "output_type": "stream",
     "text": [
      "['ak', 'al', 'ar', 'az', 'ca', 'co', 'ct', 'dc', 'de', 'fl', 'ga', 'hi', 'ia', 'id', 'il', 'in', 'ks', 'ky', 'la', 'ma', 'md', 'me', 'mi', 'mn', 'mo', 'ms', 'mt', 'nc', 'nd', 'ne', 'nh', 'nj', 'nm', 'nv', 'ny', 'oh', 'ok', 'or', 'pa', 'ri', 'sc', 'sd', 'tn', 'tx', 'ut', 'va', 'vt', 'wa', 'wi', 'wv', 'wy']\n",
      "====================================================================================================\n",
      "After vectorization\n",
      "(22445, 51) (22445,)\n",
      "(11055, 51) (11055,)\n",
      "(16500, 51) (16500,)\n"
     ]
    }
   ],
   "source": [
    "vectorizer = CountVectorizer()\n",
    "vectorizer.fit(X_train['school_state'].values) # fit has to happen only on train data\n",
    "print(vectorizer.get_feature_names())\n",
    "\n",
    "# we use the fitted CountVectorizer to convert the text to vector\n",
    "\n",
    "X_train_state = vectorizer.transform(X_train['school_state'].values)\n",
    "X_cv_state    = vectorizer.transform(X_cv['school_state'].values)\n",
    "X_test_state  = vectorizer.transform(X_test['school_state'].values)\n",
    "\n",
    "print(\"=\"*100)\n",
    "print(\"After vectorization\")\n",
    "print(X_train_state.shape, y_train.shape)\n",
    "print(X_cv_state.shape, y_cv.shape)\n",
    "print(X_test_state.shape, y_test.shape)"
   ]
  },
  {
   "cell_type": "code",
   "execution_count": 0,
   "metadata": {
    "colab": {
     "base_uri": "https://localhost:8080/",
     "height": 119
    },
    "colab_type": "code",
    "id": "vQ5sX3CwQ_-S",
    "outputId": "56f61e53-8639-4a22-f2fd-6a4bcd19ca00"
   },
   "outputs": [
    {
     "name": "stdout",
     "output_type": "stream",
     "text": [
      "['grades_3_5', 'grades_6_8', 'grades_9_12', 'grades_prek_2']\n",
      "====================================================================================================\n",
      "After Vectorization\n",
      "(22445, 4) (22445,)\n",
      "(11055, 4) (11055,)\n",
      "(16500, 4) (16500,)\n"
     ]
    }
   ],
   "source": [
    "vectorizer = CountVectorizer()\n",
    "vectorizer.fit(X_train['project_grade_category'].values) \n",
    "print(vectorizer.get_feature_names())\n",
    "\n",
    "# we use the fitted CountVectorizer to convert the text to vector\n",
    "\n",
    "X_train_grade = vectorizer.transform(X_train['project_grade_category'].values)\n",
    "X_cv_grade    = vectorizer.transform(X_cv['project_grade_category'].values)\n",
    "X_test_grade  = vectorizer.transform(X_test['project_grade_category'].values)\n",
    "\n",
    "print(\"=\"*100)\n",
    "print(\"After Vectorization\")\n",
    "print(X_train_grade.shape, y_train.shape)\n",
    "print(X_cv_grade.shape, y_cv.shape)\n",
    "print(X_test_grade.shape, y_test.shape)"
   ]
  },
  {
   "cell_type": "markdown",
   "metadata": {
    "colab_type": "text",
    "id": "t9utiY9VRKM2"
   },
   "source": [
    "#### 1.3.2.4 One-hot-encoding of categorical feature: clean_categories (project_subject_categories)"
   ]
  },
  {
   "cell_type": "code",
   "execution_count": 0,
   "metadata": {
    "colab": {
     "base_uri": "https://localhost:8080/",
     "height": 119
    },
    "colab_type": "code",
    "id": "moHF5fcyRECk",
    "outputId": "fa72a02c-148b-4f53-aa61-ce7b22a034ef"
   },
   "outputs": [
    {
     "name": "stdout",
     "output_type": "stream",
     "text": [
      "['appliedlearning', 'care_hunger', 'health_sports', 'history_civics', 'literacy_language', 'math_science', 'music_arts', 'specialneeds', 'warmth']\n",
      "====================================================================================================\n",
      "After Vectorization\n",
      "(22445, 9) (22445,)\n",
      "(11055, 9) (11055,)\n",
      "(16500, 9) (16500,)\n"
     ]
    }
   ],
   "source": [
    "vectorizer = CountVectorizer()\n",
    "vectorizer.fit(X_train['clean_categories'].values) \n",
    "print(vectorizer.get_feature_names())\n",
    "\n",
    "# we use the fitted CountVectorizer to convert the text to vector\n",
    "\n",
    "X_train_cat = vectorizer.transform(X_train['clean_categories'].values)\n",
    "X_cv_cat    = vectorizer.transform(X_cv['clean_categories'].values)\n",
    "X_test_cat  = vectorizer.transform(X_test['clean_categories'].values)\n",
    "\n",
    "print(\"=\"*100)\n",
    "print(\"After Vectorization\")\n",
    "print(X_train_cat.shape, y_train.shape)\n",
    "print(X_cv_cat.shape, y_cv.shape)\n",
    "print(X_test_cat.shape, y_test.shape)"
   ]
  },
  {
   "cell_type": "markdown",
   "metadata": {
    "colab_type": "text",
    "id": "CtubxkWURXU9"
   },
   "source": [
    "#### 1.3.2.5 One-hot-encoding of categorical feature: clean_subcategories (project_subject_subcategories)\n",
    "\n"
   ]
  },
  {
   "cell_type": "code",
   "execution_count": 0,
   "metadata": {
    "colab": {
     "base_uri": "https://localhost:8080/",
     "height": 139
    },
    "colab_type": "code",
    "id": "A__0xwVGRTvS",
    "outputId": "430a5236-e58c-46b0-8914-71fb61eda4ef"
   },
   "outputs": [
    {
     "name": "stdout",
     "output_type": "stream",
     "text": [
      "['appliedsciences', 'care_hunger', 'charactereducation', 'civics_government', 'college_careerprep', 'communityservice', 'earlydevelopment', 'economics', 'environmentalscience', 'esl', 'extracurricular', 'financialliteracy', 'foreignlanguages', 'gym_fitness', 'health_lifescience', 'health_wellness', 'history_geography', 'literacy', 'literature_writing', 'mathematics', 'music', 'nutritioneducation', 'other', 'parentinvolvement', 'performingarts', 'socialsciences', 'specialneeds', 'teamsports', 'visualarts', 'warmth']\n",
      "====================================================================================================\n",
      "After Vectorization\n",
      "(22445, 30) (22445,)\n",
      "(11055, 30) (11055,)\n",
      "(16500, 30) (16500,)\n"
     ]
    }
   ],
   "source": [
    "vectorizer = CountVectorizer()\n",
    "vectorizer.fit(X_train['clean_subcategories'].values) # fit has to happen only on train data\n",
    "print(vectorizer.get_feature_names())\n",
    "\n",
    "# we use the fitted CountVectorizer to convert the text to vector\n",
    "\n",
    "X_train_subcat = vectorizer.transform(X_train['clean_subcategories'].values)\n",
    "X_cv_subcat    = vectorizer.transform(X_cv['clean_subcategories'].values)\n",
    "X_test_subcat  = vectorizer.transform(X_test['clean_subcategories'].values)\n",
    "\n",
    "print(\"=\"*100)\n",
    "print(\"After Vectorization\")\n",
    "print(X_train_subcat.shape, y_train.shape)\n",
    "print(X_cv_subcat.shape, y_cv.shape)\n",
    "print(X_test_subcat.shape, y_test.shape)"
   ]
  },
  {
   "cell_type": "markdown",
   "metadata": {
    "colab_type": "text",
    "id": "NnPk4Ge3Recg"
   },
   "source": [
    "#### 1.3.2.6 Numerical feature: price"
   ]
  },
  {
   "cell_type": "code",
   "execution_count": 0,
   "metadata": {
    "colab": {
     "base_uri": "https://localhost:8080/",
     "height": 170
    },
    "colab_type": "code",
    "id": "oHRKCucDRcnJ",
    "outputId": "b8b052e3-a6d1-4049-87e0-e94628bb5a10"
   },
   "outputs": [
    {
     "data": {
      "text/plain": [
       "count    50000.000000\n",
       "mean       297.097989\n",
       "std        368.868930\n",
       "min          0.690000\n",
       "25%        103.880000\n",
       "50%        205.490000\n",
       "75%        379.000000\n",
       "max       9999.000000\n",
       "Name: price, dtype: float64"
      ]
     },
     "execution_count": 110,
     "metadata": {
      "tags": []
     },
     "output_type": "execute_result"
    }
   ],
   "source": [
    "data['price'].describe()"
   ]
  },
  {
   "cell_type": "code",
   "execution_count": 0,
   "metadata": {
    "colab": {},
    "colab_type": "code",
    "id": "oO7ClPmfRrJe"
   },
   "outputs": [],
   "source": [
    "# We'll be using the RobustScaler on the Numerical features \n",
    "\n",
    "from sklearn.preprocessing import RobustScaler \n",
    "robust_scaler = RobustScaler()\n",
    "\n",
    "robust_scaler.fit(X_train['price'].values.reshape(-1,1))\n",
    "\n",
    "X_train_price = robust_scaler.transform(X_train['price'].values.reshape(-1,1))\n",
    "X_cv_price = robust_scaler.transform(X_cv['price'].values.reshape(-1,1))\n",
    "X_test_price = robust_scaler.transform(X_test['price'].values.reshape(-1,1))"
   ]
  },
  {
   "cell_type": "code",
   "execution_count": 0,
   "metadata": {
    "colab": {
     "base_uri": "https://localhost:8080/",
     "height": 102
    },
    "colab_type": "code",
    "id": "n0eAcfcmRwyK",
    "outputId": "bd87cd35-6bda-4935-9a82-170be7910f51"
   },
   "outputs": [
    {
     "name": "stdout",
     "output_type": "stream",
     "text": [
      "After vectorizations\n",
      "(22445, 1) (22445,)\n",
      "(11055, 1) (11055,)\n",
      "(16500, 1) (16500,)\n",
      "====================================================================================================\n"
     ]
    }
   ],
   "source": [
    "print(\"After vectorizations\")\n",
    "print(X_train_price.shape, y_train.shape)\n",
    "print(X_cv_price.shape, y_cv.shape)\n",
    "print(X_test_price.shape, y_test.shape)\n",
    "print(\"=\"*100)"
   ]
  },
  {
   "cell_type": "code",
   "execution_count": 0,
   "metadata": {
    "colab": {
     "base_uri": "https://localhost:8080/",
     "height": 34
    },
    "colab_type": "code",
    "id": "tbYN8vx1R0-v",
    "outputId": "b686ba19-de41-48b3-f3a6-6d9f51d8976d"
   },
   "outputs": [
    {
     "data": {
      "text/plain": [
       "35.73512132822477"
      ]
     },
     "execution_count": 113,
     "metadata": {
      "tags": []
     },
     "output_type": "execute_result"
    }
   ],
   "source": [
    "X_train_price.max()"
   ]
  },
  {
   "cell_type": "markdown",
   "metadata": {
    "colab_type": "text",
    "id": "4QzmktQeRwEp"
   },
   "source": [
    "#### 1.3.2.7 Numerical feature: teacher_number_of_previously_posted_projects"
   ]
  },
  {
   "cell_type": "code",
   "execution_count": 0,
   "metadata": {
    "colab": {
     "base_uri": "https://localhost:8080/",
     "height": 170
    },
    "colab_type": "code",
    "id": "-xk7pXQmR_TH",
    "outputId": "ececda04-64a5-4438-95f4-ecfa9b7614e0"
   },
   "outputs": [
    {
     "data": {
      "text/plain": [
       "count    50000.000000\n",
       "mean        11.258800\n",
       "std         28.101407\n",
       "min          0.000000\n",
       "25%          0.000000\n",
       "50%          2.000000\n",
       "75%          9.000000\n",
       "max        451.000000\n",
       "Name: teacher_number_of_previously_posted_projects, dtype: float64"
      ]
     },
     "execution_count": 114,
     "metadata": {
      "tags": []
     },
     "output_type": "execute_result"
    }
   ],
   "source": [
    "data['teacher_number_of_previously_posted_projects'].describe()"
   ]
  },
  {
   "cell_type": "markdown",
   "metadata": {
    "colab_type": "text",
    "id": "O_VSKnZCRdIt"
   },
   "source": [
    "> Observation : Here mean > median => The data is right-skewed and i.e some values that are very large."
   ]
  },
  {
   "cell_type": "code",
   "execution_count": 0,
   "metadata": {
    "colab": {
     "base_uri": "https://localhost:8080/",
     "height": 102
    },
    "colab_type": "code",
    "id": "bKtQdwRPSEea",
    "outputId": "2c85a881-75c9-40f7-d0a1-d689af453662"
   },
   "outputs": [
    {
     "name": "stdout",
     "output_type": "stream",
     "text": [
      "After vectorizations\n",
      "(22445, 1) (22445,)\n",
      "(11055, 1) (11055,)\n",
      "(16500, 1) (16500,)\n",
      "====================================================================================================\n"
     ]
    }
   ],
   "source": [
    "# We'll be using the RobustScaler on the Numerical features \n",
    "\n",
    "robust_scaler = RobustScaler()\n",
    "\n",
    "robust_scaler.fit(X_train['teacher_number_of_previously_posted_projects'].values.reshape(-1,1))\n",
    "\n",
    "X_train_prev_proj = robust_scaler.transform(X_train['teacher_number_of_previously_posted_projects'].values.reshape(-1,1))\n",
    "X_cv_prev_proj = robust_scaler.transform(X_cv['teacher_number_of_previously_posted_projects'].values.reshape(-1,1))\n",
    "X_test_prev_proj = robust_scaler.transform(X_test['teacher_number_of_previously_posted_projects'].values.reshape(-1,1))\n",
    "\n",
    "print(\"After vectorizations\")\n",
    "print(X_train_prev_proj.shape, y_train.shape)\n",
    "print(X_cv_prev_proj.shape, y_cv.shape)\n",
    "print(X_test_prev_proj.shape, y_test.shape)\n",
    "print(\"=\"*100)"
   ]
  },
  {
   "cell_type": "code",
   "execution_count": 0,
   "metadata": {
    "colab": {
     "base_uri": "https://localhost:8080/",
     "height": 34
    },
    "colab_type": "code",
    "id": "C310FFpaSHgK",
    "outputId": "455747f1-30cf-4c98-d1a7-e84c40df3ac3"
   },
   "outputs": [
    {
     "data": {
      "text/plain": [
       "48.333333333333336"
      ]
     },
     "execution_count": 116,
     "metadata": {
      "tags": []
     },
     "output_type": "execute_result"
    }
   ],
   "source": [
    "X_test_prev_proj.max()"
   ]
  },
  {
   "cell_type": "markdown",
   "metadata": {
    "colab_type": "text",
    "id": "IfveFuCbSMK6"
   },
   "source": [
    "#### 1.3.2.8 Numerical feature: quantity"
   ]
  },
  {
   "cell_type": "code",
   "execution_count": 0,
   "metadata": {
    "colab": {
     "base_uri": "https://localhost:8080/",
     "height": 170
    },
    "colab_type": "code",
    "id": "ZGMCeJMXSJhU",
    "outputId": "a671f5be-d420-4610-ae1f-85ce0cee2417"
   },
   "outputs": [
    {
     "data": {
      "text/plain": [
       "count    50000.000000\n",
       "mean        17.013460\n",
       "std         26.690052\n",
       "min          1.000000\n",
       "25%          4.000000\n",
       "50%          9.000000\n",
       "75%         21.000000\n",
       "max        930.000000\n",
       "Name: quantity, dtype: float64"
      ]
     },
     "execution_count": 117,
     "metadata": {
      "tags": []
     },
     "output_type": "execute_result"
    }
   ],
   "source": [
    "data['quantity'].describe()"
   ]
  },
  {
   "cell_type": "code",
   "execution_count": 0,
   "metadata": {
    "colab": {
     "base_uri": "https://localhost:8080/",
     "height": 102
    },
    "colab_type": "code",
    "id": "Ptw3XOVFSP3r",
    "outputId": "951bfb5d-2801-4afa-a086-641e0afae676"
   },
   "outputs": [
    {
     "name": "stdout",
     "output_type": "stream",
     "text": [
      "After vectorization\n",
      "(22445, 1) (22445,)\n",
      "(11055, 1) (11055,)\n",
      "(16500, 1) (16500,)\n",
      "====================================================================================================\n"
     ]
    }
   ],
   "source": [
    "# We'll be using the RobustScaler on the Numerical features \n",
    "\n",
    "robust_scaler = RobustScaler()\n",
    "\n",
    "robust_scaler.fit(X_train['quantity'].values.reshape(-1,1))\n",
    "\n",
    "X_train_quant = robust_scaler.transform(X_train['quantity'].values.reshape(-1,1))\n",
    "X_cv_quant = robust_scaler.transform(X_cv['quantity'].values.reshape(-1,1))\n",
    "X_test_quant = robust_scaler.transform(X_test['quantity'].values.reshape(-1,1))\n",
    "\n",
    "print(\"After vectorization\")\n",
    "print(X_train_quant.shape, y_train.shape)\n",
    "print(X_cv_quant.shape, y_cv.shape)\n",
    "print(X_test_quant.shape, y_test.shape)\n",
    "print(\"=\"*100)"
   ]
  },
  {
   "cell_type": "code",
   "execution_count": 0,
   "metadata": {
    "colab": {
     "base_uri": "https://localhost:8080/",
     "height": 34
    },
    "colab_type": "code",
    "id": "Bru3m1lSSRPL",
    "outputId": "42874d8b-9b26-4614-f4d2-0e6d66462405"
   },
   "outputs": [
    {
     "data": {
      "text/plain": [
       "-0.47058823529411764"
      ]
     },
     "execution_count": 119,
     "metadata": {
      "tags": []
     },
     "output_type": "execute_result"
    }
   ],
   "source": [
    "X_train_quant.min()"
   ]
  },
  {
   "cell_type": "markdown",
   "metadata": {
    "colab_type": "text",
    "id": "82UGt5exSWpP"
   },
   "source": [
    "#### 1.3.2.8 Text features: BOW Vectorization of preprocessed_title(project_title), preprocessed_summary (project_resource_summary) and preprocessed_essay (essay)"
   ]
  },
  {
   "cell_type": "code",
   "execution_count": 0,
   "metadata": {
    "colab": {
     "base_uri": "https://localhost:8080/",
     "height": 85
    },
    "colab_type": "code",
    "id": "_J4fhp1oST4s",
    "outputId": "40a8b6b9-7fe3-4254-af52-085b214a9da5"
   },
   "outputs": [
    {
     "name": "stdout",
     "output_type": "stream",
     "text": [
      "After vectorization\n",
      "(22445, 1152) (22445,)\n",
      "(11055, 1152) (11055,)\n",
      "(16500, 1152) (16500,)\n"
     ]
    }
   ],
   "source": [
    "# BOW transformation of project title\n",
    "\n",
    "vectorizer = CountVectorizer(min_df = 10)\n",
    "vectorizer.fit(X_train['preprocessed_title'].values) # fit has to happen only on train data\n",
    "\n",
    "# we use the fitted CountVectorizer to convert the text to vector\n",
    "X_train_title_bow = vectorizer.transform(X_train['preprocessed_title'].values)\n",
    "X_cv_title_bow = vectorizer.transform(X_cv['preprocessed_title'].values)\n",
    "X_test_title_bow = vectorizer.transform(X_test['preprocessed_title'].values)\n",
    "\n",
    "print(\"After vectorization\")\n",
    "print(X_train_title_bow.shape, y_train.shape)\n",
    "print(X_cv_title_bow.shape, y_cv.shape)\n",
    "print(X_test_title_bow.shape, y_test.shape)"
   ]
  },
  {
   "cell_type": "code",
   "execution_count": 0,
   "metadata": {
    "colab": {
     "base_uri": "https://localhost:8080/",
     "height": 85
    },
    "colab_type": "code",
    "id": "D0BRmGNHSrbi",
    "outputId": "ffd38569-ece1-4601-d701-372b7ff89170"
   },
   "outputs": [
    {
     "name": "stdout",
     "output_type": "stream",
     "text": [
      "After vectorization\n",
      "(22445, 2481) (22445,)\n",
      "(11055, 2481) (11055,)\n",
      "(16500, 2481) (16500,)\n"
     ]
    }
   ],
   "source": [
    "# BOW transformation of project resource summary\n",
    "\n",
    "vectorizer = CountVectorizer(min_df = 10)\n",
    "vectorizer.fit(X_train['preprocessed_summary'].values) # fit has to happen only on train data\n",
    "\n",
    "# we use the fitted CountVectorizer to convert the text to vector\n",
    "X_train_summary_bow = vectorizer.transform(X_train['preprocessed_summary'].values)\n",
    "X_cv_summary_bow = vectorizer.transform(X_cv['preprocessed_summary'].values)\n",
    "X_test_summary_bow = vectorizer.transform(X_test['preprocessed_summary'].values)\n",
    "\n",
    "print(\"After vectorization\")\n",
    "print(X_train_summary_bow.shape, y_train.shape)\n",
    "print(X_cv_summary_bow.shape, y_cv.shape)\n",
    "print(X_test_summary_bow.shape, y_test.shape)"
   ]
  },
  {
   "cell_type": "code",
   "execution_count": 0,
   "metadata": {
    "colab": {
     "base_uri": "https://localhost:8080/",
     "height": 85
    },
    "colab_type": "code",
    "id": "I6g2tPKgTKEs",
    "outputId": "4344cf23-fbf1-4eae-df44-59952a3cb4d8"
   },
   "outputs": [
    {
     "name": "stdout",
     "output_type": "stream",
     "text": [
      "After vectorization\n",
      "(22445, 5000) (22445,)\n",
      "(11055, 5000) (11055,)\n",
      "(16500, 5000) (16500,)\n"
     ]
    }
   ],
   "source": [
    "# BOW transformation of essay\n",
    "\n",
    "vectorizer = CountVectorizer(min_df = 10, max_df = 0.5, max_features = 5000) #select 5000 most frequent features\n",
    "vectorizer.fit(X_train['preprocessed_essay'].values) # fit has to happen only on train data\n",
    "\n",
    "# we use the fitted CountVectorizer to convert the text to vector\n",
    "X_train_essay_bow = vectorizer.transform(X_train['preprocessed_essay'].values)\n",
    "X_cv_essay_bow = vectorizer.transform(X_cv['preprocessed_essay'].values)\n",
    "X_test_essay_bow = vectorizer.transform(X_test['preprocessed_essay'].values)\n",
    "\n",
    "print(\"After vectorization\")\n",
    "print(X_train_essay_bow.shape, y_train.shape)\n",
    "print(X_cv_essay_bow.shape, y_cv.shape)\n",
    "print(X_test_essay_bow.shape, y_test.shape)"
   ]
  },
  {
   "cell_type": "markdown",
   "metadata": {
    "colab_type": "text",
    "id": "X2vIk4V3TfMs"
   },
   "source": [
    "#### 1.3.2.9 Text features: TF-IDF Vectorization on preprocessed_title (project_title), preprocessed_summary (project_resource_summary) and preprocessed_essay (essay)"
   ]
  },
  {
   "cell_type": "code",
   "execution_count": 0,
   "metadata": {
    "colab": {
     "base_uri": "https://localhost:8080/",
     "height": 85
    },
    "colab_type": "code",
    "id": "LT2g9aEJTaAs",
    "outputId": "8d00a84f-2ff9-46dd-e7ea-5a9379e526e9"
   },
   "outputs": [
    {
     "name": "stdout",
     "output_type": "stream",
     "text": [
      "After vectorization\n",
      "(22445, 1152) (22445,)\n",
      "(11055, 1152) (11055,)\n",
      "(16500, 1152) (16500,)\n"
     ]
    }
   ],
   "source": [
    "# TF-IDF transformation of project title\n",
    "\n",
    "vectorizer = TfidfVectorizer(min_df = 10)\n",
    "vectorizer.fit(X_train['preprocessed_title'].values) # fit has to happen only on train data\n",
    "\n",
    "# we use the fitted CountVectorizer to convert the text to vector\n",
    "X_train_title_tfidf = vectorizer.transform(X_train['preprocessed_title'].values)\n",
    "X_cv_title_tfidf = vectorizer.transform(X_cv['preprocessed_title'].values)\n",
    "X_test_title_tfidf = vectorizer.transform(X_test['preprocessed_title'].values)\n",
    "\n",
    "print(\"After vectorization\")\n",
    "print(X_train_title_tfidf.shape, y_train.shape)\n",
    "print(X_cv_title_tfidf.shape, y_cv.shape)\n",
    "print(X_test_title_tfidf.shape, y_test.shape)"
   ]
  },
  {
   "cell_type": "code",
   "execution_count": 0,
   "metadata": {
    "colab": {
     "base_uri": "https://localhost:8080/",
     "height": 85
    },
    "colab_type": "code",
    "id": "YmzUs3SJTsWF",
    "outputId": "11a255a0-d1ef-4239-ca5b-f3764ebb5f1b"
   },
   "outputs": [
    {
     "name": "stdout",
     "output_type": "stream",
     "text": [
      "After vectorization\n",
      "(22445, 2481) (22445,)\n",
      "(11055, 2481) (11055,)\n",
      "(16500, 2481) (16500,)\n"
     ]
    }
   ],
   "source": [
    "# TFIDF transformation of project resource summary\n",
    "\n",
    "vectorizer = TfidfVectorizer(min_df = 10)\n",
    "vectorizer.fit(X_train['preprocessed_summary'].values) # fit has to happen only on train data\n",
    "\n",
    "# we use the fitted CountVectorizer to convert the text to vector\n",
    "X_train_summary_tfidf = vectorizer.transform(X_train['preprocessed_summary'].values)\n",
    "X_cv_summary_tfidf = vectorizer.transform(X_cv['preprocessed_summary'].values)\n",
    "X_test_summary_tfidf = vectorizer.transform(X_test['preprocessed_summary'].values)\n",
    "\n",
    "print(\"After vectorization\")\n",
    "print(X_train_summary_tfidf.shape, y_train.shape)\n",
    "print(X_cv_summary_tfidf.shape, y_cv.shape)\n",
    "print(X_test_summary_tfidf.shape, y_test.shape)"
   ]
  },
  {
   "cell_type": "code",
   "execution_count": 0,
   "metadata": {
    "colab": {
     "base_uri": "https://localhost:8080/",
     "height": 85
    },
    "colab_type": "code",
    "id": "d7U0XhHST5Jg",
    "outputId": "616085cf-681b-4ec1-9ad8-5d3607c365d4"
   },
   "outputs": [
    {
     "name": "stdout",
     "output_type": "stream",
     "text": [
      "After vectorization\n",
      "(22445, 5000) (22445,)\n",
      "(11055, 5000) (11055,)\n",
      "(16500, 5000) (16500,)\n"
     ]
    }
   ],
   "source": [
    "# Tfidf transformation of essay\n",
    "\n",
    "vectorizer = TfidfVectorizer(min_df = 10, max_df = 0.5, max_features = 5000) # select 5000 most frequent features\n",
    "vectorizer.fit(X_train['preprocessed_essay'].values) # fit has to happen only on train data\n",
    "\n",
    "# we use the fitted CountVectorizer to convert the text to vector\n",
    "X_train_essay_tfidf = vectorizer.transform(X_train['preprocessed_essay'].values)\n",
    "X_cv_essay_tfidf = vectorizer.transform(X_cv['preprocessed_essay'].values)\n",
    "X_test_essay_tfidf = vectorizer.transform(X_test['preprocessed_essay'].values)\n",
    "\n",
    "print(\"After vectorization\")\n",
    "print(X_train_essay_tfidf.shape, y_train.shape)\n",
    "print(X_cv_essay_tfidf.shape, y_cv.shape)\n",
    "print(X_test_essay_tfidf.shape, y_test.shape)"
   ]
  },
  {
   "cell_type": "markdown",
   "metadata": {
    "colab_type": "text",
    "id": "_1lkDMvoUKxm"
   },
   "source": [
    "#### 1.3.2.10 Text features: Using pre-trained model AVG-W2V Vectorization on preprocessed_title (project_title), preprocessed_summary (project_resource_summary) and preprocessed_essay (essay)"
   ]
  },
  {
   "cell_type": "code",
   "execution_count": 0,
   "metadata": {
    "colab": {},
    "colab_type": "code",
    "id": "tO0viyGsUHlZ"
   },
   "outputs": [],
   "source": [
    "'''\n",
    "# Reading glove vectors in python: https://stackoverflow.com/a/38230349/4084039\n",
    "def loadGloveModel(gloveFile):\n",
    "    print (\"Loading Glove Model\")\n",
    "    f = open(gloveFile,'r', encoding=\"utf8\")\n",
    "    model = {}\n",
    "    for line in tqdm(f):\n",
    "        splitLine = line.split()\n",
    "        word = splitLine[0]\n",
    "        embedding = np.array([float(val) for val in splitLine[1:]])\n",
    "        model[word] = embedding\n",
    "    print (\"Done.\",len(model),\" words loaded!\")\n",
    "    return model\n",
    "model = loadGloveModel('glove.42B.300d.txt')\n",
    "\n",
    "# ============================\n",
    "Output:\n",
    "    \n",
    "Loading Glove Model\n",
    "1917495it [06:32, 4879.69it/s]\n",
    "Done. 1917495  words loaded!\n",
    "\n",
    "# ============================\n",
    "\n",
    "words = []\n",
    "for i in preproced_texts:\n",
    "    words.extend(i.split(' '))\n",
    "\n",
    "for i in preproced_titles:\n",
    "    words.extend(i.split(' '))\n",
    "print(\"all the words in the coupus\", len(words))\n",
    "words = set(words)\n",
    "print(\"the unique words in the coupus\", len(words))\n",
    "\n",
    "inter_words = set(model.keys()).intersection(words)\n",
    "print(\"The number of words that are present in both glove vectors and our coupus\", \\\n",
    "      len(inter_words),\"(\",np.round(len(inter_words)/len(words)*100,3),\"%)\")\n",
    "\n",
    "words_courpus = {}\n",
    "words_glove = set(model.keys())\n",
    "for i in words:\n",
    "    if i in words_glove:\n",
    "        words_courpus[i] = model[i]\n",
    "print(\"word 2 vec length\", len(words_courpus))\n",
    "\n",
    "\n",
    "# stronging variables into pickle files python: http://www.jessicayung.com/how-to-use-pickle-to-save-and-load-variables-in-python/\n",
    "\n",
    "import pickle\n",
    "with open('glove_vectors', 'wb') as f:\n",
    "    pickle.dump(words_courpus, f)\n",
    "\n",
    "\n",
    "'''"
   ]
  },
  {
   "cell_type": "code",
   "execution_count": 0,
   "metadata": {
    "colab": {},
    "colab_type": "code",
    "id": "fxRcVpi_Ueyx"
   },
   "outputs": [],
   "source": [
    "# stronging variables into pickle files python:\n",
    "# http://www.jessicayung.com/how-to-use-pickle-to-save-and-load-variables-in-python/\n",
    "# make sure you have the glove_vectors file\n",
    "\n",
    "path = '/content/gdrive/My Drive/Donors_Choose_Dataset/glove_vectors'\n",
    "with open(path, 'rb') as f:\n",
    "    model = pickle.load(f)\n",
    "    glove_words =  set(model.keys())"
   ]
  },
  {
   "cell_type": "code",
   "execution_count": 0,
   "metadata": {
    "colab": {},
    "colab_type": "code",
    "id": "ReMS8ce1Ujx2"
   },
   "outputs": [],
   "source": [
    "# Average Word2Vec function\n",
    "\n",
    "def avg_w2v_vectors(preprocessed_text):\n",
    "    ''' This function returns the vector for each text using Avg-W2V method'''\n",
    "    avg_w2v_vectors_text = []; # the avg-w2v for each sentence/review is stored in this list\n",
    "    for sentence in tqdm(preprocessed_text): # for each review/sentence\n",
    "        vector = np.zeros(300) # as word vectors are of zero length\n",
    "        cnt_words = 0; # num of words with a valid vector in the sentence/review\n",
    "        for word in sentence.split(): # for each word in a review/sentence\n",
    "            if word in glove_words:\n",
    "                vector += model[word]\n",
    "                cnt_words += 1\n",
    "        if cnt_words != 0:\n",
    "            vector /= cnt_words\n",
    "        avg_w2v_vectors_text.append(vector)\n",
    "    return avg_w2v_vectors_text"
   ]
  },
  {
   "cell_type": "code",
   "execution_count": 0,
   "metadata": {
    "colab": {
     "base_uri": "https://localhost:8080/",
     "height": 68
    },
    "colab_type": "code",
    "id": "XQqMKNmdVDp7",
    "outputId": "f2c869e6-f4d9-4a8d-d5a3-e5e8df64ea33"
   },
   "outputs": [
    {
     "name": "stderr",
     "output_type": "stream",
     "text": [
      "100%|██████████| 22445/22445 [00:00<00:00, 53968.94it/s]\n",
      "100%|██████████| 11055/11055 [00:00<00:00, 58592.54it/s]\n",
      "100%|██████████| 16500/16500 [00:00<00:00, 54895.30it/s]\n"
     ]
    }
   ],
   "source": [
    "# computing average word2vec for project title\n",
    "\n",
    "X_train_title_avgw2v = avg_w2v_vectors(X_train['preprocessed_title'])\n",
    "X_cv_title_avgw2v = avg_w2v_vectors(X_cv['preprocessed_title'])\n",
    "X_test_title_avgw2v = avg_w2v_vectors(X_test['preprocessed_title'])"
   ]
  },
  {
   "cell_type": "code",
   "execution_count": 0,
   "metadata": {
    "colab": {
     "base_uri": "https://localhost:8080/",
     "height": 68
    },
    "colab_type": "code",
    "id": "HRk6bD5OVGoO",
    "outputId": "22ae7d1f-01e9-4855-c13b-fb1df65f0080"
   },
   "outputs": [
    {
     "name": "stderr",
     "output_type": "stream",
     "text": [
      "100%|██████████| 22445/22445 [00:00<00:00, 28047.33it/s]\n",
      "100%|██████████| 11055/11055 [00:00<00:00, 28538.98it/s]\n",
      "100%|██████████| 16500/16500 [00:00<00:00, 28633.75it/s]\n"
     ]
    }
   ],
   "source": [
    "# computing average word2vec for project summary\n",
    "\n",
    "X_train_summary_avgw2v = avg_w2v_vectors(X_train['preprocessed_summary'])\n",
    "X_cv_summary_avgw2v = avg_w2v_vectors(X_cv['preprocessed_summary'])\n",
    "X_test_summary_avgw2v = avg_w2v_vectors(X_test['preprocessed_summary'])"
   ]
  },
  {
   "cell_type": "code",
   "execution_count": 0,
   "metadata": {
    "colab": {
     "base_uri": "https://localhost:8080/",
     "height": 68
    },
    "colab_type": "code",
    "id": "cxyvFNoiVKAz",
    "outputId": "cb40a993-7bd5-4479-ac3e-a044dbf25ee8"
   },
   "outputs": [
    {
     "name": "stderr",
     "output_type": "stream",
     "text": [
      "100%|██████████| 22445/22445 [00:08<00:00, 2749.45it/s]\n",
      "100%|██████████| 11055/11055 [00:03<00:00, 2767.63it/s]\n",
      "100%|██████████| 16500/16500 [00:05<00:00, 2858.78it/s]\n"
     ]
    }
   ],
   "source": [
    "# computing average word2vec for essay\n",
    "\n",
    "X_train_essay_avgw2v = avg_w2v_vectors(X_train['preprocessed_essay'])\n",
    "X_cv_essay_avgw2v = avg_w2v_vectors(X_cv['preprocessed_essay'])\n",
    "X_test_essay_avgw2v = avg_w2v_vectors(X_test['preprocessed_essay'])"
   ]
  },
  {
   "cell_type": "markdown",
   "metadata": {
    "colab_type": "text",
    "id": "p2yUF7_UVcBc"
   },
   "source": [
    "#### 1.3.2.11 Text features: Using pre-trained TFIDF weighted AVG-W2V Vectorization on preprocessed_title (project_title), preprocessed_summary (project_resource_summary) and preprocessed_essay (essay)"
   ]
  },
  {
   "cell_type": "code",
   "execution_count": 0,
   "metadata": {
    "colab": {},
    "colab_type": "code",
    "id": "4KrSKInzVLzR"
   },
   "outputs": [],
   "source": [
    "# TFIDF weighted Word2Vec function\n",
    "\n",
    "def tfidf_w2v_vectors(preprocessed_text):\n",
    "    ''' This function returns the vector for each text using TFIDF-W2V method'''\n",
    "    tfidf_model = TfidfVectorizer()\n",
    "    tfidf_model.fit(preprocessed_text)\n",
    "    # we are converting a dictionary with word as a key, and the idf as a value\n",
    "    dictionary = dict(zip(tfidf_model.get_feature_names(), list(tfidf_model.idf_)))\n",
    "    tfidf_text_words = set(tfidf_model.get_feature_names())\n",
    "\n",
    "    tfidf_w2v_text = [] # the tfidf-w2v for each sentence is stored in this list\n",
    "    for sentence in tqdm(preprocessed_text): # for each review/sentence\n",
    "        vector = np.zeros(300) # initialize a 0 vector of length 300\n",
    "        tf_idf_weight = 0 # initializing the number of words with valid vector in the review/sentence\n",
    "        for word in sentence.split(): # for each word in a review/sentence\n",
    "            if (word in glove_words) and (word in tfidf_text_words):\n",
    "                vec = model[word] # getting the vector for each word\n",
    "                tf_idf = dictionary[word]*(sentence.count(word)/len(sentence.split())) # multiplying idf value and the tf value\n",
    "                vector += (vec * tf_idf) # calculating tfidf weighted w2v\n",
    "                tf_idf_weight += tf_idf\n",
    "        if tf_idf_weight != 0:\n",
    "            vector /= tf_idf_weight\n",
    "        tfidf_w2v_text.append(vector)\n",
    "    return tfidf_w2v_text"
   ]
  },
  {
   "cell_type": "code",
   "execution_count": 0,
   "metadata": {
    "colab": {
     "base_uri": "https://localhost:8080/",
     "height": 68
    },
    "colab_type": "code",
    "id": "mjx5gx0bVioQ",
    "outputId": "4e0e6433-2f5a-4578-edb8-e6de60573ace"
   },
   "outputs": [
    {
     "name": "stderr",
     "output_type": "stream",
     "text": [
      "100%|██████████| 22445/22445 [00:00<00:00, 27840.75it/s]\n",
      "100%|██████████| 11055/11055 [00:00<00:00, 23785.99it/s]\n",
      "100%|██████████| 16500/16500 [00:00<00:00, 25427.37it/s]\n"
     ]
    }
   ],
   "source": [
    "# computing TFIDF-AVGW2V for project title\n",
    "\n",
    "X_train_title_tfidfw2v = tfidf_w2v_vectors(X_train['preprocessed_title'])\n",
    "X_cv_title_tfidfw2v = tfidf_w2v_vectors(X_cv['preprocessed_title'])\n",
    "X_test_title_tfidfw2v = tfidf_w2v_vectors(X_test['preprocessed_title'])"
   ]
  },
  {
   "cell_type": "code",
   "execution_count": 0,
   "metadata": {
    "colab": {
     "base_uri": "https://localhost:8080/",
     "height": 68
    },
    "colab_type": "code",
    "id": "XDGHXg9QVqRN",
    "outputId": "0e41ec1c-0009-4dea-89dc-777c8383c4d9"
   },
   "outputs": [
    {
     "name": "stderr",
     "output_type": "stream",
     "text": [
      "100%|██████████| 22445/22445 [00:01<00:00, 12018.80it/s]\n",
      "100%|██████████| 11055/11055 [00:01<00:00, 10775.23it/s]\n",
      "100%|██████████| 16500/16500 [00:01<00:00, 11179.24it/s]\n"
     ]
    }
   ],
   "source": [
    "# computing TFIDF-AVGW2V for project resource summary\n",
    "\n",
    "X_train_summary_tfidfw2v = tfidf_w2v_vectors(X_train['preprocessed_summary'])\n",
    "X_cv_summary_tfidfw2v = tfidf_w2v_vectors(X_cv['preprocessed_summary'])\n",
    "X_test_summary_tfidfw2v = tfidf_w2v_vectors(X_test['preprocessed_summary'])"
   ]
  },
  {
   "cell_type": "code",
   "execution_count": 0,
   "metadata": {
    "colab": {
     "base_uri": "https://localhost:8080/",
     "height": 68
    },
    "colab_type": "code",
    "id": "NZSVVNThVsU7",
    "outputId": "b95e6006-5e18-47fd-9aac-3a633021a6f3"
   },
   "outputs": [
    {
     "name": "stderr",
     "output_type": "stream",
     "text": [
      "100%|██████████| 22445/22445 [00:45<00:00, 498.62it/s]\n",
      "100%|██████████| 11055/11055 [00:22<00:00, 492.14it/s]\n",
      "100%|██████████| 16500/16500 [00:34<00:00, 473.48it/s]\n"
     ]
    }
   ],
   "source": [
    "# computing TFIDF-AVGW2V for essays\n",
    "\n",
    "X_train_essay_tfidfw2v = tfidf_w2v_vectors(X_train['preprocessed_essay'])\n",
    "X_cv_essay_tfidfw2v = tfidf_w2v_vectors(X_cv['preprocessed_essay'])\n",
    "X_test_essay_tfidfw2v = tfidf_w2v_vectors(X_test['preprocessed_essay'])"
   ]
  },
  {
   "cell_type": "markdown",
   "metadata": {
    "colab_type": "text",
    "id": "KofV09MDVyJc"
   },
   "source": [
    "### 1.3.3 Merging all the above vectorized features "
   ]
  },
  {
   "cell_type": "markdown",
   "metadata": {
    "colab_type": "text",
    "id": "dbmgyFP7V1if"
   },
   "source": [
    "#### 1.3.3.1 Set 1: categorical, numerical features  +  project_title(BOW)  +  preprocessed_essay (BOW)  +  project_resource_summary(BOW)"
   ]
  },
  {
   "cell_type": "code",
   "execution_count": 0,
   "metadata": {
    "colab": {},
    "colab_type": "code",
    "id": "TlK2OGxVV-Bq"
   },
   "outputs": [],
   "source": [
    "# merge two sparse matrices: https://stackoverflow.com/a/19710648/4084039\n",
    "from scipy.sparse import hstack\n",
    "\n",
    "# with the same hstack function we are concatinating a sparse matrix and a dense matirx\n",
    "X_train_bow = hstack((X_train_prefix, X_train_state, X_train_grade, X_train_cat, X_train_subcat, \n",
    "                      X_train_price, X_train_prev_proj, X_train_quant, \n",
    "                      X_train_title_bow, X_train_summary_bow, X_train_essay_bow))\n",
    "\n",
    "X_cv_bow = hstack((X_cv_prefix, X_cv_state, X_cv_grade, X_cv_cat, X_cv_subcat, X_cv_price, X_cv_prev_proj, \n",
    "                   X_cv_quant, X_cv_title_bow, X_cv_summary_bow, X_cv_essay_bow))\n",
    "\n",
    "X_test_bow = hstack((X_test_prefix, X_test_state, X_test_grade, X_test_cat, X_test_subcat, \n",
    "                      X_test_price, X_test_prev_proj, X_test_quant, \n",
    "                      X_test_title_bow, X_test_summary_bow, X_test_essay_bow))"
   ]
  },
  {
   "cell_type": "code",
   "execution_count": 0,
   "metadata": {
    "colab": {
     "base_uri": "https://localhost:8080/",
     "height": 68
    },
    "colab_type": "code",
    "id": "zhy3w6bnWHaP",
    "outputId": "d751d518-bfa1-4af1-c147-2bbe4735a9bf"
   },
   "outputs": [
    {
     "name": "stdout",
     "output_type": "stream",
     "text": [
      "train : (22445, 8735)\n",
      "cv :  (11055, 8735)\n",
      "test :  (16500, 8735)\n"
     ]
    }
   ],
   "source": [
    "print(\"train :\",X_train_bow.shape)\n",
    "print(\"cv : \",X_cv_bow.shape)\n",
    "print(\"test : \",X_test_bow.shape)"
   ]
  },
  {
   "cell_type": "markdown",
   "metadata": {
    "colab_type": "text",
    "id": "ctfFDyXOWCgW"
   },
   "source": [
    "#### 1.3.3.2 Set 2: categorical, numerical features  +  project_title(TFIDF) +  preprocessed_essay (TFIDF)  +  project_resource_summary(TFIDF)"
   ]
  },
  {
   "cell_type": "code",
   "execution_count": 0,
   "metadata": {
    "colab": {},
    "colab_type": "code",
    "id": "vNRlax9daE9z"
   },
   "outputs": [],
   "source": [
    "# with the same hstack function we are concatinating a sparse matrix and a dense matirx\n",
    "\n",
    "X_train_tfidf = hstack((X_train_prefix, X_train_state, X_train_grade, X_train_cat, X_train_subcat, \n",
    "                      X_train_price, X_train_prev_proj, X_train_quant, \n",
    "                      X_train_title_tfidf, X_train_summary_tfidf, X_train_essay_tfidf))\n",
    "\n",
    "X_cv_tfidf = hstack((X_cv_prefix, X_cv_state, X_cv_grade, X_cv_cat, X_cv_subcat, X_cv_price, X_cv_prev_proj, \n",
    "                   X_cv_quant, X_cv_title_tfidf, X_cv_summary_tfidf, X_cv_essay_tfidf))\n",
    "\n",
    "X_test_tfidf = hstack((X_test_prefix, X_test_state, X_test_grade, X_test_cat, X_test_subcat, \n",
    "                      X_test_price, X_test_prev_proj, X_test_quant, \n",
    "                      X_test_title_tfidf, X_test_summary_tfidf, X_test_essay_tfidf))\n"
   ]
  },
  {
   "cell_type": "code",
   "execution_count": 0,
   "metadata": {
    "colab": {
     "base_uri": "https://localhost:8080/",
     "height": 68
    },
    "colab_type": "code",
    "id": "ttW_oRtDaIrT",
    "outputId": "9dd3b1c1-6563-4248-9c68-758cc0004371"
   },
   "outputs": [
    {
     "name": "stdout",
     "output_type": "stream",
     "text": [
      "train : (22445, 8735)\n",
      "cv :  (11055, 8735)\n",
      "test :  (16500, 8735)\n"
     ]
    }
   ],
   "source": [
    "print(\"train :\",X_train_tfidf.shape)\n",
    "print(\"cv : \",X_cv_tfidf.shape)\n",
    "print(\"test : \",X_test_tfidf.shape)"
   ]
  },
  {
   "cell_type": "markdown",
   "metadata": {
    "colab_type": "text",
    "id": "48CHbI1laN9F"
   },
   "source": [
    "#### 1.3.3.3 Set 3: categorical, numerical features  +  project_title(AVG W2V) +  preprocessed_essay (AVG-W2V)  +  project_resource_summary(W2V)"
   ]
  },
  {
   "cell_type": "code",
   "execution_count": 0,
   "metadata": {
    "colab": {},
    "colab_type": "code",
    "id": "xMgBvuAFaKom"
   },
   "outputs": [],
   "source": [
    "# with the same hstack function we are concatinating a sparse matrix and a dense matirx\n",
    "X_train_avgw2v = hstack((X_train_prefix, X_train_state, X_train_grade, X_train_cat, X_train_subcat, \n",
    "                      X_train_price, X_train_prev_proj, X_train_quant, \n",
    "                      X_train_title_avgw2v, X_train_summary_avgw2v, X_train_essay_avgw2v)).toarray()\n",
    "\n",
    "X_cv_avgw2v = hstack((X_cv_prefix, X_cv_state, X_cv_grade, X_cv_cat, X_cv_subcat, X_cv_price, X_cv_prev_proj, \n",
    "                   X_cv_quant, X_cv_title_avgw2v, X_cv_summary_avgw2v, X_cv_essay_avgw2v)).toarray()\n",
    "\n",
    "X_test_avgw2v = hstack((X_test_prefix, X_test_state, X_test_grade, X_test_cat, X_test_subcat, \n",
    "                      X_test_price, X_test_prev_proj, X_test_quant, \n",
    "                      X_test_title_avgw2v, X_test_summary_avgw2v, X_test_essay_avgw2v)).toarray()"
   ]
  },
  {
   "cell_type": "code",
   "execution_count": 0,
   "metadata": {
    "colab": {
     "base_uri": "https://localhost:8080/",
     "height": 68
    },
    "colab_type": "code",
    "id": "zbrZq-a7aRsu",
    "outputId": "dc000a6f-5b6a-46b4-b704-95ad971835ab"
   },
   "outputs": [
    {
     "name": "stdout",
     "output_type": "stream",
     "text": [
      "train : (22445, 1002)\n",
      "cv :  (11055, 1002)\n",
      "test :  (16500, 1002)\n"
     ]
    }
   ],
   "source": [
    "print(\"train :\",X_train_avgw2v.shape)\n",
    "print(\"cv : \",X_cv_avgw2v.shape)\n",
    "print(\"test : \",X_test_avgw2v.shape)"
   ]
  },
  {
   "cell_type": "markdown",
   "metadata": {
    "colab_type": "text",
    "id": "m9TBwfhWacOC"
   },
   "source": [
    "#### 1.3.3.4 Set 4: categorical, numerical features  +  project_title(TFIDF-W2V) +  preprocessed_essay (TFIDF-W2V) + project_resource_summary(TFIDF-W2V)"
   ]
  },
  {
   "cell_type": "code",
   "execution_count": 0,
   "metadata": {
    "colab": {},
    "colab_type": "code",
    "id": "cLAE13ezaT6W"
   },
   "outputs": [],
   "source": [
    "# with the same hstack function we are concatinating a sparse matrix and a dense matirx\n",
    "X_train_tfidfw2v = hstack((X_train_prefix, X_train_state, X_train_grade, X_train_cat, X_train_subcat, \n",
    "                      X_train_price, X_train_prev_proj, X_train_quant, \n",
    "                      X_train_title_tfidfw2v, X_train_summary_tfidfw2v, X_train_essay_tfidfw2v)).toarray()\n",
    "\n",
    "X_cv_tfidfw2v = hstack((X_cv_prefix, X_cv_state, X_cv_grade, X_cv_cat, X_cv_subcat, X_cv_price, X_cv_prev_proj, \n",
    "                   X_cv_quant, X_cv_title_tfidfw2v, X_cv_summary_tfidfw2v, X_cv_essay_tfidfw2v)).toarray()\n",
    "\n",
    "X_test_tfidfw2v = hstack((X_test_prefix, X_test_state, X_test_grade, X_test_cat, X_test_subcat, \n",
    "                      X_test_price, X_test_prev_proj, X_test_quant, \n",
    "                      X_test_title_tfidfw2v, X_test_summary_tfidfw2v, X_test_essay_tfidfw2v)).toarray()"
   ]
  },
  {
   "cell_type": "code",
   "execution_count": 0,
   "metadata": {
    "colab": {
     "base_uri": "https://localhost:8080/",
     "height": 68
    },
    "colab_type": "code",
    "id": "V-2shFhBafu9",
    "outputId": "ceefdde5-e5ef-4f68-a2df-3544abedf81e"
   },
   "outputs": [
    {
     "name": "stdout",
     "output_type": "stream",
     "text": [
      "train : (22445, 1002)\n",
      "cv :  (11055, 1002)\n",
      "test :  (16500, 1002)\n"
     ]
    }
   ],
   "source": [
    "print(\"train :\",X_train_tfidfw2v.shape)\n",
    "print(\"cv : \",X_cv_tfidfw2v.shape)\n",
    "print(\"test : \",X_test_tfidfw2v.shape)"
   ]
  },
  {
   "cell_type": "markdown",
   "metadata": {
    "colab_type": "text",
    "id": "EY0W-RJmsqi4"
   },
   "source": [
    "## 2. Applying KNN on different Sets of featurized data"
   ]
  },
  {
   "cell_type": "markdown",
   "metadata": {
    "colab_type": "text",
    "id": "7f9FcF6kruRe"
   },
   "source": [
    "### 2.1 KNN brute force with BOW featurization of text data"
   ]
  },
  {
   "cell_type": "markdown",
   "metadata": {
    "colab_type": "text",
    "id": "Zcqro2_qLdLA"
   },
   "source": [
    "#### 2.1.1 Determining best K using simple cross validation "
   ]
  },
  {
   "cell_type": "code",
   "execution_count": 0,
   "metadata": {
    "colab": {
     "base_uri": "https://localhost:8080/",
     "height": 221
    },
    "colab_type": "code",
    "id": "b5OYINkaaiR_",
    "outputId": "6aed97eb-94b7-4230-9e0e-89238b1547e6"
   },
   "outputs": [
    {
     "name": "stderr",
     "output_type": "stream",
     "text": [
      "\n",
      "  0%|          | 0/10 [00:00<?, ?it/s]\u001b[A\n",
      " 10%|█         | 1/10 [01:02<09:19, 62.13s/it]\u001b[A\n",
      " 20%|██        | 2/10 [02:10<08:30, 63.87s/it]\u001b[A\n",
      " 30%|███       | 3/10 [03:16<07:33, 64.76s/it]\u001b[A\n",
      " 40%|████      | 4/10 [04:24<06:33, 65.54s/it]\u001b[A\n",
      " 50%|█████     | 5/10 [05:31<05:30, 66.09s/it]\u001b[A\n",
      " 60%|██████    | 6/10 [06:38<04:25, 66.46s/it]\u001b[A\n",
      " 70%|███████   | 7/10 [07:47<03:20, 66.97s/it]\u001b[A\n",
      " 80%|████████  | 8/10 [08:54<02:14, 67.19s/it]\u001b[A\n",
      " 90%|█████████ | 9/10 [10:02<01:07, 67.35s/it]\u001b[A\n",
      "100%|██████████| 10/10 [11:10<00:00, 67.55s/it]\u001b[A\n",
      "\u001b[A"
     ]
    }
   ],
   "source": [
    "from sklearn.neighbors import KNeighborsClassifier\n",
    "from sklearn.metrics import roc_auc_score\n",
    "\n",
    "train_auc = []\n",
    "cv_auc = [] \n",
    "K = [3, 5, 15, 31, 51, 65, 85, 95, 101, 115] # min k causes overfitting, max k causes underfitting\n",
    "\n",
    "for i in tqdm(K):\n",
    "    neigh = KNeighborsClassifier(n_neighbors = i, algorithm='brute') # takes the k from the ith list value\n",
    "    neigh.fit(X_train_bow, y_train) # fitting the model\n",
    "\n",
    "    # roc_auc_score(y_true, y_score) the 2nd parameter should be probability estimates of the positive class, not the predicted outputs\n",
    "    y_train_pred =  neigh.predict_proba(X_train_bow)[:,1] #Return probability estimates for the set 1 train data, for the class label 1 or +ve\n",
    "    y_cv_pred =  neigh.predict_proba(X_cv_bow)[:,1] #Return probability estimates for the set 1 cv data, for the class label 1 or +ve \n",
    "\n",
    "    # ROC curve\n",
    "    # Compute Area Under the Receiver Operating Characteristic Curve (ROC AUC) from prediction scores\n",
    "\n",
    "    train_auc.append(roc_auc_score(y_train, y_train_pred))\n",
    "    cv_auc.append(roc_auc_score(y_cv, y_cv_pred))\n"
   ]
  },
  {
   "cell_type": "code",
   "execution_count": 0,
   "metadata": {
    "colab": {
     "base_uri": "https://localhost:8080/",
     "height": 295
    },
    "colab_type": "code",
    "id": "e9WvMJG8Fqat",
    "outputId": "9278548d-16cd-4e93-9cbc-27878ff9b486"
   },
   "outputs": [
    {
     "data": {
      "image/png": "[encoded data removed]",
      "text/plain": [
       "<Figure size 432x288 with 1 Axes>"
      ]
     },
     "metadata": {
      "tags": []
     },
     "output_type": "display_data"
    }
   ],
   "source": [
    "# plotting the error plots\n",
    "sns.set_style(\"whitegrid\")\n",
    "\n",
    "plt.plot(K, train_auc, label='Train AUC')\n",
    "plt.plot(K, cv_auc, label='CV AUC')\n",
    "\n",
    "plt.scatter(K, train_auc, label='Train AUC points')\n",
    "plt.scatter(K, cv_auc, label='CV AUC points')\n",
    "\n",
    "plt.legend()\n",
    "plt.xlabel(\"hyperparameter K\")\n",
    "plt.ylabel(\"AUC\")\n",
    "plt.title(\"ERROR PLOTS\")\n",
    "plt.show()"
   ]
  },
  {
   "cell_type": "markdown",
   "metadata": {
    "colab_type": "text",
    "id": "kALMkyUDK-X6"
   },
   "source": [
    "#### From the above error plot we choose K such that, we will have maximum AUC on CV data and the gap between the train and CV is less"
   ]
  },
  {
   "cell_type": "code",
   "execution_count": 0,
   "metadata": {
    "colab": {
     "base_uri": "https://localhost:8080/",
     "height": 187
    },
    "colab_type": "code",
    "id": "oWXM2LuiKPjI",
    "outputId": "d62cfb67-631c-455c-9375-4e87c539d3e6"
   },
   "outputs": [
    {
     "name": "stdout",
     "output_type": "stream",
     "text": [
      "3 0.5526993352181997\n",
      "5 0.5808659782788421\n",
      "15 0.6162062461918733\n",
      "31 0.6448970249724831\n",
      "51 0.6606524696715139\n",
      "65 0.6647097840055082\n",
      "85 0.6696266582181064\n",
      "95 0.6726255482094504\n",
      "101 0.6714429872891965\n",
      "115 0.6728207866368126\n"
     ]
    }
   ],
   "source": [
    "for i in range(len(K)):\n",
    "    print(K[i], cv_auc[i])"
   ]
  },
  {
   "cell_type": "code",
   "execution_count": 0,
   "metadata": {
    "colab": {},
    "colab_type": "code",
    "id": "XVNYrZ8C4uVw"
   },
   "outputs": [],
   "source": [
    "# best K\n",
    "best_K_bow = 95"
   ]
  },
  {
   "cell_type": "markdown",
   "metadata": {
    "colab_type": "text",
    "id": "p_5GZCMeMKFg"
   },
   "source": [
    "#### 2.1.2 Plotting ROC Curve "
   ]
  },
  {
   "cell_type": "code",
   "execution_count": 0,
   "metadata": {
    "colab": {
     "base_uri": "https://localhost:8080/",
     "height": 295
    },
    "colab_type": "code",
    "id": "QtUecRaS_5S6",
    "outputId": "0775891c-0f7c-40a4-fa5e-e72ea09433cf"
   },
   "outputs": [
    {
     "data": {
      "image/png": "[encoded data removed]",
      "text/plain": [
       "<Figure size 432x288 with 1 Axes>"
      ]
     },
     "metadata": {
      "tags": []
     },
     "output_type": "display_data"
    }
   ],
   "source": [
    "# plot the ROC curve using the besk K value found above \n",
    "# https://scikit-learn.org/stable/modules/generated/sklearn.metrics.roc_curve.html#sklearn.metrics.roc_curve\n",
    "\n",
    "neigh = KNeighborsClassifier(n_neighbors = best_K_bow, algorithm='brute')\n",
    "neigh.fit(X_train_bow, y_train)\n",
    "# roc_auc_score(y_true, y_score) the 2nd parameter should be probability estimates of the positive class not the predicted outputs\n",
    "\n",
    "y_train_pred = neigh.predict_proba(X_train_bow)[:,1]\n",
    "y_test_pred = neigh.predict_proba(X_test_bow)[:,1]\n",
    "\n",
    "train_fpr, train_tpr, tr_thresholds = roc_curve(y_train, y_train_pred)\n",
    "test_fpr, test_tpr, te_thresholds = roc_curve(y_test, y_test_pred)\n",
    "\n",
    "plt.plot(train_fpr, train_tpr, label=\"train AUC = \"+str(auc(train_fpr, train_tpr)))\n",
    "plt.plot(test_fpr, test_tpr, label=\"test AUC = \"+str(auc(test_fpr, test_tpr)))\n",
    "plt.ylabel(\"True Positive Rate(TPR)\")\n",
    "plt.xlabel(\"False Positive Rate(FPR)\")\n",
    "plt.title(\"ROC PLOTS\")\n",
    "plt.legend()\n",
    "plt.show()"
   ]
  },
  {
   "cell_type": "markdown",
   "metadata": {
    "colab_type": "text",
    "id": "CLdXau5_RnGR"
   },
   "source": [
    "#### 2.1.3 Confusion Matrix"
   ]
  },
  {
   "cell_type": "markdown",
   "metadata": {},
   "source": [
    "> Note that we are writing our own function for predict with defined threshold we will pick a threshold that will give the least False Positive Rate (FPR) "
   ]
  },
  {
   "cell_type": "code",
   "execution_count": 0,
   "metadata": {
    "colab": {},
    "colab_type": "code",
    "id": "UDJfZEgtlCMT"
   },
   "outputs": [],
   "source": [
    "# function to determine the optimal threshold value \n",
    "\n",
    "def find_best_threshold(thresholds, fpr, tpr):\n",
    "    ''' this function finds the best threshold '''\n",
    "    t = thresholds[np.argmax(tpr*(1 - fpr))]\n",
    "    # (tpr*(1-fpr)) will be maximum if your fpr is very low and tpr is very high\n",
    "    print(\"the maximum value of tpr*(1-fpr)\", max(tpr*(1 - fpr)), \"for threshold\", np.round(t,3))\n",
    "    return t\n",
    "\n",
    "def predict_with_best_t(proba, threshold):\n",
    "    ''' This function makes predictions against the best threshold value''' \n",
    "    predictions = []\n",
    "    for i in proba:\n",
    "        if i >= threshold:\n",
    "            predictions.append(1)\n",
    "        else:\n",
    "            predictions.append(0)\n",
    "    return predictions"
   ]
  },
  {
   "cell_type": "markdown",
   "metadata": {
    "colab_type": "text",
    "id": "QbyYevYNulIL"
   },
   "source": [
    "A. Train Confusion Matrix"
   ]
  },
  {
   "cell_type": "code",
   "execution_count": 0,
   "metadata": {
    "colab": {
     "base_uri": "https://localhost:8080/",
     "height": 85
    },
    "colab_type": "code",
    "id": "LJo5DfQ4l_m2",
    "outputId": "42fe24ad-4b4e-4094-9928-a89b6ea945d8"
   },
   "outputs": [
    {
     "name": "stdout",
     "output_type": "stream",
     "text": [
      "the maximum value of tpr*(1-fpr) 0.42274312274590486 for threshold 0.811\n",
      "Train confusion matrix\n",
      "[[ 2377  1061]\n",
      " [ 7599 11408]]\n"
     ]
    }
   ],
   "source": [
    "# train confusion matrix\n",
    "best_t = find_best_threshold(tr_thresholds, train_fpr, train_tpr)\n",
    "print(\"Train confusion matrix\")\n",
    "print(confusion_matrix(y_train, predict_with_best_t(y_train_pred, best_t)))"
   ]
  },
  {
   "cell_type": "code",
   "execution_count": 0,
   "metadata": {
    "colab": {
     "base_uri": "https://localhost:8080/",
     "height": 312
    },
    "colab_type": "code",
    "id": "KryVov7YdEvr",
    "outputId": "2cd9caab-0692-4524-ff18-0ca98f3e746e"
   },
   "outputs": [
    {
     "data": {
      "text/plain": [
       "Text(0.5, 1, 'Confusion Matrix')"
      ]
     },
     "execution_count": 215,
     "metadata": {
      "tags": []
     },
     "output_type": "execute_result"
    },
    {
     "data": {
      "image/png": "[encoded data removed]",
      "text/plain": [
       "<Figure size 432x288 with 2 Axes>"
      ]
     },
     "metadata": {
      "tags": []
     },
     "output_type": "display_data"
    }
   ],
   "source": [
    "# Visualizing confusion matrix using Seaborn heatmap\n",
    "# reference: https://stackoverflow.com/questions/35572000/how-can-i-plot-a-confusion-matrix\n",
    "\n",
    "ax= plt.subplot()\n",
    "sns.heatmap(confusion_matrix(y_train, predict_with_best_t(y_train_pred, best_t)), annot=True, ax = ax, fmt='g', cmap=\"YlGnBu\")\n",
    "ax.set_xlabel('Predicted labels')\n",
    "ax.set_ylabel('True labels')\n",
    "ax.set_title('Confusion Matrix')"
   ]
  },
  {
   "cell_type": "markdown",
   "metadata": {
    "colab_type": "text",
    "id": "nf3Er-TbxUpj"
   },
   "source": [
    "B. Test Confusion Matrix"
   ]
  },
  {
   "cell_type": "code",
   "execution_count": 0,
   "metadata": {
    "colab": {
     "base_uri": "https://localhost:8080/",
     "height": 85
    },
    "colab_type": "code",
    "id": "v1xFXxRlnn9L",
    "outputId": "c1d92d9a-4f78-4c49-cce0-a1e3982a9684"
   },
   "outputs": [
    {
     "name": "stdout",
     "output_type": "stream",
     "text": [
      "the maximum value of tpr*(1-fpr) 0.3867212845985322 for threshold 0.811\n",
      "Test confusion matrix\n",
      "[[1536  991]\n",
      " [5083 8890]]\n"
     ]
    }
   ],
   "source": [
    "# test confusion matrix\n",
    "best_t = find_best_threshold(te_thresholds, test_fpr, test_tpr)\n",
    "print(\"Test confusion matrix\")\n",
    "print(confusion_matrix(y_test, predict_with_best_t(y_test_pred, best_t)))"
   ]
  },
  {
   "cell_type": "code",
   "execution_count": 0,
   "metadata": {
    "colab": {
     "base_uri": "https://localhost:8080/",
     "height": 312
    },
    "colab_type": "code",
    "id": "WixAieEhnUFm",
    "outputId": "5604412f-0a5b-40ec-c52c-b91d841c64a2"
   },
   "outputs": [
    {
     "data": {
      "text/plain": [
       "Text(0.5, 1, 'Confusion Matrix')"
      ]
     },
     "execution_count": 219,
     "metadata": {
      "tags": []
     },
     "output_type": "execute_result"
    },
    {
     "data": {
      "image/png": "[encoded data removed]",
      "text/plain": [
       "<Figure size 432x288 with 2 Axes>"
      ]
     },
     "metadata": {
      "tags": []
     },
     "output_type": "display_data"
    }
   ],
   "source": [
    "# Visualizing confusion matrix using Seaborn heatmap \n",
    "ax= plt.subplot()\n",
    "sns.heatmap(confusion_matrix(y_test, predict_with_best_t(y_test_pred, best_t)), annot=True, ax = ax, fmt='g', cmap=\"YlGnBu\")\n",
    "ax.set_xlabel('Predicted labels')\n",
    "ax.set_ylabel('True labels')\n",
    "ax.set_title('Confusion Matrix')"
   ]
  },
  {
   "cell_type": "markdown",
   "metadata": {
    "colab_type": "text",
    "id": "VyiRIX4eyk0j"
   },
   "source": [
    "### 2.2 KNN brute force with TF-IDF featurization of text data"
   ]
  },
  {
   "cell_type": "markdown",
   "metadata": {
    "colab_type": "text",
    "id": "OO2TdVTIzBJ1"
   },
   "source": [
    "#### 2.2.1 Determining best K using simple cross validation"
   ]
  },
  {
   "cell_type": "code",
   "execution_count": 0,
   "metadata": {
    "colab": {
     "base_uri": "https://localhost:8080/",
     "height": 629
    },
    "colab_type": "code",
    "id": "_30jNbUTRsaG",
    "outputId": "ed52e913-e64c-43ed-da62-010333c52b25"
   },
   "outputs": [
    {
     "name": "stderr",
     "output_type": "stream",
     "text": [
      "\n",
      "\n",
      "\n",
      "  0%|          | 0/10 [00:00<?, ?it/s]\u001b[A\u001b[A\u001b[A\n",
      "\n",
      "\n",
      " 10%|█         | 1/10 [01:07<10:07, 67.47s/it]\u001b[A\u001b[A\u001b[A\n",
      "\n",
      "\n",
      " 20%|██        | 2/10 [02:17<09:05, 68.21s/it]\u001b[A\u001b[A\u001b[A\n",
      "\n",
      "\n",
      " 30%|███       | 3/10 [03:27<08:01, 68.82s/it]\u001b[A\u001b[A\u001b[A\n",
      "\n",
      "\n",
      " 40%|████      | 4/10 [04:37<06:55, 69.27s/it]\u001b[A\u001b[A\u001b[A\n",
      "\n",
      "\n",
      " 50%|█████     | 5/10 [05:48<05:47, 69.53s/it]\u001b[A\u001b[A\u001b[A\n",
      "\n",
      "\n",
      " 60%|██████    | 6/10 [07:00<04:41, 70.25s/it]\u001b[A\u001b[A\u001b[A\n",
      "\n",
      "\n",
      " 70%|███████   | 7/10 [08:10<03:30, 70.33s/it]\u001b[A\u001b[A\u001b[A\n",
      "\n",
      "\n",
      " 80%|████████  | 8/10 [09:21<02:20, 70.47s/it]\u001b[A\u001b[A\u001b[A\n",
      "\n",
      "\n",
      " 90%|█████████ | 9/10 [10:32<01:10, 70.71s/it]\u001b[A\u001b[A\u001b[A\n",
      "\n",
      "\n",
      "100%|██████████| 10/10 [11:45<00:00, 71.23s/it]\u001b[A\u001b[A\u001b[A\n",
      "\n",
      "\n",
      "\u001b[A\u001b[A\u001b[A"
     ]
    }
   ],
   "source": [
    "train_auc = []\n",
    "cv_auc = [] \n",
    "K = [3, 5, 15, 31, 51, 65, 85, 95, 101, 115] # min k causes overfitting, max k causes underfitting\n",
    "\n",
    "for i in tqdm(K):\n",
    "    neigh = KNeighborsClassifier(n_neighbors = i, algorithm='brute') # takes the k from the ith list value\n",
    "    neigh.fit(X_train_tfidf, y_train) # fitting the model\n",
    "\n",
    "    # roc_auc_score(y_true, y_score) the 2nd parameter should be probability estimates of the positive class, not the predicted outputs\n",
    "    y_train_pred =  neigh.predict_proba(X_train_tfidf)[:,1] #Return probability estimates for the set 1 train data, for the class label 1 or +ve\n",
    "    y_cv_pred =  neigh.predict_proba(X_cv_tfidf)[:,1] #Return probability estimates for the set 1 cv data, for the class label 1 or +ve \n",
    "    \n",
    "    # ROC curve\n",
    "    # Compute Area Under the Receiver Operating Characteristic Curve (ROC AUC) from prediction scores\n",
    "\n",
    "    train_auc.append(roc_auc_score(y_train, y_train_pred))\n",
    "    cv_auc.append(roc_auc_score(y_cv, y_cv_pred))\n"
   ]
  },
  {
   "cell_type": "code",
   "execution_count": 0,
   "metadata": {
    "colab": {
     "base_uri": "https://localhost:8080/",
     "height": 295
    },
    "colab_type": "code",
    "id": "tpSCaFgL0Osd",
    "outputId": "a3ff4796-2c4b-43c0-b613-9d69add90ca0"
   },
   "outputs": [
    {
     "data": {
      "image/png": "[encoded data removed]",
      "text/plain": [
       "<Figure size 432x288 with 1 Axes>"
      ]
     },
     "metadata": {
      "tags": []
     },
     "output_type": "display_data"
    }
   ],
   "source": [
    "# plotting error plots \n",
    "\n",
    "sns.set_style(\"whitegrid\")\n",
    "\n",
    "plt.plot(K, train_auc, label='Train AUC')\n",
    "plt.plot(K, cv_auc, label='CV AUC')\n",
    "\n",
    "plt.scatter(K, train_auc, label ='Train AUC points')\n",
    "plt.scatter(K, cv_auc, label ='CV AUC points')\n",
    "\n",
    "plt.legend()\n",
    "plt.xlabel(\"hyperparameter K\")\n",
    "plt.ylabel(\"AUC\")\n",
    "plt.title(\"ERROR PLOTS\")\n",
    "plt.show()"
   ]
  },
  {
   "cell_type": "markdown",
   "metadata": {
    "colab_type": "text",
    "id": "zFYALhGt0iB9"
   },
   "source": [
    "#### From the above error plot we choose K such that, we have maximum AUC on CV data and at same time the gap between the train and CV is less"
   ]
  },
  {
   "cell_type": "code",
   "execution_count": 0,
   "metadata": {
    "colab": {
     "base_uri": "https://localhost:8080/",
     "height": 187
    },
    "colab_type": "code",
    "id": "fpjGa10H1ROL",
    "outputId": "d3a82d99-9bbf-4fea-ef4b-15dfd72b518d"
   },
   "outputs": [
    {
     "name": "stdout",
     "output_type": "stream",
     "text": [
      "3 0.5585406280699131\n",
      "5 0.5707780919782357\n",
      "15 0.5921044848461307\n",
      "31 0.6119105908901094\n",
      "51 0.6268016830359626\n",
      "65 0.6323178938162768\n",
      "85 0.62986344535033\n",
      "95 0.6288409030054736\n",
      "101 0.6290478393424854\n",
      "115 0.6285442932047316\n"
     ]
    }
   ],
   "source": [
    "for i in range(len(K)):\n",
    "    print(K[i], cv_auc[i])"
   ]
  },
  {
   "cell_type": "code",
   "execution_count": 0,
   "metadata": {
    "colab": {},
    "colab_type": "code",
    "id": "nJgTrRTC1SOl"
   },
   "outputs": [],
   "source": [
    "# best K\n",
    "best_K_tfidf = 65"
   ]
  },
  {
   "cell_type": "markdown",
   "metadata": {
    "colab_type": "text",
    "id": "v9WvWiyMhiS3"
   },
   "source": [
    "### 2.2.2 Plotting the ROC Curve "
   ]
  },
  {
   "cell_type": "code",
   "execution_count": 0,
   "metadata": {
    "colab": {
     "base_uri": "https://localhost:8080/",
     "height": 295
    },
    "colab_type": "code",
    "id": "IAUvPLqg1ncU",
    "outputId": "fa09880d-994e-4c58-d98e-f9783da8a5ef"
   },
   "outputs": [
    {
     "data": {
      "image/png": "[encoded data removed]",
      "text/plain": [
       "<Figure size 432x288 with 1 Axes>"
      ]
     },
     "metadata": {
      "tags": []
     },
     "output_type": "display_data"
    }
   ],
   "source": [
    "# plot the ROC curve using the besk K value found above \n",
    "# https://scikit-learn.org/stable/modules/generated/sklearn.metrics.roc_curve.html#sklearn.metrics.roc_curve\n",
    "\n",
    "neigh = KNeighborsClassifier(n_neighbors = best_K_tfidf, algorithm='brute')\n",
    "neigh.fit(X_train_tfidf, y_train)\n",
    "# roc_auc_score(y_true, y_score) the 2nd parameter should be probability estimates of the positive class not the predicted outputs\n",
    "\n",
    "y_train_pred = neigh.predict_proba(X_train_tfidf)[:,1]\n",
    "y_test_pred = neigh.predict_proba(X_test_tfidf)[:,1]\n",
    "\n",
    "train_fpr, train_tpr, tr_thresholds = roc_curve(y_train, y_train_pred)\n",
    "test_fpr, test_tpr, te_thresholds = roc_curve(y_test, y_test_pred)\n",
    "\n",
    "plt.plot(train_fpr, train_tpr, label=\"train AUC = \"+str(auc(train_fpr, train_tpr)))\n",
    "plt.plot(test_fpr, test_tpr, label=\"test AUC = \"+str(auc(test_fpr, test_tpr)))\n",
    "plt.ylabel(\"True Positive Rate(TPR)\")\n",
    "plt.xlabel(\"False Positive Rate(FPR)\")\n",
    "plt.title(\"ROC PLOTS\")\n",
    "plt.legend()\n",
    "plt.show()"
   ]
  },
  {
   "cell_type": "markdown",
   "metadata": {
    "colab_type": "text",
    "id": "vfObeb6Liqx_"
   },
   "source": [
    "### 2.2.3 Confusion Matrix"
   ]
  },
  {
   "cell_type": "markdown",
   "metadata": {
    "colab_type": "text",
    "id": "yQQUSY2s6lt4"
   },
   "source": [
    "A. Train Confusion Matrix"
   ]
  },
  {
   "cell_type": "code",
   "execution_count": 0,
   "metadata": {
    "colab": {
     "base_uri": "https://localhost:8080/",
     "height": 85
    },
    "colab_type": "code",
    "id": "nC1ea2rKzvQG",
    "outputId": "79e6a0a0-67f7-475a-b922-2fdaca35d7d2"
   },
   "outputs": [
    {
     "name": "stdout",
     "output_type": "stream",
     "text": [
      "the maximum value of tpr*(1-fpr) 0.40616376202356236 for threshold 0.846\n",
      "Train confusion matrix\n",
      "[[ 2092  1346]\n",
      " [ 6320 12687]]\n"
     ]
    }
   ],
   "source": [
    "# Train confusion matrix\n",
    "best_t = find_best_threshold(tr_thresholds, train_fpr, train_tpr)\n",
    "print(\"Train confusion matrix\")\n",
    "print(confusion_matrix(y_train, predict_with_best_t(y_train_pred, best_t)))"
   ]
  },
  {
   "cell_type": "code",
   "execution_count": 0,
   "metadata": {
    "colab": {
     "base_uri": "https://localhost:8080/",
     "height": 312
    },
    "colab_type": "code",
    "id": "LuZQpImm6xDE",
    "outputId": "007108e5-44f1-4f8d-96b2-9a0e87b67c9c"
   },
   "outputs": [
    {
     "data": {
      "text/plain": [
       "Text(0.5, 1, 'Confusion Matrix')"
      ]
     },
     "execution_count": 230,
     "metadata": {
      "tags": []
     },
     "output_type": "execute_result"
    },
    {
     "data": {
      "image/png": "[encoded data removed]",
      "text/plain": [
       "<Figure size 432x288 with 2 Axes>"
      ]
     },
     "metadata": {
      "tags": []
     },
     "output_type": "display_data"
    }
   ],
   "source": [
    "# Visualizing confusion matrix using Seaborn heatmap\n",
    "# reference -> https://stackoverflow.com/questions/35572000/how-can-i-plot-a-confusion-matrix\n",
    "\n",
    "ax= plt.subplot()\n",
    "sns.heatmap(confusion_matrix(y_train, predict_with_best_t(y_train_pred, best_t)), annot=True, ax = ax, fmt='g', cmap=\"YlGnBu\")\n",
    "ax.set_xlabel('Predicted labels')\n",
    "ax.set_ylabel('True labels')\n",
    "ax.set_title('Confusion Matrix')"
   ]
  },
  {
   "cell_type": "markdown",
   "metadata": {
    "colab_type": "text",
    "id": "Ina5b6yh6_qK"
   },
   "source": [
    "B. Test Confusion Matrix"
   ]
  },
  {
   "cell_type": "code",
   "execution_count": 0,
   "metadata": {
    "colab": {
     "base_uri": "https://localhost:8080/",
     "height": 85
    },
    "colab_type": "code",
    "id": "q_gzRyMT64PQ",
    "outputId": "5f7a9ff5-c38f-4884-b62a-bf5299a98e10"
   },
   "outputs": [
    {
     "name": "stdout",
     "output_type": "stream",
     "text": [
      "the maximum value of tpr*(1-fpr) 0.3513321567562701 for threshold 0.862\n",
      "Test confusion matrix\n",
      "[[1534  993]\n",
      " [5886 8087]]\n"
     ]
    }
   ],
   "source": [
    "# Test confusion matrix\n",
    "best_t = find_best_threshold(te_thresholds, test_fpr, test_tpr)\n",
    "print(\"Test confusion matrix\")\n",
    "print(confusion_matrix(y_test, predict_with_best_t(y_test_pred, best_t)))"
   ]
  },
  {
   "cell_type": "code",
   "execution_count": 0,
   "metadata": {
    "colab": {
     "base_uri": "https://localhost:8080/",
     "height": 312
    },
    "colab_type": "code",
    "id": "xFeDk9Cp6-SE",
    "outputId": "a9de5ad9-794e-4570-91b3-ab121d9b2be0",
    "scrolled": true
   },
   "outputs": [
    {
     "data": {
      "text/plain": [
       "Text(0.5, 1, 'Confusion Matrix')"
      ]
     },
     "execution_count": 233,
     "metadata": {
      "tags": []
     },
     "output_type": "execute_result"
    },
    {
     "data": {
      "image/png": "[encoded data removed]",
      "text/plain": [
       "<Figure size 432x288 with 2 Axes>"
      ]
     },
     "metadata": {
      "tags": []
     },
     "output_type": "display_data"
    }
   ],
   "source": [
    "# Visualizing confusion matrix using Seaborn heatmap\n",
    "\n",
    "ax= plt.subplot()\n",
    "sns.heatmap(confusion_matrix(y_test, predict_with_best_t(y_test_pred, best_t)), annot=True, ax = ax, fmt='g', cmap=\"YlGnBu\")\n",
    "ax.set_xlabel('Predicted labels')\n",
    "ax.set_ylabel('True labels')\n",
    "ax.set_title('Confusion Matrix')"
   ]
  },
  {
   "cell_type": "markdown",
   "metadata": {},
   "source": [
    "It was observed that - \n",
    "\n",
    "* Both BOW vetorized data & TF-IDF vectorized data perfrom equally well in reducing the number of False positives. The AUC Score of BOW vectorized model(Set 1) was higher as compared to the TF-IDF model because it gave less False Negative (or higher True Positives). "
   ]
  },
  {
   "cell_type": "markdown",
   "metadata": {
    "colab_type": "text",
    "id": "evf8TAs9CxQV"
   },
   "source": [
    "### 2.3 KNN brute force with AVG-W2V featurization of text data"
   ]
  },
  {
   "cell_type": "markdown",
   "metadata": {
    "colab_type": "text",
    "id": "D9nyR1v4C3dq"
   },
   "source": [
    "#### 2.3.1 Determining best K using Simple Cross Validation "
   ]
  },
  {
   "cell_type": "code",
   "execution_count": 0,
   "metadata": {
    "colab": {
     "base_uri": "https://localhost:8080/",
     "height": 629
    },
    "colab_type": "code",
    "id": "0c5YK4zP8Esb",
    "outputId": "36a44735-285d-45ad-e0ee-905690130e22"
   },
   "outputs": [
    {
     "name": "stderr",
     "output_type": "stream",
     "text": [
      "\n",
      "\n",
      "\n",
      "  0%|          | 0/10 [00:00<?, ?it/s]\u001b[A\u001b[A\u001b[A\n",
      "\n",
      "\n",
      " 10%|█         | 1/10 [00:57<08:34, 57.17s/it]\u001b[A\u001b[A\u001b[A\n",
      "\n",
      "\n",
      " 20%|██        | 2/10 [01:57<07:43, 57.99s/it]\u001b[A\u001b[A\u001b[A\n",
      "\n",
      "\n",
      " 30%|███       | 3/10 [02:57<06:50, 58.68s/it]\u001b[A\u001b[A\u001b[A\n",
      "\n",
      "\n",
      " 40%|████      | 4/10 [03:56<05:53, 58.96s/it]\u001b[A\u001b[A\u001b[A\n",
      "\n",
      "\n",
      " 50%|█████     | 5/10 [04:57<04:57, 59.45s/it]\u001b[A\u001b[A\u001b[A\n",
      "\n",
      "\n",
      " 60%|██████    | 6/10 [05:58<03:59, 59.87s/it]\u001b[A\u001b[A\u001b[A\n",
      "\n",
      "\n",
      " 70%|███████   | 7/10 [06:58<03:00, 60.05s/it]\u001b[A\u001b[A\u001b[A\n",
      "\n",
      "\n",
      " 80%|████████  | 8/10 [07:59<02:00, 60.27s/it]\u001b[A\u001b[A\u001b[A\n",
      "\n",
      "\n",
      " 90%|█████████ | 9/10 [09:00<01:00, 60.33s/it]\u001b[A\u001b[A\u001b[A\n",
      "\n",
      "\n",
      "100%|██████████| 10/10 [10:00<00:00, 60.42s/it]\u001b[A\u001b[A\u001b[A\n",
      "\n",
      "\n",
      "\u001b[A\u001b[A\u001b[A"
     ]
    }
   ],
   "source": [
    "train_auc = []\n",
    "cv_auc = [] \n",
    "K = [3, 5, 15, 31, 51, 65, 85, 95, 101, 115] # min k causes overfitting, max k causes underfitting\n",
    "\n",
    "for i in tqdm(K):\n",
    "    neigh = KNeighborsClassifier(n_neighbors = i, algorithm='brute') # takes the k from the ith list value\n",
    "    neigh.fit(X_train_avgw2v, y_train) # fitting the model\n",
    "\n",
    "    # roc_auc_score(y_true, y_score) the 2nd parameter should be probability estimates of the positive class, not the predicted outputs\n",
    "    y_train_pred =  neigh.predict_proba(X_train_avgw2v)[:,1] #Return probability estimates for the set 1 train data, for the class label 1 or +ve\n",
    "    y_cv_pred =  neigh.predict_proba(X_cv_avgw2v)[:,1] #Return probability estimates for the set 1 cv data, for the class label 1 or +ve \n",
    "    \n",
    "    # ROC curve\n",
    "    # Compute Area Under the Receiver Operating Characteristic Curve (ROC AUC) from prediction scores\n",
    "    train_auc.append(roc_auc_score(y_train, y_train_pred))\n",
    "    cv_auc.append(roc_auc_score(y_cv, y_cv_pred))\n"
   ]
  },
  {
   "cell_type": "code",
   "execution_count": 0,
   "metadata": {
    "colab": {
     "base_uri": "https://localhost:8080/",
     "height": 295
    },
    "colab_type": "code",
    "id": "QCPk-KrRDgkx",
    "outputId": "92f4b13e-3fcd-4d50-de11-3c1f2c3bea02"
   },
   "outputs": [
    {
     "data": {
      "image/png": "[encoded data removed]",
      "text/plain": [
       "<Figure size 432x288 with 1 Axes>"
      ]
     },
     "metadata": {
      "tags": []
     },
     "output_type": "display_data"
    }
   ],
   "source": [
    "sns.set_style(\"whitegrid\")\n",
    "\n",
    "plt.plot(K, train_auc, label='Train AUC')\n",
    "plt.plot(K, cv_auc, label='CV AUC')\n",
    "\n",
    "plt.scatter(K, train_auc, label ='Train AUC points')\n",
    "plt.scatter(K, cv_auc, label ='CV AUC points')\n",
    "\n",
    "plt.legend()\n",
    "plt.xlabel(\"hyperparameter K\")\n",
    "plt.ylabel(\"AUC\")\n",
    "plt.title(\"ERROR PLOTS\")\n",
    "plt.show()"
   ]
  },
  {
   "cell_type": "markdown",
   "metadata": {
    "colab_type": "text",
    "id": "xD6BjpLqD2Fi"
   },
   "source": [
    "#### From the above error plot we choose K such that we have maximum AUC on CV data and the gap between the train and CV is less"
   ]
  },
  {
   "cell_type": "code",
   "execution_count": 0,
   "metadata": {
    "colab": {
     "base_uri": "https://localhost:8080/",
     "height": 187
    },
    "colab_type": "code",
    "id": "v1RoszE8EDxD",
    "outputId": "8c640b57-f2db-44b1-a3eb-90b11d434951"
   },
   "outputs": [
    {
     "name": "stdout",
     "output_type": "stream",
     "text": [
      "3 0.5639557197228775\n",
      "5 0.5783050504574041\n",
      "15 0.6092658543251429\n",
      "31 0.6326227331437536\n",
      "51 0.6479074236889544\n",
      "65 0.6514116886017711\n",
      "85 0.6559502883613555\n",
      "95 0.6548961522012187\n",
      "101 0.6550709902308895\n",
      "115 0.65584995750285\n"
     ]
    }
   ],
   "source": [
    "for i in range(len(K)):\n",
    "    print(K[i], cv_auc[i])"
   ]
  },
  {
   "cell_type": "code",
   "execution_count": 0,
   "metadata": {
    "colab": {},
    "colab_type": "code",
    "id": "58Zi0Y9dEFTD"
   },
   "outputs": [],
   "source": [
    "# best_K\n",
    "best_K_avgw2v = 85"
   ]
  },
  {
   "cell_type": "markdown",
   "metadata": {
    "colab_type": "text",
    "id": "7kjQZhiHEMxG"
   },
   "source": [
    "### 2.3.2 Plotting the ROC Curve "
   ]
  },
  {
   "cell_type": "code",
   "execution_count": 0,
   "metadata": {
    "colab": {
     "base_uri": "https://localhost:8080/",
     "height": 295
    },
    "colab_type": "code",
    "id": "QxY99OryET2O",
    "outputId": "681daaca-8399-4794-9fc8-6fb87463384d"
   },
   "outputs": [
    {
     "data": {
      "image/png": "[encoded data removed]",
      "text/plain": [
       "<Figure size 432x288 with 1 Axes>"
      ]
     },
     "metadata": {
      "tags": []
     },
     "output_type": "display_data"
    }
   ],
   "source": [
    "# plot the ROC curve using the besk K value found above \n",
    "# https://scikit-learn.org/stable/modules/generated/sklearn.metrics.roc_curve.html#sklearn.metrics.roc_curve\n",
    "\n",
    "neigh = KNeighborsClassifier(n_neighbors = best_K_avgw2v, algorithm = 'brute')\n",
    "neigh.fit(X_train_avgw2v, y_train)\n",
    "# roc_auc_score(y_true, y_score) the 2nd parameter should be probability estimates of the positive class not the predicted outputs\n",
    "\n",
    "y_train_pred = neigh.predict_proba(X_train_avgw2v)[:,1]\n",
    "y_test_pred = neigh.predict_proba(X_test_avgw2v)[:,1]\n",
    "\n",
    "train_fpr, train_tpr, tr_thresholds = roc_curve(y_train, y_train_pred)\n",
    "test_fpr, test_tpr, te_thresholds = roc_curve(y_test, y_test_pred)\n",
    "\n",
    "plt.plot(train_fpr, train_tpr, label=\"train AUC = \"+str(auc(train_fpr, train_tpr)))\n",
    "plt.plot(test_fpr, test_tpr, label=\"test AUC = \"+str(auc(test_fpr, test_tpr)))\n",
    "plt.xlabel(\"True Positive Rate(TPR)\")\n",
    "plt.ylabel(\"False Positive Rate(FPR)\")\n",
    "plt.title(\"ROC PLOTS\")\n",
    "plt.legend()\n",
    "plt.show()"
   ]
  },
  {
   "cell_type": "markdown",
   "metadata": {
    "colab_type": "text",
    "id": "rAyD_ZcEFVpu"
   },
   "source": [
    "### 2.3.3 Confusion Matrix"
   ]
  },
  {
   "cell_type": "markdown",
   "metadata": {
    "colab_type": "text",
    "id": "pKUQ8cjaFsKk"
   },
   "source": [
    "A. Train Confusion Matrix"
   ]
  },
  {
   "cell_type": "code",
   "execution_count": 0,
   "metadata": {
    "colab": {
     "base_uri": "https://localhost:8080/",
     "height": 85
    },
    "colab_type": "code",
    "id": "sS4-Va74Fkm_",
    "outputId": "de245548-50c1-4930-e6b5-2a8a2975080d"
   },
   "outputs": [
    {
     "name": "stdout",
     "output_type": "stream",
     "text": [
      "the maximum value of tpr*(1-fpr) 0.4239812998077038 for threshold 0.847\n",
      "Train confusion matrix\n",
      "[[ 2247  1191]\n",
      " [ 6677 12330]]\n"
     ]
    }
   ],
   "source": [
    "# Train confusion matrix\n",
    "best_t = find_best_threshold(tr_thresholds, train_fpr, train_tpr)\n",
    "print(\"Train confusion matrix\")\n",
    "print(confusion_matrix(y_train, predict_with_best_t(y_train_pred, best_t)))"
   ]
  },
  {
   "cell_type": "code",
   "execution_count": 0,
   "metadata": {
    "colab": {
     "base_uri": "https://localhost:8080/",
     "height": 312
    },
    "colab_type": "code",
    "id": "UzMvv7ZsG6G1",
    "outputId": "58322d1a-4b1a-4c27-8848-f47e71bf2827"
   },
   "outputs": [
    {
     "data": {
      "text/plain": [
       "Text(0.5, 1, 'Confusion Matrix')"
      ]
     },
     "execution_count": 242,
     "metadata": {
      "tags": []
     },
     "output_type": "execute_result"
    },
    {
     "data": {
      "image/png": "[encoded data removed]",
      "text/plain": [
       "<Figure size 432x288 with 2 Axes>"
      ]
     },
     "metadata": {
      "tags": []
     },
     "output_type": "display_data"
    }
   ],
   "source": [
    "# Visualizing confusion matrix using Seaborn heatmap\n",
    "# reference -> https://stackoverflow.com/questions/35572000/how-can-i-plot-a-confusion-matrix\n",
    "\n",
    "ax= plt.subplot()\n",
    "sns.heatmap(confusion_matrix(y_train, predict_with_best_t(y_train_pred, best_t)), annot=True, ax = ax, fmt='g', cmap=\"YlGnBu\")\n",
    "ax.set_xlabel('Predicted labels')\n",
    "ax.set_ylabel('True labels')\n",
    "ax.set_title('Confusion Matrix')"
   ]
  },
  {
   "cell_type": "markdown",
   "metadata": {
    "colab_type": "text",
    "id": "M2tN11yaFyhW"
   },
   "source": [
    "B. Test Confusion Matrix "
   ]
  },
  {
   "cell_type": "code",
   "execution_count": 0,
   "metadata": {
    "colab": {
     "base_uri": "https://localhost:8080/",
     "height": 85
    },
    "colab_type": "code",
    "id": "LS323EzFG9Og",
    "outputId": "5c6e9bd3-1116-4029-bcfd-07dc3883598c"
   },
   "outputs": [
    {
     "name": "stdout",
     "output_type": "stream",
     "text": [
      "the maximum value of tpr*(1-fpr) 0.3786828297470408 for threshold 0.847\n",
      "Test confusion matrix\n",
      "[[1497 1030]\n",
      " [5041 8932]]\n"
     ]
    }
   ],
   "source": [
    "# Test confusion matrix\n",
    "best_t = find_best_threshold(te_thresholds, test_fpr, test_tpr)\n",
    "print(\"Test confusion matrix\")\n",
    "print(confusion_matrix(y_test, predict_with_best_t(y_test_pred, best_t)))"
   ]
  },
  {
   "cell_type": "code",
   "execution_count": 0,
   "metadata": {
    "colab": {
     "base_uri": "https://localhost:8080/",
     "height": 312
    },
    "colab_type": "code",
    "id": "NchGCK8sF1Kb",
    "outputId": "d21232dc-1880-4e8c-93b0-ec2714ff5ac0"
   },
   "outputs": [
    {
     "data": {
      "text/plain": [
       "Text(0.5, 1, 'Confusion Matrix')"
      ]
     },
     "execution_count": 244,
     "metadata": {
      "tags": []
     },
     "output_type": "execute_result"
    },
    {
     "data": {
      "image/png": "[encoded data removed]",
      "text/plain": [
       "<Figure size 432x288 with 2 Axes>"
      ]
     },
     "metadata": {
      "tags": []
     },
     "output_type": "display_data"
    }
   ],
   "source": [
    "# plotting a heatmap of a confusion matrix \n",
    "# Code from: https://stackoverflow.com/questions/35572000/how-can-i-plot-a-confusion-matrix\n",
    "\n",
    "ax= plt.subplot()\n",
    "sns.heatmap(confusion_matrix(y_test, predict_with_best_t(y_test_pred, best_t)), annot=True, ax = ax, fmt='g', cmap=\"YlGnBu\")\n",
    "ax.set_xlabel('Predicted labels')\n",
    "ax.set_ylabel('True labels')\n",
    "ax.set_title('Confusion Matrix')"
   ]
  },
  {
   "cell_type": "markdown",
   "metadata": {
    "colab_type": "text",
    "id": "Z9V8sogmHsXy"
   },
   "source": [
    "### 2.4 KNN brute force with TFIDF-W2V featurization of text data"
   ]
  },
  {
   "cell_type": "markdown",
   "metadata": {
    "colab_type": "text",
    "id": "rz9j1_MSHvfO"
   },
   "source": [
    "### 2.4.1  Determining best K using simple cross validation "
   ]
  },
  {
   "cell_type": "code",
   "execution_count": 0,
   "metadata": {
    "colab": {
     "base_uri": "https://localhost:8080/",
     "height": 629
    },
    "colab_type": "code",
    "id": "lU6RR7O4HdC6",
    "outputId": "5cb6ec10-3e1d-459f-e51e-b772b83e7111"
   },
   "outputs": [
    {
     "name": "stderr",
     "output_type": "stream",
     "text": [
      "\n",
      "\n",
      "\n",
      "  0%|          | 0/10 [00:00<?, ?it/s]\u001b[A\u001b[A\u001b[A\n",
      "\n",
      "\n",
      " 10%|█         | 1/10 [00:57<08:39, 57.75s/it]\u001b[A\u001b[A\u001b[A\n",
      "\n",
      "\n",
      " 20%|██        | 2/10 [01:57<07:46, 58.36s/it]\u001b[A\u001b[A\u001b[A\n",
      "\n",
      "\n",
      " 30%|███       | 3/10 [02:57<06:52, 58.89s/it]\u001b[A\u001b[A\u001b[A\n",
      "\n",
      "\n",
      " 40%|████      | 4/10 [03:58<05:56, 59.34s/it]\u001b[A\u001b[A\u001b[A\n",
      "\n",
      "\n",
      " 50%|█████     | 5/10 [04:58<04:58, 59.61s/it]\u001b[A\u001b[A\u001b[A\n",
      "\n",
      "\n",
      " 60%|██████    | 6/10 [05:58<03:59, 59.90s/it]\u001b[A\u001b[A\u001b[A\n",
      "\n",
      "\n",
      " 70%|███████   | 7/10 [06:59<03:00, 60.17s/it]\u001b[A\u001b[A\u001b[A\n",
      "\n",
      "\n",
      " 80%|████████  | 8/10 [08:00<02:00, 60.40s/it]\u001b[A\u001b[A\u001b[A\n",
      "\n",
      "\n",
      " 90%|█████████ | 9/10 [09:01<01:00, 60.41s/it]\u001b[A\u001b[A\u001b[A\n",
      "\n",
      "\n",
      "100%|██████████| 10/10 [10:01<00:00, 60.47s/it]\u001b[A\u001b[A\u001b[A\n",
      "\n",
      "\n",
      "\u001b[A\u001b[A\u001b[A"
     ]
    }
   ],
   "source": [
    "train_auc = []\n",
    "cv_auc = [] \n",
    "K = [3, 5, 15, 31, 51, 65, 85, 95, 101, 115] # min k causes overfitting, max k causes underfitting\n",
    "\n",
    "for i in tqdm(K):\n",
    "    neigh = KNeighborsClassifier(n_neighbors = i, algorithm='brute') # takes the k from the ith list value\n",
    "    neigh.fit(X_train_tfidfw2v, y_train) # fitting the model\n",
    "\n",
    "    # roc_auc_score(y_true, y_score) the 2nd parameter should be probability estimates of the positive class, not the predicted outputs\n",
    "    y_train_pred =  neigh.predict_proba(X_train_tfidfw2v)[:,1] #Return probability estimates for the set 1 train data, for the class label 1 or +ve\n",
    "    y_cv_pred =  neigh.predict_proba(X_cv_tfidfw2v)[:,1] #Return probability estimates for the set 1 cv data, for the class label 1 or +ve \n",
    "    \n",
    "    # ROC curve\n",
    "    # Compute Area Under the Receiver Operating Characteristic Curve (ROC AUC) from prediction scores\n",
    "    train_auc.append(roc_auc_score(y_train, y_train_pred))\n",
    "    cv_auc.append(roc_auc_score(y_cv, y_cv_pred))\n"
   ]
  },
  {
   "cell_type": "code",
   "execution_count": 0,
   "metadata": {
    "colab": {
     "base_uri": "https://localhost:8080/",
     "height": 295
    },
    "colab_type": "code",
    "id": "6g-9XNOzIcZI",
    "outputId": "2f473b5f-0686-42aa-ad95-b2420aefb382"
   },
   "outputs": [
    {
     "data": {
      "image/png": "[encoded data removed]",
      "text/plain": [
       "<Figure size 432x288 with 1 Axes>"
      ]
     },
     "metadata": {
      "tags": []
     },
     "output_type": "display_data"
    }
   ],
   "source": [
    "plt.plot(K, train_auc, label='Train AUC')\n",
    "plt.plot(K, cv_auc, label='CV AUC')\n",
    "\n",
    "plt.scatter(K, train_auc, label ='Train AUC points')\n",
    "plt.scatter(K, cv_auc, label ='CV AUC points')\n",
    "\n",
    "plt.legend()\n",
    "plt.xlabel(\"hyperparameter K\")\n",
    "plt.ylabel(\"AUC\")\n",
    "plt.title(\"ERROR PLOTS\")\n",
    "plt.show()"
   ]
  },
  {
   "cell_type": "code",
   "execution_count": 0,
   "metadata": {
    "colab": {
     "base_uri": "https://localhost:8080/",
     "height": 187
    },
    "colab_type": "code",
    "id": "fSELC7fQIofy",
    "outputId": "a0e551b3-5ae3-49a7-e4c6-d2fc89b14e5b"
   },
   "outputs": [
    {
     "name": "stdout",
     "output_type": "stream",
     "text": [
      "3 0.5615262436139188\n",
      "5 0.5710986336210914\n",
      "15 0.6128844497511404\n",
      "31 0.6390746821037874\n",
      "51 0.6479121217712666\n",
      "65 0.6528072397637615\n",
      "85 0.6566529512091854\n",
      "95 0.6578513720985872\n",
      "101 0.6592271219472082\n",
      "115 0.6624536955115466\n"
     ]
    }
   ],
   "source": [
    "for i in range(len(K)):\n",
    "    print(K[i], cv_auc[i])"
   ]
  },
  {
   "cell_type": "code",
   "execution_count": 0,
   "metadata": {
    "colab": {},
    "colab_type": "code",
    "id": "CMlU9OdDI-FH"
   },
   "outputs": [],
   "source": [
    "# best_k \n",
    "best_K_tfidfw2v = 115"
   ]
  },
  {
   "cell_type": "markdown",
   "metadata": {
    "colab_type": "text",
    "id": "ikIZ7LEgJFv9"
   },
   "source": [
    "### 2.4.2 Plotting ROC Curve"
   ]
  },
  {
   "cell_type": "code",
   "execution_count": 0,
   "metadata": {
    "colab": {
     "base_uri": "https://localhost:8080/",
     "height": 295
    },
    "colab_type": "code",
    "id": "fKxB3YCoJVPz",
    "outputId": "abfddf94-d8f2-4794-b292-7984a2d3d47b"
   },
   "outputs": [
    {
     "data": {
      "image/png": "[encoded data removed]",
      "text/plain": [
       "<Figure size 432x288 with 1 Axes>"
      ]
     },
     "metadata": {
      "tags": []
     },
     "output_type": "display_data"
    }
   ],
   "source": [
    "# plot the ROC curve using the besk K value found above \n",
    "\n",
    "neigh = KNeighborsClassifier(n_neighbors = best_K_tfidfw2v, algorithm = 'brute')\n",
    "neigh.fit(X_train_tfidfw2v, y_train)\n",
    "\n",
    "y_train_pred = neigh.predict_proba(X_train_tfidfw2v)[:,1]\n",
    "y_test_pred = neigh.predict_proba(X_test_tfidfw2v)[:,1]\n",
    "\n",
    "train_fpr, train_tpr, tr_thresholds = roc_curve(y_train, y_train_pred)\n",
    "test_fpr, test_tpr, te_thresholds = roc_curve(y_test, y_test_pred)\n",
    "\n",
    "plt.plot(train_fpr, train_tpr, label=\"train AUC = \"+ str(auc(train_fpr, train_tpr)))\n",
    "plt.plot(test_fpr, test_tpr, label=\"test AUC = \"+ str(auc(test_fpr, test_tpr)))\n",
    "plt.ylabel(\"True Positive Rate(TPR)\")\n",
    "plt.xlabel(\"False Positive Rate(FPR)\")\n",
    "plt.title(\"ROC PLOTS\")\n",
    "plt.legend()\n",
    "plt.show()"
   ]
  },
  {
   "cell_type": "markdown",
   "metadata": {
    "colab_type": "text",
    "id": "J01dyVrkLXx-"
   },
   "source": [
    "#### 2.4.3 Confusion Matrix\n"
   ]
  },
  {
   "cell_type": "markdown",
   "metadata": {
    "colab_type": "text",
    "id": "x5sP-6DkQWai"
   },
   "source": [
    "A. Train Confusion Matrix"
   ]
  },
  {
   "cell_type": "code",
   "execution_count": 0,
   "metadata": {
    "colab": {
     "base_uri": "https://localhost:8080/",
     "height": 85
    },
    "colab_type": "code",
    "id": "EEFeRmuQLgeO",
    "outputId": "123400ec-172e-4871-a3a3-87d1ed28bf45"
   },
   "outputs": [
    {
     "name": "stdout",
     "output_type": "stream",
     "text": [
      "the maximum value of tpr*(1-fpr) 0.424288433828595 for threshold 0.843\n",
      "Train confusion matrix\n",
      "[[ 2220  1218]\n",
      " [ 6518 12489]]\n"
     ]
    }
   ],
   "source": [
    "# train confusion matrix\n",
    "best_t = find_best_threshold(tr_thresholds, train_fpr, train_tpr)\n",
    "print(\"Train confusion matrix\")\n",
    "print(confusion_matrix(y_train, predict_with_best_t(y_train_pred, best_t)))"
   ]
  },
  {
   "cell_type": "code",
   "execution_count": 0,
   "metadata": {
    "colab": {
     "base_uri": "https://localhost:8080/",
     "height": 312
    },
    "colab_type": "code",
    "id": "OLF9-VK5MBkY",
    "outputId": "7f56b6f3-afac-42a1-ad6e-6551991afcae"
   },
   "outputs": [
    {
     "data": {
      "text/plain": [
       "Text(0.5, 1, 'Confusion Matrix')"
      ]
     },
     "execution_count": 261,
     "metadata": {
      "tags": []
     },
     "output_type": "execute_result"
    },
    {
     "data": {
      "image/png": "[encoded data removed]",
      "text/plain": [
       "<Figure size 432x288 with 2 Axes>"
      ]
     },
     "metadata": {
      "tags": []
     },
     "output_type": "display_data"
    }
   ],
   "source": [
    "# Visualizing confusion matrix using Seaborn heatmap\n",
    "# reference -> https://stackoverflow.com/questions/35572000/how-can-i-plot-a-confusion-matrix\n",
    "\n",
    "ax= plt.subplot()\n",
    "sns.heatmap(confusion_matrix(y_train, predict_with_best_t(y_train_pred, best_t)), annot=True, ax = ax, fmt='g', cmap=\"YlGnBu\")\n",
    "ax.set_xlabel('Predicted labels')\n",
    "ax.set_ylabel('True labels')\n",
    "ax.set_title('Confusion Matrix')"
   ]
  },
  {
   "cell_type": "markdown",
   "metadata": {
    "colab_type": "text",
    "id": "GrufKkBUMCvD"
   },
   "source": [
    "B. Test Confusion Matrix "
   ]
  },
  {
   "cell_type": "code",
   "execution_count": 0,
   "metadata": {
    "colab": {
     "base_uri": "https://localhost:8080/",
     "height": 85
    },
    "colab_type": "code",
    "id": "AxjTRy5_MHvd",
    "outputId": "48a43a56-49a0-4dbe-eba0-89a2c030b99f"
   },
   "outputs": [
    {
     "name": "stdout",
     "output_type": "stream",
     "text": [
      "the maximum value of tpr*(1-fpr) 0.3833270966271631 for threshold 0.852\n",
      "Test confusion matrix\n",
      "[[1628  899]\n",
      " [5659 8314]]\n"
     ]
    }
   ],
   "source": [
    "# test confusion matrix\n",
    "best_t = find_best_threshold(te_thresholds, test_fpr, test_tpr)\n",
    "print(\"Test confusion matrix\")\n",
    "print(confusion_matrix(y_test, predict_with_best_t(y_test_pred, best_t)))"
   ]
  },
  {
   "cell_type": "code",
   "execution_count": 0,
   "metadata": {
    "colab": {
     "base_uri": "https://localhost:8080/",
     "height": 312
    },
    "colab_type": "code",
    "id": "d00eKJklMv4L",
    "outputId": "8c8238ca-ab99-4c3f-d82f-247588b4d050"
   },
   "outputs": [
    {
     "data": {
      "text/plain": [
       "Text(0.5, 1, 'Confusion Matrix')"
      ]
     },
     "execution_count": 263,
     "metadata": {
      "tags": []
     },
     "output_type": "execute_result"
    },
    {
     "data": {
      "image/png": "[encoded data removed]",
      "text/plain": [
       "<Figure size 432x288 with 2 Axes>"
      ]
     },
     "metadata": {
      "tags": []
     },
     "output_type": "display_data"
    }
   ],
   "source": [
    "# Visualizing confusion matrix using Seaborn heatmap\n",
    "ax= plt.subplot()\n",
    "sns.heatmap(confusion_matrix(y_test, predict_with_best_t(y_test_pred, best_t)), annot=True, ax = ax, fmt='g', cmap=\"YlGnBu\")\n",
    "ax.set_xlabel('Predicted labels')\n",
    "ax.set_ylabel('True labels')\n",
    "ax.set_title('Confusion Matrix')"
   ]
  },
  {
   "cell_type": "markdown",
   "metadata": {},
   "source": [
    "It is observed that, \n",
    "\n",
    "* Among Set 3 model (AVG-W2V) and Set 4 model (TFIDF weighted W2V), TFIDF-W2V vectorized model performs better in reducing False postives. \n",
    "\n",
    "\n",
    "* For this problem, our concern was reducing the false postives. If the focus would have been reducing False negatives, then we would have gone with the AVG-W2V (Set 2) model as it gives less false negatives and consequently more True positives! "
   ]
  },
  {
   "cell_type": "markdown",
   "metadata": {
    "colab_type": "text",
    "id": "6UjU5zi8ROTD"
   },
   "source": [
    "### 2.5 Feature selection with `SelectKBest`\n",
    "KNN brute force on TFIDF vectorized data (set 2)"
   ]
  },
  {
   "cell_type": "code",
   "execution_count": 0,
   "metadata": {
    "colab": {},
    "colab_type": "code",
    "id": "63-SImX3TJyN"
   },
   "outputs": [],
   "source": [
    "from sklearn.datasets import load_digits\n",
    "from sklearn.feature_selection import SelectKBest, f_classif, chi2\n",
    "\n",
    "# https://scikit-learn.org/stable/modules/generated/sklearn.feature_selection.SelectKBest.html\n",
    "\n",
    "# If some of the features have negative value then avoid using Pearson's Chi-square. \n",
    "# Instead pick another statistic to score your features: sklearn.feature_selection.f_classif computes ANOVA f-value\n",
    "\n",
    "# Get the 1500 best features\n",
    "X_train_tfidf_new = SelectKBest(f_classif, k = 1500).fit_transform(X_train_tfidf, y_train)\n",
    "X_cv_tfidf_new = SelectKBest(f_classif, k = 1500).fit_transform(X_cv_tfidf, y_cv)\n",
    "X_test_tfidf_new = SelectKBest(f_classif, k = 1500).fit_transform(X_test_tfidf, y_test)"
   ]
  },
  {
   "cell_type": "markdown",
   "metadata": {
    "colab_type": "text",
    "id": "5qjd2ImoYed5"
   },
   "source": [
    "#### 2.5.1 Determinine best K "
   ]
  },
  {
   "cell_type": "code",
   "execution_count": 0,
   "metadata": {
    "colab": {
     "base_uri": "https://localhost:8080/",
     "height": 629
    },
    "colab_type": "code",
    "id": "igPO5m7JYNtp",
    "outputId": "b9da1142-70ce-4640-952f-80a810fcf4d7"
   },
   "outputs": [
    {
     "name": "stderr",
     "output_type": "stream",
     "text": [
      "\n",
      "\n",
      "\n",
      "  0%|          | 0/10 [00:00<?, ?it/s]\u001b[A\u001b[A\u001b[A\n",
      "\n",
      "\n",
      " 10%|█         | 1/10 [00:40<06:03, 40.40s/it]\u001b[A\u001b[A\u001b[A\n",
      "\n",
      "\n",
      " 20%|██        | 2/10 [01:26<05:36, 42.06s/it]\u001b[A\u001b[A\u001b[A\n",
      "\n",
      "\n",
      " 30%|███       | 3/10 [02:12<05:04, 43.44s/it]\u001b[A\u001b[A\u001b[A\n",
      "\n",
      "\n",
      " 40%|████      | 4/10 [02:59<04:26, 44.36s/it]\u001b[A\u001b[A\u001b[A\n",
      "\n",
      "\n",
      " 50%|█████     | 5/10 [03:46<03:45, 45.12s/it]\u001b[A\u001b[A\u001b[A\n",
      "\n",
      "\n",
      " 60%|██████    | 6/10 [04:32<03:02, 45.57s/it]\u001b[A\u001b[A\u001b[A\n",
      "\n",
      "\n",
      " 70%|███████   | 7/10 [05:19<02:17, 45.80s/it]\u001b[A\u001b[A\u001b[A\n",
      "\n",
      "\n",
      " 80%|████████  | 8/10 [06:05<01:31, 45.99s/it]\u001b[A\u001b[A\u001b[A\n",
      "\n",
      "\n",
      " 90%|█████████ | 9/10 [06:52<00:46, 46.15s/it]\u001b[A\u001b[A\u001b[A\n",
      "\n",
      "\n",
      "100%|██████████| 10/10 [07:38<00:00, 46.27s/it]\u001b[A\u001b[A\u001b[A\n",
      "\n",
      "\n",
      "\u001b[A\u001b[A\u001b[A"
     ]
    }
   ],
   "source": [
    "train_auc = []\n",
    "cv_auc = [] \n",
    "K = [3, 5, 15, 31, 51, 65, 85, 95, 101, 115] # min k causes overfitting, max k causes underfitting\n",
    "\n",
    "for i in tqdm(K):\n",
    "    neigh = KNeighborsClassifier(n_neighbors = i, algorithm = 'brute') # takes the k from the ith list value\n",
    "    neigh.fit(X_train_tfidf_new, y_train) # fitting the model\n",
    "\n",
    "    # roc_auc_score(y_true, y_score) the 2nd parameter should be probability estimates of the positive class, not the predicted outputs\n",
    "    y_train_pred =  neigh.predict_proba(X_train_tfidf_new)[:,1] #Return probability estimates for the set 1 train data, for the class label 1 or +ve\n",
    "    y_cv_pred =  neigh.predict_proba(X_cv_tfidf_new)[:,1] #Return probability estimates for the set 1 cv data, for the class label 1 or +ve \n",
    "    \n",
    "    # ROC curve\n",
    "    # Compute Area Under the Receiver Operating Characteristic Curve (ROC AUC) from prediction scores\n",
    "    train_auc.append(roc_auc_score(y_train, y_train_pred))\n",
    "    cv_auc.append(roc_auc_score(y_cv, y_cv_pred))\n"
   ]
  },
  {
   "cell_type": "code",
   "execution_count": 0,
   "metadata": {
    "colab": {
     "base_uri": "https://localhost:8080/",
     "height": 295
    },
    "colab_type": "code",
    "id": "o15kzpTgZXwU",
    "outputId": "89d4bbcc-276d-433d-a7ec-8b2ac91480d0"
   },
   "outputs": [
    {
     "data": {
      "image/png": "[encoded data removed]",
      "text/plain": [
       "<Figure size 432x288 with 1 Axes>"
      ]
     },
     "metadata": {
      "tags": []
     },
     "output_type": "display_data"
    }
   ],
   "source": [
    "plt.plot(K, train_auc, label='Train AUC')\n",
    "plt.plot(K, cv_auc, label='CV AUC')\n",
    "\n",
    "plt.scatter(K, train_auc, label ='Train AUC points')\n",
    "plt.scatter(K, cv_auc, label ='CV AUC points')\n",
    "\n",
    "plt.legend()\n",
    "plt.xlabel(\"hyperparameter K\")\n",
    "plt.ylabel(\"AUC\")\n",
    "plt.title(\"ERROR PLOTS\")\n",
    "plt.show()"
   ]
  },
  {
   "cell_type": "code",
   "execution_count": 0,
   "metadata": {
    "colab": {
     "base_uri": "https://localhost:8080/",
     "height": 187
    },
    "colab_type": "code",
    "id": "kGBSFDTtZo95",
    "outputId": "0e841bc3-13a0-4255-dfff-27a7d1167820"
   },
   "outputs": [
    {
     "name": "stdout",
     "output_type": "stream",
     "text": [
      "3 0.5432278751538543\n",
      "5 0.5442394132656438\n",
      "15 0.5149322713102806\n",
      "31 0.48789534362656883\n",
      "51 0.4719542143185693\n",
      "65 0.47895117235756834\n",
      "85 0.4840249436009407\n",
      "95 0.4877224920343857\n",
      "101 0.48827554145556307\n",
      "115 0.4803439172824728\n"
     ]
    }
   ],
   "source": [
    "for i in range(len(K)):\n",
    "    print(K[i], cv_auc[i])"
   ]
  },
  {
   "cell_type": "code",
   "execution_count": 0,
   "metadata": {
    "colab": {},
    "colab_type": "code",
    "id": "vDysBQ85Zu5I"
   },
   "outputs": [],
   "source": [
    "# best_k\n",
    "best_K_tfidf_feat = 5"
   ]
  },
  {
   "cell_type": "markdown",
   "metadata": {
    "colab_type": "text",
    "id": "rhh_05XjaD_O"
   },
   "source": [
    "#### 2.5.2 Plotting ROC Curve"
   ]
  },
  {
   "cell_type": "code",
   "execution_count": 0,
   "metadata": {
    "colab": {
     "base_uri": "https://localhost:8080/",
     "height": 295
    },
    "colab_type": "code",
    "id": "dIJV689wZ9W9",
    "outputId": "e2da3836-b170-4521-c69a-c81fa210794c"
   },
   "outputs": [
    {
     "data": {
      "image/png": "[encoded data removed]",
      "text/plain": [
       "<Figure size 432x288 with 1 Axes>"
      ]
     },
     "metadata": {
      "tags": []
     },
     "output_type": "display_data"
    }
   ],
   "source": [
    "# plot the ROC curve using the besk K value found above \n",
    "# https://scikit-learn.org/stable/modules/generated/sklearn.metrics.roc_curve.html#sklearn.metrics.roc_curve\n",
    "\n",
    "neigh = KNeighborsClassifier(n_neighbors = best_K_tfidf_feat, algorithm = 'brute')\n",
    "neigh.fit(X_train_tfidf_new, y_train)\n",
    "# roc_auc_score(y_true, y_score) the 2nd parameter should be probability estimates of the positive class not the predicted outputs\n",
    "\n",
    "y_train_pred = neigh.predict_proba(X_train_tfidf_new)[:,1]\n",
    "y_test_pred = neigh.predict_proba(X_test_tfidf_new)[:,1]\n",
    "\n",
    "train_fpr, train_tpr, tr_thresholds = roc_curve(y_train, y_train_pred)\n",
    "test_fpr, test_tpr, te_thresholds = roc_curve(y_test, y_test_pred)\n",
    "\n",
    "plt.plot(train_fpr, train_tpr, label=\"train AUC = \"+ str(auc(train_fpr, train_tpr)))\n",
    "plt.plot(test_fpr, test_tpr, label=\"test AUC = \"+ str(auc(test_fpr, test_tpr)))\n",
    "plt.ylabel(\"True Positive Rate(TPR)\")\n",
    "plt.xlabel(\"False Positive Rate(FPR)\")\n",
    "plt.title(\"ROC PLOTS\")\n",
    "plt.legend()\n",
    "plt.show()"
   ]
  },
  {
   "cell_type": "markdown",
   "metadata": {
    "colab_type": "text",
    "id": "IX37uIDgchgt"
   },
   "source": [
    "#### 2.5.3 Confusion Matrix"
   ]
  },
  {
   "cell_type": "markdown",
   "metadata": {
    "colab_type": "text",
    "id": "5QgIJNz_c1BD"
   },
   "source": [
    "A. Train Confusion Matrix"
   ]
  },
  {
   "cell_type": "code",
   "execution_count": 0,
   "metadata": {
    "colab": {
     "base_uri": "https://localhost:8080/",
     "height": 85
    },
    "colab_type": "code",
    "id": "SHnZMPNec4cu",
    "outputId": "5b4767eb-4100-46da-de8f-c6d4a7113416"
   },
   "outputs": [
    {
     "name": "stdout",
     "output_type": "stream",
     "text": [
      "the maximum value of tpr*(1-fpr) 0.6066186141947704 for threshold 1.0\n",
      "Train confusion matrix\n",
      "[[ 3438     0]\n",
      " [ 7477 11530]]\n"
     ]
    }
   ],
   "source": [
    "# Train confusion matrix\n",
    "best_t = find_best_threshold(tr_thresholds, train_fpr, train_tpr)\n",
    "print(\"Train confusion matrix\")\n",
    "print(confusion_matrix(y_train, predict_with_best_t(y_train_pred, best_t)))"
   ]
  },
  {
   "cell_type": "code",
   "execution_count": 0,
   "metadata": {
    "colab": {
     "base_uri": "https://localhost:8080/",
     "height": 312
    },
    "colab_type": "code",
    "id": "of39WRKwdB8j",
    "outputId": "760f158f-58d2-464a-a03b-3de2b294cd97"
   },
   "outputs": [
    {
     "data": {
      "text/plain": [
       "Text(0.5, 1, 'Confusion Matrix')"
      ]
     },
     "execution_count": 277,
     "metadata": {
      "tags": []
     },
     "output_type": "execute_result"
    },
    {
     "data": {
      "image/png": "[encoded data removed]",
      "text/plain": [
       "<Figure size 432x288 with 2 Axes>"
      ]
     },
     "metadata": {
      "tags": []
     },
     "output_type": "display_data"
    }
   ],
   "source": [
    "# Visualizing confusion matrix using Seaborn heatmap\n",
    "# reference -> https://stackoverflow.com/questions/35572000/how-can-i-plot-a-confusion-matrix\n",
    "ax= plt.subplot()\n",
    "sns.heatmap(confusion_matrix(y_train, predict_with_best_t(y_train_pred, best_t)), annot=True, ax = ax, fmt='g', cmap=\"YlGnBu\")\n",
    "ax.set_xlabel('Predicted labels')\n",
    "ax.set_ylabel('True labels')\n",
    "ax.set_title('Confusion Matrix')"
   ]
  },
  {
   "cell_type": "markdown",
   "metadata": {
    "colab_type": "text",
    "id": "HpNwXwcRdDa0"
   },
   "source": [
    "B. Test Confusion Matrix"
   ]
  },
  {
   "cell_type": "code",
   "execution_count": 0,
   "metadata": {
    "colab": {
     "base_uri": "https://localhost:8080/",
     "height": 85
    },
    "colab_type": "code",
    "id": "TYjXHZgBdOQh",
    "outputId": "dc73183f-0fcf-4583-f692-e23c23c9e2a5"
   },
   "outputs": [
    {
     "name": "stdout",
     "output_type": "stream",
     "text": [
      "the maximum value of tpr*(1-fpr) 0.23313433553562274 for threshold 1.0\n",
      "Test confusion matrix\n",
      "[[1720  807]\n",
      " [9187 4786]]\n"
     ]
    }
   ],
   "source": [
    "# Test confusion matrix\n",
    "best_t = find_best_threshold(te_thresholds, test_fpr, test_tpr)\n",
    "print(\"Test confusion matrix\")\n",
    "print(confusion_matrix(y_test, predict_with_best_t(y_test_pred, best_t)))"
   ]
  },
  {
   "cell_type": "code",
   "execution_count": 0,
   "metadata": {
    "colab": {
     "base_uri": "https://localhost:8080/",
     "height": 312
    },
    "colab_type": "code",
    "id": "NbCaq7_mdhEh",
    "outputId": "7d2fb938-db33-4fdf-8423-44543e80d5ba"
   },
   "outputs": [
    {
     "data": {
      "text/plain": [
       "Text(0.5, 1, 'Confusion Matrix')"
      ]
     },
     "execution_count": 279,
     "metadata": {
      "tags": []
     },
     "output_type": "execute_result"
    },
    {
     "data": {
      "image/png": "[encoded data removed]",
      "text/plain": [
       "<Figure size 432x288 with 2 Axes>"
      ]
     },
     "metadata": {
      "tags": []
     },
     "output_type": "display_data"
    }
   ],
   "source": [
    "# plotting a heatmap of a confusion matrix \n",
    "\n",
    "ax= plt.subplot()\n",
    "sns.heatmap(confusion_matrix(y_test, predict_with_best_t(y_test_pred, best_t)), annot=True, ax = ax, fmt='g', cmap=\"YlGnBu\")\n",
    "ax.set_xlabel('Predicted labels')\n",
    "ax.set_ylabel('True labels')\n",
    "ax.set_title('Confusion Matrix')"
   ]
  },
  {
   "cell_type": "markdown",
   "metadata": {
    "colab_type": "text",
    "id": "ppwMdNjdO7rY"
   },
   "source": [
    "## 3. Conclusion"
   ]
  },
  {
   "cell_type": "code",
   "execution_count": 0,
   "metadata": {
    "colab": {
     "base_uri": "https://localhost:8080/",
     "height": 170
    },
    "colab_type": "code",
    "id": "-Rvui-zvO-sl",
    "outputId": "4ba3c5c3-5b0e-428f-dd91-90f7f1411678"
   },
   "outputs": [
    {
     "name": "stdout",
     "output_type": "stream",
     "text": [
      "+-------------+-----------+----------------+-----------+\n",
      "|  Vectorizer |   Model   | Hyperparameter | AUC_Score |\n",
      "+-------------+-----------+----------------+-----------+\n",
      "|     BOW     | Brute KNN |       95       |   0.667   |\n",
      "|    TF-IDF   | Brute KNN |       65       |   0.629   |\n",
      "|   AVG-W2V   | Brute KNN |       85       |   0.658   |\n",
      "|  TFIDF-W2v  | Brute KNN |      115       |   0.665   |\n",
      "| TFIDF KBest | Brute KNN |       5        |   0.513   |\n",
      "+-------------+-----------+----------------+-----------+\n"
     ]
    }
   ],
   "source": [
    "# Comparision of all models using Prettytable library\n",
    "# http://zetcode.com/python/prettytable/\n",
    "\n",
    "from prettytable import PrettyTable\n",
    "\n",
    "table = PrettyTable()\n",
    "table.field_names = (\"Vectorizer\", \"Model\", \"Hyperparameter\" ,\"AUC_Score\")\n",
    "table.add_row([\"BOW\", \"Brute KNN\", 95, 0.667])\n",
    "table.add_row([\"TF-IDF\", \"Brute KNN\", 65, 0.629])\n",
    "table.add_row([\"AVG-W2V\", \"Brute KNN\", 85, 0.658])\n",
    "table.add_row([\"TFIDF-W2v\", \"Brute KNN\", 115, 0.665])\n",
    "table.add_row([\"TFIDF KBest\", \"Brute KNN\", 5, 0.513])\n",
    "\n",
    "print(table)"
   ]
  },
  {
   "cell_type": "markdown",
   "metadata": {
    "colab_type": "text",
    "id": "T0W480Bqiw_H"
   },
   "source": [
    "By comparing the AUC Scores, we can say that for the given dataset, the model employing BOW Vectorization and the model employing TFIDF-W2V are the best models as they have nearly same highest AUC_Score of 0.667 and 0.665 respectively. "
   ]
  },
  {
   "cell_type": "markdown",
   "metadata": {
    "colab_type": "text",
    "id": "4E1WcuOKkkCb"
   },
   "source": [
    "We had performed this analysis & prediction on the 50k datapoints randomly sampled from the set of 109k datapoints. The performance can be further improved to by considering more datapoints, and features(to some extent).  "
   ]
  }
 ],
 "metadata": {
  "colab": {
   "name": "untitled0.ipynb",
   "provenance": []
  },
  "kernelspec": {
   "display_name": "Python 3",
   "language": "python",
   "name": "python3"
  },
  "language_info": {
   "codemirror_mode": {
    "name": "ipython",
    "version": 3
   },
   "file_extension": ".py",
   "mimetype": "text/x-python",
   "name": "python",
   "nbconvert_exporter": "python",
   "pygments_lexer": "ipython3",
   "version": "3.7.3"
  }
 },
 "nbformat": 4,
 "nbformat_minor": 1
}
